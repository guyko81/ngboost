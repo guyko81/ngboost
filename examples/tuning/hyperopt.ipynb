{
 "cells": [
  {
   "cell_type": "markdown",
   "metadata": {},
   "source": [
    "# Distributed Asynchronous Hyper-parameter Optimization with NGBoost\n",
    "\n",
    "## Notes on Hyperopt\n",
    "\n",
    "Hyperopt will allow us to intelligently narrow our search space over traditional methods like grid search in sklearn and thus save runtime when tuning our NGBoost model.\n",
    "\n",
    "Original Article:\n",
    "\n",
    "*Bergstra, J., Yamins, D., Cox, D. D. (2013) Making a Science of Model Search: Hyperparameter Optimization in Hundreds of Dimensions for Vision Architectures. To appear in Proc. of the 30th International Conference on Machine Learning (ICML 2013).*\n",
    "\n",
    "For install instructions and more information on how Hyperopt works click [here](http://hyperopt.github.io/hyperopt/)\n"
   ]
  },
  {
   "cell_type": "markdown",
   "metadata": {},
   "source": [
    "## Import Dependencies"
   ]
  },
  {
   "cell_type": "code",
   "execution_count": 102,
   "metadata": {},
   "outputs": [],
   "source": [
    "from sklearn.datasets import load_boston\n",
    "from sklearn.model_selection import train_test_split\n",
    "from sklearn.metrics import mean_squared_error\n",
    "from ngboost.ngboost import NGBoost\n",
    "from ngboost.learners import default_tree_learner\n",
    "from ngboost.distns import Normal\n",
    "from ngboost.scores import MLE\n",
    "from ngboost import NGBRegressor\n",
    "from sklearn.tree import DecisionTreeRegressor\n",
    "from sklearn.metrics import median_absolute_error, mean_absolute_error, mean_squared_error\n",
    "from hyperopt import hp, tpe, space_eval\n",
    "from hyperopt.pyll.base import scope\n",
    "from hyperopt.fmin import fmin\n",
    "from hyperopt import STATUS_OK, Trials\n",
    "import pandas as pd\n",
    "import seaborn as sns\n",
    "import matplotlib.pyplot as plt\n",
    "import warnings\n",
    "import logging"
   ]
  },
  {
   "cell_type": "markdown",
   "metadata": {},
   "source": [
    "## Setup basic logging"
   ]
  },
  {
   "cell_type": "code",
   "execution_count": 103,
   "metadata": {},
   "outputs": [],
   "source": [
    "logging.basicConfig(\n",
    "    # filename = \"errors.log\",\n",
    "    format='%(asctime)s %(levelname)-8s %(message)s',\n",
    "    level=logging.INFO,\n",
    "    datefmt='%Y-%m-%d %H:%M:%S')\n",
    "logger = logging.getLogger()"
   ]
  },
  {
   "cell_type": "markdown",
   "metadata": {},
   "source": [
    "## Load the Boston Housing Dataset\n",
    "\n",
    "For this example we will be splitting the dataset into train/test/validation sets"
   ]
  },
  {
   "cell_type": "code",
   "execution_count": 104,
   "metadata": {},
   "outputs": [
    {
     "name": "stdout",
     "output_type": "stream",
     "text": [
      "train: 0.6% | validation: 0.2% | test 0.2%\n"
     ]
    }
   ],
   "source": [
    "boston = load_boston()\n",
    "data = boston.data\n",
    "target = boston.target\n",
    "\n",
    "X_intermediate, X_test, y_intermediate, y_test = train_test_split(data, \n",
    "                                                                  target, \n",
    "                                                                  shuffle=True,\n",
    "                                                                  test_size=0.2, \n",
    "                                                                  random_state=1)\n",
    "\n",
    "# train/validation split (gives us train and validation sets)\n",
    "X_train, X_validation, y_train, y_validation = train_test_split(X_intermediate,\n",
    "                                                                y_intermediate,\n",
    "                                                                shuffle=False,\n",
    "                                                                test_size=0.25,\n",
    "                                                                random_state=1)\n",
    "\n",
    "# delete intermediate variables\n",
    "del X_intermediate, y_intermediate\n",
    "\n",
    "# print proportions\n",
    "print('train: {}% | validation: {}% | test {}%'.format(round(len(y_train)/len(target),2),\n",
    "                                                       round(len(y_validation)/len(target),2),\n",
    "                                                       round(len(y_test)/len(target),2)))"
   ]
  },
  {
   "cell_type": "markdown",
   "metadata": {},
   "source": [
    "## Setup the Hyper-Parameters to test\n",
    "\n",
    "Note:\n",
    "- hp.choice selects from the provided list\n",
    "- hp.uniform will iterate at random over the range provided like .05 to 1"
   ]
  },
  {
   "cell_type": "code",
   "execution_count": 105,
   "metadata": {},
   "outputs": [],
   "source": [
    "b1 = DecisionTreeRegressor(criterion='friedman_mse', max_depth=2)\n",
    "b2 = DecisionTreeRegressor(criterion='friedman_mse', max_depth=3)\n",
    "b3 = DecisionTreeRegressor(criterion='friedman_mse', max_depth=4)\n",
    "\n",
    "space = {\n",
    "    'learning_rate':hp.uniform('learning_rate', .05, 1),\n",
    "    'minibatch_frac':hp.choice('minibatch_frac', [1.0, 0.5]),\n",
    "    'Base':hp.choice('Base', [b1, b2, b3])\n",
    "}\n",
    "\n",
    "default_params = {\"n_estimators\":20,\n",
    "                  \"verbose_eval\":1,\n",
    "                  \"random_state\":1}"
   ]
  },
  {
   "cell_type": "markdown",
   "metadata": {},
   "source": [
    "## Setup the model to be tested and log the loss for each test\n",
    "\n",
    "Note: This example uses early stopping\n",
    "\n",
    "This objective will log the loss of the best iteration among each pass (n_estimators) using best_val_loss_itr from the NGBRegressor object"
   ]
  },
  {
   "cell_type": "code",
   "execution_count": 106,
   "metadata": {},
   "outputs": [],
   "source": [
    "def objective(params):\n",
    "    \n",
    "    params.update(default_params)\n",
    "    \n",
    "    print(params)\n",
    "    ngb = NGBRegressor(**params).fit(X_train,y_train,X_val=X_validation, Y_val=y_validation, early_stopping_rounds=2)\n",
    "    loss = ngb.evals_result['val']['LOGSCORE'][ngb.best_val_loss_itr]\n",
    "    logger.info(params)\n",
    "    results = {'loss':loss, 'status':STATUS_OK}\n",
    "    \n",
    "    return results"
   ]
  },
  {
   "cell_type": "markdown",
   "metadata": {},
   "source": [
    "## Run tuning\n",
    "\n",
    "We can modify max_evals here to adjust how many differnt sets of hyper-parameters we want to test"
   ]
  },
  {
   "cell_type": "code",
   "execution_count": 107,
   "metadata": {},
   "outputs": [
    {
     "name": "stderr",
     "output_type": "stream",
     "text": [
      "2020-07-15 09:27:19 INFO     Start parameter optimization...\n"
     ]
    },
    {
     "name": "stdout",
     "output_type": "stream",
     "text": [
      "\r",
      "  0%|          | 0/100 [00:00<?, ?trial/s, best loss=?]"
     ]
    },
    {
     "name": "stderr",
     "output_type": "stream",
     "text": [
      "2020-07-15 09:27:19 INFO     build_posterior_wrapper took 0.001168 seconds\n",
      "2020-07-15 09:27:19 INFO     TPE using 0 trials\n"
     ]
    },
    {
     "name": "stdout",
     "output_type": "stream",
     "text": [
      "{'Base': DecisionTreeRegressor(criterion='friedman_mse', max_depth=2), 'learning_rate': 0.5941063569670545, 'minibatch_frac': 1.0, 'n_estimators': 20, 'verbose_eval': 1, 'random_state': 1}\n",
      "[iter 0] loss=3.5985 val_loss=3.3655 scale=0.5000 norm=3.2975\n",
      "[iter 1] loss=3.3340 val_loss=3.1571 scale=1.0000 norm=5.2266\n",
      "[iter 2] loss=3.0992 val_loss=2.8915 scale=2.0000 norm=7.6599\n",
      "[iter 3] loss=2.7901 val_loss=2.8704 scale=2.0000 norm=5.7775\n",
      "[iter 4] loss=2.6825 val_loss=2.8907 scale=1.0000 norm=2.7723\n",
      "[iter 5] loss=2.5984 val_loss=2.8398 scale=1.0000 norm=2.6167\n",
      "[iter 6] loss=2.5280 val_loss=2.8934 scale=1.0000 norm=2.5098\n",
      "== Early stopping achieved.                            \n",
      "== Best iteration / VAL 5 (val_loss=2.8398)            \n",
      "  0%|          | 0/100 [00:00<?, ?trial/s, best loss=?]"
     ]
    },
    {
     "name": "stderr",
     "output_type": "stream",
     "text": [
      "2020-07-15 09:27:19 INFO     {'Base': DecisionTreeRegressor(criterion='friedman_mse', max_depth=2), 'learning_rate': 0.5941063569670545, 'minibatch_frac': 1.0, 'n_estimators': 20, 'verbose_eval': 1, 'random_state': 1}\n",
      "2020-07-15 09:27:19 INFO     build_posterior_wrapper took 0.001143 seconds\n",
      "2020-07-15 09:27:19 INFO     TPE using 1/1 trials with best loss 2.839850\n"
     ]
    },
    {
     "name": "stdout",
     "output_type": "stream",
     "text": [
      "{'Base': DecisionTreeRegressor(criterion='friedman_mse', max_depth=4), 'learning_rate': 0.5842120104778685, 'minibatch_frac': 0.5, 'n_estimators': 20, 'verbose_eval': 1, 'random_state': 1}\n",
      "[iter 0] loss=3.5549 val_loss=3.3733 scale=0.5000 norm=3.2303                    \n",
      "[iter 1] loss=3.2594 val_loss=3.1281 scale=1.0000 norm=4.6984                    \n",
      "[iter 2] loss=3.0548 val_loss=2.9633 scale=2.0000 norm=6.3421                    \n",
      "[iter 3] loss=2.6681 val_loss=3.4855 scale=2.0000 norm=4.6513                    \n",
      "== Early stopping achieved.                                                      \n",
      "== Best iteration / VAL 2 (val_loss=2.9633)                                      \n",
      "  1%|          | 1/100 [00:00<00:16,  6.17trial/s, best loss: 2.8398496647274536]"
     ]
    },
    {
     "name": "stderr",
     "output_type": "stream",
     "text": [
      "2020-07-15 09:27:19 INFO     {'Base': DecisionTreeRegressor(criterion='friedman_mse', max_depth=4), 'learning_rate': 0.5842120104778685, 'minibatch_frac': 0.5, 'n_estimators': 20, 'verbose_eval': 1, 'random_state': 1}\n"
     ]
    },
    {
     "name": "stdout",
     "output_type": "stream",
     "text": [
      "\r",
      "  2%|▏         | 2/100 [00:00<00:08, 12.25trial/s, best loss: 2.8398496647274536]"
     ]
    },
    {
     "name": "stderr",
     "output_type": "stream",
     "text": [
      "2020-07-15 09:27:19 INFO     build_posterior_wrapper took 0.001259 seconds\n",
      "2020-07-15 09:27:19 INFO     TPE using 2/2 trials with best loss 2.839850\n"
     ]
    },
    {
     "name": "stdout",
     "output_type": "stream",
     "text": [
      "{'Base': DecisionTreeRegressor(criterion='friedman_mse', max_depth=4), 'learning_rate': 0.6659715761774202, 'minibatch_frac': 1.0, 'n_estimators': 20, 'verbose_eval': 1, 'random_state': 1}\n",
      "[iter 0] loss=3.5985 val_loss=3.3231 scale=0.5000 norm=3.2975                    \n",
      "[iter 1] loss=3.2640 val_loss=3.0353 scale=1.0000 norm=4.7665                    \n",
      "[iter 2] loss=2.9646 val_loss=2.5867 scale=2.0000 norm=5.2371                    \n",
      "[iter 3] loss=2.4969 val_loss=2.7354 scale=2.0000 norm=3.7689                    \n",
      "== Early stopping achieved.                                                      \n",
      "== Best iteration / VAL 2 (val_loss=2.5867)                                      \n",
      "  2%|▏         | 2/100 [00:00<00:08, 12.25trial/s, best loss: 2.8398496647274536]"
     ]
    },
    {
     "name": "stderr",
     "output_type": "stream",
     "text": [
      "2020-07-15 09:27:19 INFO     {'Base': DecisionTreeRegressor(criterion='friedman_mse', max_depth=4), 'learning_rate': 0.6659715761774202, 'minibatch_frac': 1.0, 'n_estimators': 20, 'verbose_eval': 1, 'random_state': 1}\n",
      "2020-07-15 09:27:19 INFO     build_posterior_wrapper took 0.001225 seconds\n",
      "2020-07-15 09:27:19 INFO     TPE using 3/3 trials with best loss 2.586701\n"
     ]
    },
    {
     "name": "stdout",
     "output_type": "stream",
     "text": [
      "{'Base': DecisionTreeRegressor(criterion='friedman_mse', max_depth=4), 'learning_rate': 0.6408192291422912, 'minibatch_frac': 1.0, 'n_estimators': 20, 'verbose_eval': 1, 'random_state': 1}\n",
      "[iter 0] loss=3.5985 val_loss=3.3237 scale=0.5000 norm=3.2975                   \n",
      "[iter 1] loss=3.2689 val_loss=3.0411 scale=1.0000 norm=4.8325                   \n",
      "[iter 2] loss=2.9777 val_loss=2.7145 scale=2.0000 norm=5.4160                   \n",
      "[iter 3] loss=2.5184 val_loss=2.9380 scale=2.0000 norm=3.8053                   \n",
      "== Early stopping achieved.                                                     \n",
      "== Best iteration / VAL 2 (val_loss=2.7145)                                     \n",
      "  3%|▎         | 3/100 [00:00<00:07, 12.25trial/s, best loss: 2.586701040603165]"
     ]
    },
    {
     "name": "stderr",
     "output_type": "stream",
     "text": [
      "2020-07-15 09:27:19 INFO     {'Base': DecisionTreeRegressor(criterion='friedman_mse', max_depth=4), 'learning_rate': 0.6408192291422912, 'minibatch_frac': 1.0, 'n_estimators': 20, 'verbose_eval': 1, 'random_state': 1}\n"
     ]
    },
    {
     "name": "stdout",
     "output_type": "stream",
     "text": [
      "\r",
      "  4%|▍         | 4/100 [00:00<00:07, 12.70trial/s, best loss: 2.586701040603165]"
     ]
    },
    {
     "name": "stderr",
     "output_type": "stream",
     "text": [
      "2020-07-15 09:27:19 INFO     build_posterior_wrapper took 0.001179 seconds\n",
      "2020-07-15 09:27:19 INFO     TPE using 4/4 trials with best loss 2.586701\n"
     ]
    },
    {
     "name": "stdout",
     "output_type": "stream",
     "text": [
      "{'Base': DecisionTreeRegressor(criterion='friedman_mse', max_depth=3), 'learning_rate': 0.8053598861543774, 'minibatch_frac': 0.5, 'n_estimators': 20, 'verbose_eval': 1, 'random_state': 1}\n",
      "[iter 0] loss=3.5549 val_loss=3.3632 scale=0.5000 norm=3.2303                   \n",
      "[iter 1] loss=3.2465 val_loss=3.0625 scale=1.0000 norm=4.3375                   \n",
      "[iter 2] loss=2.9988 val_loss=3.3341 scale=2.0000 norm=5.9154                   \n",
      "== Early stopping achieved.                                                     \n",
      "== Best iteration / VAL 1 (val_loss=3.0625)                                     \n",
      "  4%|▍         | 4/100 [00:00<00:07, 12.70trial/s, best loss: 2.586701040603165]"
     ]
    },
    {
     "name": "stderr",
     "output_type": "stream",
     "text": [
      "2020-07-15 09:27:19 INFO     {'Base': DecisionTreeRegressor(criterion='friedman_mse', max_depth=3), 'learning_rate': 0.8053598861543774, 'minibatch_frac': 0.5, 'n_estimators': 20, 'verbose_eval': 1, 'random_state': 1}\n",
      "2020-07-15 09:27:19 INFO     build_posterior_wrapper took 0.001329 seconds\n",
      "2020-07-15 09:27:19 INFO     TPE using 5/5 trials with best loss 2.586701\n"
     ]
    },
    {
     "name": "stdout",
     "output_type": "stream",
     "text": [
      "{'Base': DecisionTreeRegressor(criterion='friedman_mse', max_depth=4), 'learning_rate': 0.4140827224824833, 'minibatch_frac': 0.5, 'n_estimators': 20, 'verbose_eval': 1, 'random_state': 1}\n",
      "[iter 0] loss=3.5549 val_loss=3.4286 scale=0.5000 norm=3.2303                   \n",
      "[iter 1] loss=3.3102 val_loss=3.2319 scale=1.0000 norm=5.1075                   \n",
      "[iter 2] loss=3.1502 val_loss=3.0801 scale=1.0000 norm=3.8714                   \n",
      "[iter 3] loss=2.9322 val_loss=2.9175 scale=2.0000 norm=5.5697                   \n",
      "[iter 4] loss=2.6102 val_loss=3.0000 scale=2.0000 norm=3.7804                   \n",
      "[iter 5] loss=2.6981 val_loss=2.8953 scale=1.0000 norm=2.2249                   \n",
      "[iter 6] loss=2.2906 val_loss=3.0666 scale=1.0000 norm=1.8034                   \n",
      "== Early stopping achieved.                                                     \n",
      "== Best iteration / VAL 5 (val_loss=2.8953)                                     \n",
      "  5%|▌         | 5/100 [00:00<00:07, 12.70trial/s, best loss: 2.586701040603165]"
     ]
    },
    {
     "name": "stderr",
     "output_type": "stream",
     "text": [
      "2020-07-15 09:27:19 INFO     {'Base': DecisionTreeRegressor(criterion='friedman_mse', max_depth=4), 'learning_rate': 0.4140827224824833, 'minibatch_frac': 0.5, 'n_estimators': 20, 'verbose_eval': 1, 'random_state': 1}\n"
     ]
    },
    {
     "name": "stdout",
     "output_type": "stream",
     "text": [
      "\r",
      "  6%|▌         | 6/100 [00:00<00:07, 12.79trial/s, best loss: 2.586701040603165]"
     ]
    },
    {
     "name": "stderr",
     "output_type": "stream",
     "text": [
      "2020-07-15 09:27:19 INFO     build_posterior_wrapper took 0.001575 seconds\n",
      "2020-07-15 09:27:19 INFO     TPE using 6/6 trials with best loss 2.586701\n"
     ]
    },
    {
     "name": "stdout",
     "output_type": "stream",
     "text": [
      "{'Base': DecisionTreeRegressor(criterion='friedman_mse', max_depth=2), 'learning_rate': 0.9384857753732094, 'minibatch_frac': 1.0, 'n_estimators': 20, 'verbose_eval': 1, 'random_state': 1}\n",
      "[iter 0] loss=3.5985 val_loss=3.3194 scale=0.5000 norm=3.2975                   \n",
      "[iter 1] loss=3.2776 val_loss=3.0718 scale=1.0000 norm=4.5421                   \n",
      "[iter 2] loss=2.9712 val_loss=3.0772 scale=2.0000 norm=6.3440                   \n",
      "== Early stopping achieved.                                                     \n",
      "== Best iteration / VAL 1 (val_loss=3.0718)                                     \n",
      "  6%|▌         | 6/100 [00:00<00:07, 12.79trial/s, best loss: 2.586701040603165]"
     ]
    },
    {
     "name": "stderr",
     "output_type": "stream",
     "text": [
      "2020-07-15 09:27:19 INFO     {'Base': DecisionTreeRegressor(criterion='friedman_mse', max_depth=2), 'learning_rate': 0.9384857753732094, 'minibatch_frac': 1.0, 'n_estimators': 20, 'verbose_eval': 1, 'random_state': 1}\n",
      "2020-07-15 09:27:19 INFO     build_posterior_wrapper took 0.001263 seconds\n",
      "2020-07-15 09:27:19 INFO     TPE using 7/7 trials with best loss 2.586701\n"
     ]
    },
    {
     "name": "stdout",
     "output_type": "stream",
     "text": [
      "{'Base': DecisionTreeRegressor(criterion='friedman_mse', max_depth=3), 'learning_rate': 0.7781733999570953, 'minibatch_frac': 1.0, 'n_estimators': 20, 'verbose_eval': 1, 'random_state': 1}\n",
      "[iter 0] loss=3.5985 val_loss=3.3372 scale=0.5000 norm=3.2975                   \n",
      "[iter 1] loss=3.2765 val_loss=3.0643 scale=1.0000 norm=4.7103                   \n",
      "[iter 2] loss=2.9617 val_loss=2.8909 scale=2.0000 norm=5.6150                   \n",
      "[iter 3] loss=2.5652 val_loss=3.0566 scale=2.0000 norm=4.9369                   \n",
      "== Early stopping achieved.                                                     \n",
      "== Best iteration / VAL 2 (val_loss=2.8909)                                     \n",
      "  7%|▋         | 7/100 [00:00<00:07, 12.79trial/s, best loss: 2.586701040603165]"
     ]
    },
    {
     "name": "stderr",
     "output_type": "stream",
     "text": [
      "2020-07-15 09:27:19 INFO     {'Base': DecisionTreeRegressor(criterion='friedman_mse', max_depth=3), 'learning_rate': 0.7781733999570953, 'minibatch_frac': 1.0, 'n_estimators': 20, 'verbose_eval': 1, 'random_state': 1}\n"
     ]
    },
    {
     "name": "stdout",
     "output_type": "stream",
     "text": [
      "\r",
      "  8%|▊         | 8/100 [00:00<00:06, 13.74trial/s, best loss: 2.586701040603165]"
     ]
    },
    {
     "name": "stderr",
     "output_type": "stream",
     "text": [
      "2020-07-15 09:27:19 INFO     build_posterior_wrapper took 0.001041 seconds\n",
      "2020-07-15 09:27:19 INFO     TPE using 8/8 trials with best loss 2.586701\n"
     ]
    },
    {
     "name": "stdout",
     "output_type": "stream",
     "text": [
      "{'Base': DecisionTreeRegressor(criterion='friedman_mse', max_depth=3), 'learning_rate': 0.792138752779918, 'minibatch_frac': 0.5, 'n_estimators': 20, 'verbose_eval': 1, 'random_state': 1}\n",
      "[iter 0] loss=3.5549 val_loss=3.3402 scale=0.5000 norm=3.2303                   \n",
      "[iter 1] loss=3.2544 val_loss=3.0455 scale=1.0000 norm=4.3940                   \n",
      "[iter 2] loss=2.9594 val_loss=3.1855 scale=2.0000 norm=5.6092                   \n",
      "== Early stopping achieved.                                                     \n",
      "== Best iteration / VAL 1 (val_loss=3.0455)                                     \n",
      "  8%|▊         | 8/100 [00:00<00:06, 13.74trial/s, best loss: 2.586701040603165]"
     ]
    },
    {
     "name": "stderr",
     "output_type": "stream",
     "text": [
      "2020-07-15 09:27:19 INFO     {'Base': DecisionTreeRegressor(criterion='friedman_mse', max_depth=3), 'learning_rate': 0.792138752779918, 'minibatch_frac': 0.5, 'n_estimators': 20, 'verbose_eval': 1, 'random_state': 1}\n",
      "2020-07-15 09:27:19 INFO     build_posterior_wrapper took 0.001037 seconds\n",
      "2020-07-15 09:27:19 INFO     TPE using 9/9 trials with best loss 2.586701\n"
     ]
    },
    {
     "name": "stdout",
     "output_type": "stream",
     "text": [
      "{'Base': DecisionTreeRegressor(criterion='friedman_mse', max_depth=3), 'learning_rate': 0.414788942749674, 'minibatch_frac': 0.5, 'n_estimators': 20, 'verbose_eval': 1, 'random_state': 1}\n",
      "[iter 0] loss=3.5549 val_loss=3.4295 scale=0.5000 norm=3.2303                   \n",
      "[iter 1] loss=3.3382 val_loss=3.2131 scale=1.0000 norm=5.1539                   \n",
      "[iter 2] loss=3.1644 val_loss=3.0471 scale=1.0000 norm=3.9559                   \n",
      "[iter 3] loss=2.9637 val_loss=2.8303 scale=2.0000 norm=5.9177                   \n",
      "[iter 4] loss=2.6638 val_loss=2.7902 scale=2.0000 norm=4.3005                   \n",
      "[iter 5] loss=2.4672 val_loss=2.9764 scale=2.0000 norm=4.4190                   \n",
      "== Early stopping achieved.                                                     \n",
      "== Best iteration / VAL 4 (val_loss=2.7902)                                     \n",
      "  9%|▉         | 9/100 [00:00<00:06, 13.74trial/s, best loss: 2.586701040603165]"
     ]
    },
    {
     "name": "stderr",
     "output_type": "stream",
     "text": [
      "2020-07-15 09:27:19 INFO     {'Base': DecisionTreeRegressor(criterion='friedman_mse', max_depth=3), 'learning_rate': 0.414788942749674, 'minibatch_frac': 0.5, 'n_estimators': 20, 'verbose_eval': 1, 'random_state': 1}\n"
     ]
    },
    {
     "name": "stdout",
     "output_type": "stream",
     "text": [
      "\r",
      " 10%|█         | 10/100 [00:00<00:06, 13.88trial/s, best loss: 2.586701040603165]"
     ]
    },
    {
     "name": "stderr",
     "output_type": "stream",
     "text": [
      "2020-07-15 09:27:19 INFO     build_posterior_wrapper took 0.001358 seconds\n",
      "2020-07-15 09:27:19 INFO     TPE using 10/10 trials with best loss 2.586701\n"
     ]
    },
    {
     "name": "stdout",
     "output_type": "stream",
     "text": [
      "{'Base': DecisionTreeRegressor(criterion='friedman_mse', max_depth=3), 'learning_rate': 0.5089078923906771, 'minibatch_frac': 0.5, 'n_estimators': 20, 'verbose_eval': 1, 'random_state': 1}\n",
      "[iter 0] loss=3.5549 val_loss=3.4206 scale=0.5000 norm=3.2303                    \n",
      "[iter 1] loss=3.3111 val_loss=3.1711 scale=1.0000 norm=4.9259                    \n",
      "[iter 2] loss=3.1276 val_loss=2.9917 scale=1.0000 norm=3.7020                    \n",
      "[iter 3] loss=2.8746 val_loss=2.7896 scale=2.0000 norm=5.1254                    \n",
      "[iter 4] loss=2.5314 val_loss=2.9430 scale=2.0000 norm=4.4033                    \n",
      "[iter 5] loss=2.4400 val_loss=2.7825 scale=1.0000 norm=2.2739                    \n",
      "[iter 6] loss=2.4551 val_loss=2.8183 scale=1.0000 norm=1.9972                    \n",
      "== Early stopping achieved.                                                      \n",
      "== Best iteration / VAL 5 (val_loss=2.7825)                                      \n",
      " 10%|█         | 10/100 [00:00<00:06, 13.88trial/s, best loss: 2.586701040603165]"
     ]
    },
    {
     "name": "stderr",
     "output_type": "stream",
     "text": [
      "2020-07-15 09:27:19 INFO     {'Base': DecisionTreeRegressor(criterion='friedman_mse', max_depth=3), 'learning_rate': 0.5089078923906771, 'minibatch_frac': 0.5, 'n_estimators': 20, 'verbose_eval': 1, 'random_state': 1}\n",
      "2020-07-15 09:27:19 INFO     build_posterior_wrapper took 0.001306 seconds\n",
      "2020-07-15 09:27:19 INFO     TPE using 11/11 trials with best loss 2.586701\n"
     ]
    },
    {
     "name": "stdout",
     "output_type": "stream",
     "text": [
      "{'Base': DecisionTreeRegressor(criterion='friedman_mse', max_depth=4), 'learning_rate': 0.3098322297236022, 'minibatch_frac': 1.0, 'n_estimators': 20, 'verbose_eval': 1, 'random_state': 1}\n",
      "[iter 0] loss=3.5985 val_loss=3.4038 scale=0.5000 norm=3.2975                    \n",
      "[iter 1] loss=3.3677 val_loss=3.3154 scale=0.5000 norm=2.8602                    \n",
      "[iter 2] loss=3.2672 val_loss=3.1611 scale=1.0000 norm=4.9918                    \n",
      "[iter 3] loss=3.1087 val_loss=3.0361 scale=1.0000 norm=3.8411                    \n",
      "[iter 4] loss=2.9637 val_loss=2.8162 scale=2.0000 norm=6.0847                    \n",
      "[iter 5] loss=2.7009 val_loss=2.6465 scale=2.0000 norm=4.1876                    \n",
      "[iter 6] loss=2.4649 val_loss=2.5711 scale=2.0000 norm=3.4265                    \n",
      "[iter 7] loss=2.2392 val_loss=2.5893 scale=2.0000 norm=2.9289                    \n",
      "== Early stopping achieved.                                                      \n",
      "== Best iteration / VAL 6 (val_loss=2.5711)                                      \n",
      " 11%|█         | 11/100 [00:00<00:06, 13.88trial/s, best loss: 2.586701040603165]"
     ]
    },
    {
     "name": "stderr",
     "output_type": "stream",
     "text": [
      "2020-07-15 09:27:20 INFO     {'Base': DecisionTreeRegressor(criterion='friedman_mse', max_depth=4), 'learning_rate': 0.3098322297236022, 'minibatch_frac': 1.0, 'n_estimators': 20, 'verbose_eval': 1, 'random_state': 1}\n"
     ]
    },
    {
     "name": "stdout",
     "output_type": "stream",
     "text": [
      "\r",
      " 12%|█▏        | 12/100 [00:00<00:07, 11.95trial/s, best loss: 2.571136364128535]"
     ]
    },
    {
     "name": "stderr",
     "output_type": "stream",
     "text": [
      "2020-07-15 09:27:20 INFO     build_posterior_wrapper took 0.001033 seconds\n",
      "2020-07-15 09:27:20 INFO     TPE using 12/12 trials with best loss 2.571136\n"
     ]
    },
    {
     "name": "stdout",
     "output_type": "stream",
     "text": [
      "{'Base': DecisionTreeRegressor(criterion='friedman_mse', max_depth=3), 'learning_rate': 0.5275686167203756, 'minibatch_frac': 0.5, 'n_estimators': 20, 'verbose_eval': 1, 'random_state': 1}\n",
      "[iter 0] loss=3.5549 val_loss=3.3961 scale=0.5000 norm=3.2303                    \n",
      "[iter 1] loss=3.3079 val_loss=3.1647 scale=1.0000 norm=4.9199                    \n",
      "[iter 2] loss=3.0999 val_loss=3.0111 scale=1.0000 norm=3.6194                    \n",
      "[iter 3] loss=2.8572 val_loss=2.8181 scale=2.0000 norm=5.0608                    \n",
      "[iter 4] loss=2.5338 val_loss=3.1129 scale=2.0000 norm=4.5473                    \n",
      "== Early stopping achieved.                                                      \n",
      "== Best iteration / VAL 3 (val_loss=2.8181)                                      \n",
      " 12%|█▏        | 12/100 [00:01<00:07, 11.95trial/s, best loss: 2.571136364128535]"
     ]
    },
    {
     "name": "stderr",
     "output_type": "stream",
     "text": [
      "2020-07-15 09:27:20 INFO     {'Base': DecisionTreeRegressor(criterion='friedman_mse', max_depth=3), 'learning_rate': 0.5275686167203756, 'minibatch_frac': 0.5, 'n_estimators': 20, 'verbose_eval': 1, 'random_state': 1}\n",
      "2020-07-15 09:27:20 INFO     build_posterior_wrapper took 0.001193 seconds\n",
      "2020-07-15 09:27:20 INFO     TPE using 13/13 trials with best loss 2.571136\n"
     ]
    },
    {
     "name": "stdout",
     "output_type": "stream",
     "text": [
      "{'Base': DecisionTreeRegressor(criterion='friedman_mse', max_depth=4), 'learning_rate': 0.38209748270870453, 'minibatch_frac': 0.5, 'n_estimators': 20, 'verbose_eval': 1, 'random_state': 1}\n",
      "[iter 0] loss=3.5549 val_loss=3.4402 scale=0.5000 norm=3.2303                    \n",
      "[iter 1] loss=3.3275 val_loss=3.2761 scale=1.0000 norm=5.1408                    \n",
      "[iter 2] loss=3.1824 val_loss=3.1539 scale=1.0000 norm=4.0941                    \n",
      "[iter 3] loss=2.9690 val_loss=3.0036 scale=2.0000 norm=5.9608                    \n",
      "[iter 4] loss=2.6592 val_loss=3.1362 scale=2.0000 norm=3.9371                    \n",
      "[iter 5] loss=2.6312 val_loss=2.6395 scale=2.0000 norm=4.3284                    \n",
      "[iter 6] loss=2.4096 val_loss=2.7739 scale=2.0000 norm=3.7393                    \n",
      "== Early stopping achieved.                                                      \n",
      "== Best iteration / VAL 5 (val_loss=2.6395)                                      \n",
      " 13%|█▎        | 13/100 [00:01<00:07, 11.95trial/s, best loss: 2.571136364128535]"
     ]
    },
    {
     "name": "stderr",
     "output_type": "stream",
     "text": [
      "2020-07-15 09:27:20 INFO     {'Base': DecisionTreeRegressor(criterion='friedman_mse', max_depth=4), 'learning_rate': 0.38209748270870453, 'minibatch_frac': 0.5, 'n_estimators': 20, 'verbose_eval': 1, 'random_state': 1}\n"
     ]
    },
    {
     "name": "stdout",
     "output_type": "stream",
     "text": [
      "\r",
      " 14%|█▍        | 14/100 [00:01<00:07, 11.70trial/s, best loss: 2.571136364128535]"
     ]
    },
    {
     "name": "stderr",
     "output_type": "stream",
     "text": [
      "2020-07-15 09:27:20 INFO     build_posterior_wrapper took 0.001271 seconds\n",
      "2020-07-15 09:27:20 INFO     TPE using 14/14 trials with best loss 2.571136\n"
     ]
    },
    {
     "name": "stdout",
     "output_type": "stream",
     "text": [
      "{'Base': DecisionTreeRegressor(criterion='friedman_mse', max_depth=2), 'learning_rate': 0.4146835712004548, 'minibatch_frac': 0.5, 'n_estimators': 20, 'verbose_eval': 1, 'random_state': 1}\n",
      "[iter 0] loss=3.5549 val_loss=3.4654 scale=0.5000 norm=3.2303                    \n",
      "[iter 1] loss=3.3582 val_loss=3.2819 scale=1.0000 norm=5.1751                    \n",
      "[iter 2] loss=3.2516 val_loss=3.1807 scale=1.0000 norm=4.5703                    \n",
      "[iter 3] loss=3.0379 val_loss=3.0782 scale=2.0000 norm=7.0320                    \n",
      "[iter 4] loss=2.8005 val_loss=3.0876 scale=2.0000 norm=5.4843                    \n",
      "[iter 5] loss=2.8984 val_loss=3.0774 scale=1.0000 norm=2.9329                    \n",
      "[iter 6] loss=2.7049 val_loss=2.9037 scale=1.0000 norm=2.8316                    \n",
      "[iter 7] loss=2.6927 val_loss=2.9510 scale=1.0000 norm=2.4072                    \n",
      "== Early stopping achieved.                                                      \n",
      "== Best iteration / VAL 6 (val_loss=2.9037)                                      \n",
      " 14%|█▍        | 14/100 [00:01<00:07, 11.70trial/s, best loss: 2.571136364128535]"
     ]
    },
    {
     "name": "stderr",
     "output_type": "stream",
     "text": [
      "2020-07-15 09:27:20 INFO     {'Base': DecisionTreeRegressor(criterion='friedman_mse', max_depth=2), 'learning_rate': 0.4146835712004548, 'minibatch_frac': 0.5, 'n_estimators': 20, 'verbose_eval': 1, 'random_state': 1}\n",
      "2020-07-15 09:27:20 INFO     build_posterior_wrapper took 0.001283 seconds\n",
      "2020-07-15 09:27:20 INFO     TPE using 15/15 trials with best loss 2.571136\n"
     ]
    },
    {
     "name": "stdout",
     "output_type": "stream",
     "text": [
      "{'Base': DecisionTreeRegressor(criterion='friedman_mse', max_depth=4), 'learning_rate': 0.4826225512062113, 'minibatch_frac': 0.5, 'n_estimators': 20, 'verbose_eval': 1, 'random_state': 1}\n",
      "[iter 0] loss=3.5549 val_loss=3.4051 scale=0.5000 norm=3.2303                    \n",
      "[iter 1] loss=3.2874 val_loss=3.1838 scale=1.0000 norm=4.9498                    \n",
      "[iter 2] loss=3.1095 val_loss=3.0483 scale=1.0000 norm=3.5771                    \n",
      "[iter 3] loss=2.8695 val_loss=3.0355 scale=2.0000 norm=4.9980                    \n",
      "[iter 4] loss=2.5199 val_loss=3.4568 scale=2.0000 norm=4.1136                    \n",
      "== Early stopping achieved.                                                      \n",
      "== Best iteration / VAL 3 (val_loss=3.0355)                                      \n",
      " 15%|█▌        | 15/100 [00:01<00:07, 11.70trial/s, best loss: 2.571136364128535]"
     ]
    },
    {
     "name": "stderr",
     "output_type": "stream",
     "text": [
      "2020-07-15 09:27:20 INFO     {'Base': DecisionTreeRegressor(criterion='friedman_mse', max_depth=4), 'learning_rate': 0.4826225512062113, 'minibatch_frac': 0.5, 'n_estimators': 20, 'verbose_eval': 1, 'random_state': 1}\n"
     ]
    },
    {
     "name": "stdout",
     "output_type": "stream",
     "text": [
      "\r",
      " 16%|█▌        | 16/100 [00:01<00:07, 11.51trial/s, best loss: 2.571136364128535]"
     ]
    },
    {
     "name": "stderr",
     "output_type": "stream",
     "text": [
      "2020-07-15 09:27:20 INFO     build_posterior_wrapper took 0.001182 seconds\n",
      "2020-07-15 09:27:20 INFO     TPE using 16/16 trials with best loss 2.571136\n"
     ]
    },
    {
     "name": "stdout",
     "output_type": "stream",
     "text": [
      "{'Base': DecisionTreeRegressor(criterion='friedman_mse', max_depth=2), 'learning_rate': 0.06111966766210368, 'minibatch_frac': 0.5, 'n_estimators': 20, 'verbose_eval': 1, 'random_state': 1}\n",
      "[iter 0] loss=3.5549 val_loss=3.6220 scale=0.5000 norm=3.2303                    \n",
      "[iter 1] loss=3.4963 val_loss=3.5768 scale=0.5000 norm=2.9767                    \n",
      "[iter 2] loss=3.5166 val_loss=3.5485 scale=0.5000 norm=3.1199                    \n",
      "[iter 3] loss=3.4660 val_loss=3.4867 scale=1.0000 norm=6.0649                    \n",
      "[iter 4] loss=3.4125 val_loss=3.4526 scale=1.0000 norm=5.7663                    \n",
      "[iter 5] loss=3.3933 val_loss=3.4353 scale=0.5000 norm=2.8208                    \n",
      "[iter 6] loss=3.3849 val_loss=3.3980 scale=1.0000 norm=5.6534                    \n",
      "[iter 7] loss=3.3608 val_loss=3.3709 scale=1.0000 norm=5.4357                    \n",
      "[iter 8] loss=3.3270 val_loss=3.3376 scale=1.0000 norm=5.4376                    \n",
      "[iter 9] loss=3.2640 val_loss=3.3175 scale=1.0000 norm=4.8406                    \n",
      "[iter 10] loss=3.2907 val_loss=3.2887 scale=1.0000 norm=5.2687                   \n",
      "[iter 11] loss=3.2312 val_loss=3.2568 scale=1.0000 norm=4.7924                   \n",
      "[iter 12] loss=3.1801 val_loss=3.2395 scale=1.0000 norm=4.3509                   \n",
      "[iter 13] loss=3.1716 val_loss=3.2170 scale=1.0000 norm=4.3143                   \n",
      "[iter 14] loss=3.1542 val_loss=3.1986 scale=1.0000 norm=4.4621                   \n",
      "[iter 15] loss=3.1237 val_loss=3.1781 scale=1.0000 norm=4.1233                   \n",
      "[iter 16] loss=3.1125 val_loss=3.1596 scale=1.0000 norm=4.1698                   \n",
      "[iter 17] loss=3.0613 val_loss=3.1253 scale=1.0000 norm=3.8398                   \n",
      "[iter 18] loss=3.0558 val_loss=3.1077 scale=1.0000 norm=3.8388                   \n",
      "[iter 19] loss=3.0503 val_loss=3.0639 scale=2.0000 norm=7.9676                   \n",
      " 16%|█▌        | 16/100 [00:01<00:07, 11.51trial/s, best loss: 2.571136364128535]"
     ]
    },
    {
     "name": "stderr",
     "output_type": "stream",
     "text": [
      "2020-07-15 09:27:20 INFO     {'Base': DecisionTreeRegressor(criterion='friedman_mse', max_depth=2), 'learning_rate': 0.06111966766210368, 'minibatch_frac': 0.5, 'n_estimators': 20, 'verbose_eval': 1, 'random_state': 1}\n",
      "2020-07-15 09:27:20 INFO     build_posterior_wrapper took 0.001050 seconds\n",
      "2020-07-15 09:27:20 INFO     TPE using 17/17 trials with best loss 2.571136\n"
     ]
    },
    {
     "name": "stdout",
     "output_type": "stream",
     "text": [
      "{'Base': DecisionTreeRegressor(criterion='friedman_mse', max_depth=4), 'learning_rate': 0.3677962094009899, 'minibatch_frac': 1.0, 'n_estimators': 20, 'verbose_eval': 1, 'random_state': 1}\n",
      "[iter 0] loss=3.5985 val_loss=3.3821 scale=0.5000 norm=3.2975                    \n",
      "[iter 1] loss=3.3442 val_loss=3.2854 scale=0.5000 norm=2.7811                    \n",
      "[iter 2] loss=3.2345 val_loss=3.1169 scale=1.0000 norm=4.7369                    \n",
      "[iter 3] loss=3.0553 val_loss=2.9626 scale=1.0000 norm=3.4810                    \n",
      "[iter 4] loss=2.8884 val_loss=2.7122 scale=2.0000 norm=5.3689                    \n",
      "[iter 5] loss=2.5872 val_loss=2.5562 scale=2.0000 norm=3.6392                    \n",
      "[iter 6] loss=2.3257 val_loss=2.5113 scale=2.0000 norm=3.1604                    \n",
      "[iter 7] loss=2.0959 val_loss=2.6965 scale=2.0000 norm=2.7899                    \n",
      "== Early stopping achieved.                                                      \n",
      "== Best iteration / VAL 6 (val_loss=2.5113)                                      \n",
      " 17%|█▋        | 17/100 [00:01<00:07, 11.51trial/s, best loss: 2.571136364128535]"
     ]
    },
    {
     "name": "stderr",
     "output_type": "stream",
     "text": [
      "2020-07-15 09:27:20 INFO     {'Base': DecisionTreeRegressor(criterion='friedman_mse', max_depth=4), 'learning_rate': 0.3677962094009899, 'minibatch_frac': 1.0, 'n_estimators': 20, 'verbose_eval': 1, 'random_state': 1}\n"
     ]
    },
    {
     "name": "stdout",
     "output_type": "stream",
     "text": [
      "\r",
      " 18%|█▊        | 18/100 [00:01<00:09,  8.79trial/s, best loss: 2.5112839463684495]"
     ]
    },
    {
     "name": "stderr",
     "output_type": "stream",
     "text": [
      "2020-07-15 09:27:20 INFO     build_posterior_wrapper took 0.001490 seconds\n",
      "2020-07-15 09:27:20 INFO     TPE using 18/18 trials with best loss 2.511284\n"
     ]
    },
    {
     "name": "stdout",
     "output_type": "stream",
     "text": [
      "{'Base': DecisionTreeRegressor(criterion='friedman_mse', max_depth=2), 'learning_rate': 0.24584374387631064, 'minibatch_frac': 1.0, 'n_estimators': 20, 'verbose_eval': 1, 'random_state': 1}\n",
      "[iter 0] loss=3.5985 val_loss=3.4778 scale=0.5000 norm=3.2975                     \n",
      "[iter 1] loss=3.4432 val_loss=3.4076 scale=0.5000 norm=3.0003                     \n",
      "[iter 2] loss=3.3622 val_loss=3.2983 scale=1.0000 norm=5.5440                     \n",
      "[iter 3] loss=3.2402 val_loss=3.1958 scale=1.0000 norm=4.7167                     \n",
      "[iter 4] loss=3.1366 val_loss=3.1053 scale=1.0000 norm=4.1313                     \n",
      "[iter 5] loss=3.0347 val_loss=2.9722 scale=2.0000 norm=7.2223                     \n",
      "[iter 6] loss=2.8636 val_loss=2.8785 scale=2.0000 norm=6.0080                     \n",
      "[iter 7] loss=2.7153 val_loss=2.7837 scale=2.0000 norm=5.2875                     \n",
      "[iter 8] loss=2.5807 val_loss=2.7611 scale=2.0000 norm=4.8779                     \n",
      "[iter 9] loss=2.4670 val_loss=2.7561 scale=2.0000 norm=4.5282                     \n",
      "[iter 10] loss=2.3754 val_loss=2.7504 scale=2.0000 norm=4.3119                    \n",
      "[iter 11] loss=2.2924 val_loss=2.8542 scale=2.0000 norm=4.0972                    \n",
      "== Early stopping achieved.                                                       \n",
      "== Best iteration / VAL 10 (val_loss=2.7504)                                      \n",
      " 18%|█▊        | 18/100 [00:01<00:09,  8.79trial/s, best loss: 2.5112839463684495]"
     ]
    },
    {
     "name": "stderr",
     "output_type": "stream",
     "text": [
      "2020-07-15 09:27:20 INFO     {'Base': DecisionTreeRegressor(criterion='friedman_mse', max_depth=2), 'learning_rate': 0.24584374387631064, 'minibatch_frac': 1.0, 'n_estimators': 20, 'verbose_eval': 1, 'random_state': 1}\n"
     ]
    },
    {
     "name": "stdout",
     "output_type": "stream",
     "text": [
      "\r",
      " 19%|█▉        | 19/100 [00:01<00:10,  7.78trial/s, best loss: 2.5112839463684495]"
     ]
    },
    {
     "name": "stderr",
     "output_type": "stream",
     "text": [
      "2020-07-15 09:27:20 INFO     build_posterior_wrapper took 0.001349 seconds\n",
      "2020-07-15 09:27:20 INFO     TPE using 19/19 trials with best loss 2.511284\n"
     ]
    },
    {
     "name": "stdout",
     "output_type": "stream",
     "text": [
      "{'Base': DecisionTreeRegressor(criterion='friedman_mse', max_depth=3), 'learning_rate': 0.47444381699432675, 'minibatch_frac': 0.5, 'n_estimators': 20, 'verbose_eval': 1, 'random_state': 1}\n",
      "[iter 0] loss=3.5549 val_loss=3.4141 scale=0.5000 norm=3.2303                     \n",
      "[iter 1] loss=3.3126 val_loss=3.1923 scale=1.0000 norm=5.0283                     \n",
      "[iter 2] loss=3.1348 val_loss=2.9791 scale=1.0000 norm=3.7399                     \n",
      "[iter 3] loss=2.9275 val_loss=2.7050 scale=2.0000 norm=5.4807                     \n",
      "[iter 4] loss=2.5863 val_loss=2.6440 scale=2.0000 norm=4.4111                     \n",
      "[iter 5] loss=2.4265 val_loss=2.7409 scale=2.0000 norm=4.5211                     \n",
      "== Early stopping achieved.                                                       \n",
      "== Best iteration / VAL 4 (val_loss=2.6440)                                       \n",
      " 19%|█▉        | 19/100 [00:01<00:10,  7.78trial/s, best loss: 2.5112839463684495]"
     ]
    },
    {
     "name": "stderr",
     "output_type": "stream",
     "text": [
      "2020-07-15 09:27:20 INFO     {'Base': DecisionTreeRegressor(criterion='friedman_mse', max_depth=3), 'learning_rate': 0.47444381699432675, 'minibatch_frac': 0.5, 'n_estimators': 20, 'verbose_eval': 1, 'random_state': 1}\n",
      "2020-07-15 09:27:20 INFO     build_posterior_wrapper took 0.001317 seconds\n",
      "2020-07-15 09:27:20 INFO     TPE using 20/20 trials with best loss 2.511284\n"
     ]
    },
    {
     "name": "stdout",
     "output_type": "stream",
     "text": [
      "{'Base': DecisionTreeRegressor(criterion='friedman_mse', max_depth=4), 'learning_rate': 0.17013950254141008, 'minibatch_frac': 1.0, 'n_estimators': 20, 'verbose_eval': 1, 'random_state': 1}\n",
      "[iter 0] loss=3.5985 val_loss=3.4808 scale=0.5000 norm=3.2975                     \n",
      "[iter 1] loss=3.4436 val_loss=3.4076 scale=0.5000 norm=3.0539                     \n",
      "[iter 2] loss=3.3673 val_loss=3.3535 scale=0.5000 norm=2.8396                     \n",
      "[iter 3] loss=3.3085 val_loss=3.2598 scale=1.0000 norm=5.2801                     \n",
      "[iter 4] loss=3.2084 val_loss=3.1816 scale=1.0000 norm=4.5867                     \n",
      "[iter 5] loss=3.1210 val_loss=3.1088 scale=1.0000 norm=4.0021                     \n",
      "[iter 6] loss=3.0400 val_loss=3.0356 scale=1.0000 norm=3.5260                     \n",
      "[iter 7] loss=2.9615 val_loss=2.8899 scale=2.0000 norm=6.2799                     \n",
      "[iter 8] loss=2.8108 val_loss=2.7770 scale=2.0000 norm=5.0078                     \n",
      "[iter 9] loss=2.6667 val_loss=2.6728 scale=2.0000 norm=4.2151                     \n",
      "[iter 10] loss=2.5259 val_loss=2.5970 scale=2.0000 norm=3.5982                    \n",
      "[iter 11] loss=2.3907 val_loss=2.5321 scale=2.0000 norm=3.2029                    \n",
      "[iter 12] loss=2.2618 val_loss=2.5072 scale=2.0000 norm=2.9270                    \n",
      "[iter 13] loss=2.1366 val_loss=2.5189 scale=2.0000 norm=2.6790                    \n",
      "== Early stopping achieved.                                                       \n",
      "== Best iteration / VAL 12 (val_loss=2.5072)                                      \n",
      " 20%|██        | 20/100 [00:02<00:10,  7.78trial/s, best loss: 2.5112839463684495]"
     ]
    },
    {
     "name": "stderr",
     "output_type": "stream",
     "text": [
      "2020-07-15 09:27:21 INFO     {'Base': DecisionTreeRegressor(criterion='friedman_mse', max_depth=4), 'learning_rate': 0.17013950254141008, 'minibatch_frac': 1.0, 'n_estimators': 20, 'verbose_eval': 1, 'random_state': 1}\n"
     ]
    },
    {
     "name": "stdout",
     "output_type": "stream",
     "text": [
      "\r",
      " 21%|██        | 21/100 [00:02<00:10,  7.41trial/s, best loss: 2.507246611113083] "
     ]
    },
    {
     "name": "stderr",
     "output_type": "stream",
     "text": [
      "2020-07-15 09:27:21 INFO     build_posterior_wrapper took 0.001285 seconds\n",
      "2020-07-15 09:27:21 INFO     TPE using 21/21 trials with best loss 2.507247\n"
     ]
    },
    {
     "name": "stdout",
     "output_type": "stream",
     "text": [
      "{'Base': DecisionTreeRegressor(criterion='friedman_mse', max_depth=4), 'learning_rate': 0.1030942882059258, 'minibatch_frac': 1.0, 'n_estimators': 20, 'verbose_eval': 1, 'random_state': 1}\n",
      "[iter 0] loss=3.5985 val_loss=3.5376 scale=0.5000 norm=3.2975                    \n",
      "[iter 1] loss=3.4939 val_loss=3.4759 scale=0.5000 norm=3.1485                    \n",
      "[iter 2] loss=3.4325 val_loss=3.4306 scale=0.5000 norm=3.0116                    \n",
      "[iter 3] loss=3.3854 val_loss=3.3913 scale=0.5000 norm=2.8836                    \n",
      "[iter 4] loss=3.3457 val_loss=3.3252 scale=1.0000 norm=5.5183                    \n",
      "[iter 5] loss=3.2774 val_loss=3.2696 scale=1.0000 norm=5.0662                    \n",
      "[iter 6] loss=3.2181 val_loss=3.2205 scale=1.0000 norm=4.6675                    \n",
      "[iter 7] loss=3.1631 val_loss=3.1719 scale=1.0000 norm=4.3041                    \n",
      "[iter 8] loss=3.1117 val_loss=3.1282 scale=1.0000 norm=3.9825                    \n",
      "[iter 9] loss=3.0626 val_loss=3.0828 scale=1.0000 norm=3.7018                    \n",
      "[iter 10] loss=3.0141 val_loss=3.0398 scale=1.0000 norm=3.4539                   \n",
      "[iter 11] loss=2.9672 val_loss=2.9577 scale=2.0000 norm=6.4398                   \n",
      "[iter 12] loss=2.8768 val_loss=2.8775 scale=2.0000 norm=5.6713                   \n",
      "[iter 13] loss=2.7874 val_loss=2.8047 scale=2.0000 norm=5.0046                   \n",
      "[iter 14] loss=2.7022 val_loss=2.7370 scale=2.0000 norm=4.5287                   \n",
      "[iter 15] loss=2.6170 val_loss=2.6714 scale=2.0000 norm=4.1064                   \n",
      "[iter 16] loss=2.5328 val_loss=2.6187 scale=2.0000 norm=3.7572                   \n",
      "[iter 17] loss=2.4486 val_loss=2.5725 scale=2.0000 norm=3.4444                   \n",
      "[iter 18] loss=2.3694 val_loss=2.5335 scale=2.0000 norm=3.2278                   \n",
      "[iter 19] loss=2.2895 val_loss=2.5052 scale=2.0000 norm=3.0189                   \n",
      " 21%|██        | 21/100 [00:02<00:10,  7.41trial/s, best loss: 2.507246611113083]"
     ]
    },
    {
     "name": "stderr",
     "output_type": "stream",
     "text": [
      "2020-07-15 09:27:21 INFO     {'Base': DecisionTreeRegressor(criterion='friedman_mse', max_depth=4), 'learning_rate': 0.1030942882059258, 'minibatch_frac': 1.0, 'n_estimators': 20, 'verbose_eval': 1, 'random_state': 1}\n"
     ]
    },
    {
     "name": "stdout",
     "output_type": "stream",
     "text": [
      "\r",
      " 22%|██▏       | 22/100 [00:02<00:13,  5.58trial/s, best loss: 2.5051836007082966]"
     ]
    },
    {
     "name": "stderr",
     "output_type": "stream",
     "text": [
      "2020-07-15 09:27:21 INFO     build_posterior_wrapper took 0.001270 seconds\n",
      "2020-07-15 09:27:21 INFO     TPE using 22/22 trials with best loss 2.505184\n"
     ]
    },
    {
     "name": "stdout",
     "output_type": "stream",
     "text": [
      "{'Base': DecisionTreeRegressor(criterion='friedman_mse', max_depth=4), 'learning_rate': 0.10051874512963674, 'minibatch_frac': 1.0, 'n_estimators': 20, 'verbose_eval': 1, 'random_state': 1}\n",
      "[iter 0] loss=3.5985 val_loss=3.5401 scale=0.5000 norm=3.2975                     \n",
      "[iter 1] loss=3.4961 val_loss=3.4790 scale=0.5000 norm=3.1522                     \n",
      "[iter 2] loss=3.4354 val_loss=3.4340 scale=0.5000 norm=3.0184                     \n",
      "[iter 3] loss=3.3888 val_loss=3.3953 scale=0.5000 norm=2.8932                     \n",
      "[iter 4] loss=3.3496 val_loss=3.3299 scale=1.0000 norm=5.5425                     \n",
      "[iter 5] loss=3.2823 val_loss=3.2741 scale=1.0000 norm=5.0988                     \n",
      "[iter 6] loss=3.2238 val_loss=3.2226 scale=1.0000 norm=4.7069                     \n",
      "[iter 7] loss=3.1701 val_loss=3.1762 scale=1.0000 norm=4.3527                     \n",
      "[iter 8] loss=3.1193 val_loss=3.1333 scale=1.0000 norm=4.0305                     \n",
      "[iter 9] loss=3.0713 val_loss=3.0902 scale=1.0000 norm=3.7539                     \n",
      "[iter 10] loss=3.0242 val_loss=3.0465 scale=1.0000 norm=3.5103                    \n",
      "[iter 11] loss=2.9776 val_loss=3.0081 scale=1.0000 norm=3.2764                    \n",
      "[iter 12] loss=2.9324 val_loss=2.9290 scale=2.0000 norm=6.1497                    \n",
      "[iter 13] loss=2.8433 val_loss=2.8546 scale=2.0000 norm=5.4027                    \n",
      "[iter 14] loss=2.7567 val_loss=2.7865 scale=2.0000 norm=4.8385                    \n",
      "[iter 15] loss=2.6740 val_loss=2.7267 scale=2.0000 norm=4.3984                    \n",
      "[iter 16] loss=2.5919 val_loss=2.6668 scale=2.0000 norm=4.0230                    \n",
      "[iter 17] loss=2.5091 val_loss=2.6171 scale=2.0000 norm=3.6826                    \n",
      "[iter 18] loss=2.4280 val_loss=2.5760 scale=2.0000 norm=3.3932                    \n",
      "[iter 19] loss=2.3513 val_loss=2.5484 scale=2.0000 norm=3.1944                    \n",
      " 22%|██▏       | 22/100 [00:02<00:13,  5.58trial/s, best loss: 2.5051836007082966]"
     ]
    },
    {
     "name": "stderr",
     "output_type": "stream",
     "text": [
      "2020-07-15 09:27:21 INFO     {'Base': DecisionTreeRegressor(criterion='friedman_mse', max_depth=4), 'learning_rate': 0.10051874512963674, 'minibatch_frac': 1.0, 'n_estimators': 20, 'verbose_eval': 1, 'random_state': 1}\n"
     ]
    },
    {
     "name": "stdout",
     "output_type": "stream",
     "text": [
      "\r",
      " 23%|██▎       | 23/100 [00:02<00:15,  4.84trial/s, best loss: 2.5051836007082966]"
     ]
    },
    {
     "name": "stderr",
     "output_type": "stream",
     "text": [
      "2020-07-15 09:27:21 INFO     build_posterior_wrapper took 0.001277 seconds\n",
      "2020-07-15 09:27:21 INFO     TPE using 23/23 trials with best loss 2.505184\n"
     ]
    },
    {
     "name": "stdout",
     "output_type": "stream",
     "text": [
      "{'Base': DecisionTreeRegressor(criterion='friedman_mse', max_depth=4), 'learning_rate': 0.16824712952649193, 'minibatch_frac': 1.0, 'n_estimators': 20, 'verbose_eval': 1, 'random_state': 1}\n",
      "[iter 0] loss=3.5985 val_loss=3.4820 scale=0.5000 norm=3.2975                     \n",
      "[iter 1] loss=3.4449 val_loss=3.4090 scale=0.5000 norm=3.0566                     \n",
      "[iter 2] loss=3.3689 val_loss=3.3544 scale=0.5000 norm=2.8444                     \n",
      "[iter 3] loss=3.3104 val_loss=3.2625 scale=1.0000 norm=5.2930                     \n",
      "[iter 4] loss=3.2109 val_loss=3.1844 scale=1.0000 norm=4.6049                     \n",
      "[iter 5] loss=3.1248 val_loss=3.1131 scale=1.0000 norm=4.0350                     \n",
      "[iter 6] loss=3.0453 val_loss=3.0468 scale=1.0000 norm=3.5752                     \n",
      "[iter 7] loss=2.9669 val_loss=2.9807 scale=1.0000 norm=3.1691                     \n",
      "[iter 8] loss=2.8927 val_loss=2.8553 scale=2.0000 norm=5.7092                     \n",
      "[iter 9] loss=2.7464 val_loss=2.7468 scale=2.0000 norm=4.6201                     \n",
      "[iter 10] loss=2.6052 val_loss=2.6620 scale=2.0000 norm=3.9135                    \n",
      "[iter 11] loss=2.4675 val_loss=2.5974 scale=2.0000 norm=3.4030                    \n",
      "[iter 12] loss=2.3400 val_loss=2.5615 scale=2.0000 norm=3.0929                    \n",
      "[iter 13] loss=2.2182 val_loss=2.5499 scale=2.0000 norm=2.8873                    \n",
      "[iter 14] loss=2.1052 val_loss=2.5813 scale=2.0000 norm=2.7230                    \n",
      "== Early stopping achieved.                                                       \n",
      "== Best iteration / VAL 13 (val_loss=2.5499)                                      \n",
      " 23%|██▎       | 23/100 [00:02<00:15,  4.84trial/s, best loss: 2.5051836007082966]"
     ]
    },
    {
     "name": "stderr",
     "output_type": "stream",
     "text": [
      "2020-07-15 09:27:21 INFO     {'Base': DecisionTreeRegressor(criterion='friedman_mse', max_depth=4), 'learning_rate': 0.16824712952649193, 'minibatch_frac': 1.0, 'n_estimators': 20, 'verbose_eval': 1, 'random_state': 1}\n"
     ]
    },
    {
     "name": "stdout",
     "output_type": "stream",
     "text": [
      "\r",
      " 24%|██▍       | 24/100 [00:02<00:16,  4.72trial/s, best loss: 2.5051836007082966]"
     ]
    },
    {
     "name": "stderr",
     "output_type": "stream",
     "text": [
      "2020-07-15 09:27:21 INFO     build_posterior_wrapper took 0.001339 seconds\n",
      "2020-07-15 09:27:21 INFO     TPE using 24/24 trials with best loss 2.505184\n"
     ]
    },
    {
     "name": "stdout",
     "output_type": "stream",
     "text": [
      "{'Base': DecisionTreeRegressor(criterion='friedman_mse', max_depth=4), 'learning_rate': 0.1707274480379524, 'minibatch_frac': 1.0, 'n_estimators': 20, 'verbose_eval': 1, 'random_state': 1}\n",
      "[iter 0] loss=3.5985 val_loss=3.4840 scale=0.5000 norm=3.2975                     \n",
      "[iter 1] loss=3.4432 val_loss=3.4090 scale=0.5000 norm=3.0531                     \n",
      "[iter 2] loss=3.3670 val_loss=3.3542 scale=0.5000 norm=2.8382                     \n",
      "[iter 3] loss=3.3079 val_loss=3.2572 scale=1.0000 norm=5.2761                     \n",
      "[iter 4] loss=3.2076 val_loss=3.1792 scale=1.0000 norm=4.5851                     \n",
      "[iter 5] loss=3.1201 val_loss=3.1051 scale=1.0000 norm=3.9922                     \n",
      "[iter 6] loss=3.0388 val_loss=3.0310 scale=1.0000 norm=3.5157                     \n",
      "[iter 7] loss=2.9602 val_loss=2.8887 scale=2.0000 norm=6.2684                     \n",
      "[iter 8] loss=2.8088 val_loss=2.7746 scale=2.0000 norm=4.9942                     \n",
      "[iter 9] loss=2.6639 val_loss=2.6754 scale=2.0000 norm=4.1825                     \n",
      "[iter 10] loss=2.5228 val_loss=2.6017 scale=2.0000 norm=3.5754                    \n",
      "[iter 11] loss=2.3882 val_loss=2.5328 scale=2.0000 norm=3.2047                    \n",
      "[iter 12] loss=2.2571 val_loss=2.5086 scale=2.0000 norm=2.8835                    \n",
      "[iter 13] loss=2.1255 val_loss=2.5048 scale=2.0000 norm=2.6116                    \n",
      "[iter 14] loss=2.0062 val_loss=2.5441 scale=2.0000 norm=2.4509                    \n",
      "== Early stopping achieved.                                                       \n",
      "== Best iteration / VAL 13 (val_loss=2.5048)                                      \n",
      " 24%|██▍       | 24/100 [00:03<00:16,  4.72trial/s, best loss: 2.5051836007082966]"
     ]
    },
    {
     "name": "stderr",
     "output_type": "stream",
     "text": [
      "2020-07-15 09:27:22 INFO     {'Base': DecisionTreeRegressor(criterion='friedman_mse', max_depth=4), 'learning_rate': 0.1707274480379524, 'minibatch_frac': 1.0, 'n_estimators': 20, 'verbose_eval': 1, 'random_state': 1}\n"
     ]
    },
    {
     "name": "stdout",
     "output_type": "stream",
     "text": [
      "\r",
      " 25%|██▌       | 25/100 [00:03<00:15,  4.69trial/s, best loss: 2.504803226042625] "
     ]
    },
    {
     "name": "stderr",
     "output_type": "stream",
     "text": [
      "2020-07-15 09:27:22 INFO     build_posterior_wrapper took 0.001268 seconds\n",
      "2020-07-15 09:27:22 INFO     TPE using 25/25 trials with best loss 2.504803\n"
     ]
    },
    {
     "name": "stdout",
     "output_type": "stream",
     "text": [
      "{'Base': DecisionTreeRegressor(criterion='friedman_mse', max_depth=4), 'learning_rate': 0.2314017201444883, 'minibatch_frac': 1.0, 'n_estimators': 20, 'verbose_eval': 1, 'random_state': 1}\n",
      "[iter 0] loss=3.5985 val_loss=3.4412 scale=0.5000 norm=3.2975                    \n",
      "[iter 1] loss=3.4063 val_loss=3.3596 scale=0.5000 norm=2.9685                    \n",
      "[iter 2] loss=3.3202 val_loss=3.2355 scale=1.0000 norm=5.3799                    \n",
      "[iter 3] loss=3.1870 val_loss=3.1350 scale=1.0000 norm=4.4172                    \n",
      "[iter 4] loss=3.0725 val_loss=3.0451 scale=1.0000 norm=3.6634                    \n",
      "[iter 5] loss=2.9650 val_loss=2.8721 scale=2.0000 norm=6.2046                    \n",
      "[iter 6] loss=2.7659 val_loss=2.7321 scale=2.0000 norm=4.6748                    \n",
      "[iter 7] loss=2.5762 val_loss=2.6308 scale=2.0000 norm=3.7695                    \n",
      "[iter 8] loss=2.4008 val_loss=2.5581 scale=2.0000 norm=3.2656                    \n",
      "[iter 9] loss=2.2327 val_loss=2.5729 scale=2.0000 norm=2.9166                    \n",
      "== Early stopping achieved.                                                      \n",
      "== Best iteration / VAL 8 (val_loss=2.5581)                                      \n",
      " 25%|██▌       | 25/100 [00:03<00:15,  4.69trial/s, best loss: 2.504803226042625]"
     ]
    },
    {
     "name": "stderr",
     "output_type": "stream",
     "text": [
      "2020-07-15 09:27:22 INFO     {'Base': DecisionTreeRegressor(criterion='friedman_mse', max_depth=4), 'learning_rate': 0.2314017201444883, 'minibatch_frac': 1.0, 'n_estimators': 20, 'verbose_eval': 1, 'random_state': 1}\n"
     ]
    },
    {
     "name": "stdout",
     "output_type": "stream",
     "text": [
      "\r",
      " 26%|██▌       | 26/100 [00:03<00:14,  5.17trial/s, best loss: 2.504803226042625]"
     ]
    },
    {
     "name": "stderr",
     "output_type": "stream",
     "text": [
      "2020-07-15 09:27:22 INFO     build_posterior_wrapper took 0.001275 seconds\n",
      "2020-07-15 09:27:22 INFO     TPE using 26/26 trials with best loss 2.504803\n"
     ]
    },
    {
     "name": "stdout",
     "output_type": "stream",
     "text": [
      "{'Base': DecisionTreeRegressor(criterion='friedman_mse', max_depth=4), 'learning_rate': 0.05487315079066056, 'minibatch_frac': 1.0, 'n_estimators': 20, 'verbose_eval': 1, 'random_state': 1}\n",
      "[iter 0] loss=3.5985 val_loss=3.5900 scale=0.5000 norm=3.2975                    \n",
      "[iter 1] loss=3.5380 val_loss=3.5449 scale=0.5000 norm=3.2175                    \n",
      "[iter 2] loss=3.4945 val_loss=3.5099 scale=0.5000 norm=3.1417                    \n",
      "[iter 3] loss=3.4598 val_loss=3.4798 scale=0.5000 norm=3.0688                    \n",
      "[iter 4] loss=3.4303 val_loss=3.4537 scale=0.5000 norm=2.9991                    \n",
      "[iter 5] loss=3.4044 val_loss=3.4304 scale=0.5000 norm=2.9312                    \n",
      "[iter 6] loss=3.3810 val_loss=3.4085 scale=0.5000 norm=2.8626                    \n",
      "[iter 7] loss=3.3594 val_loss=3.3891 scale=0.5000 norm=2.7991                    \n",
      "[iter 8] loss=3.3395 val_loss=3.3709 scale=0.5000 norm=2.7387                    \n",
      "[iter 9] loss=3.3206 val_loss=3.3350 scale=1.0000 norm=5.3526                    \n",
      "[iter 10] loss=3.2853 val_loss=3.3042 scale=1.0000 norm=5.1225                   \n",
      "[iter 11] loss=3.2521 val_loss=3.2745 scale=1.0000 norm=4.9021                   \n",
      "[iter 12] loss=3.2212 val_loss=3.2463 scale=1.0000 norm=4.6993                   \n",
      "[iter 13] loss=3.1912 val_loss=3.2195 scale=1.0000 norm=4.4990                   \n",
      "[iter 14] loss=3.1626 val_loss=3.1921 scale=1.0000 norm=4.3191                   \n",
      "[iter 15] loss=3.1349 val_loss=3.1672 scale=1.0000 norm=4.1490                   \n",
      "[iter 16] loss=3.1083 val_loss=3.1421 scale=1.0000 norm=3.9937                   \n",
      "[iter 17] loss=3.0815 val_loss=3.1206 scale=1.0000 norm=3.8372                   \n",
      "[iter 18] loss=3.0555 val_loss=3.0962 scale=1.0000 norm=3.6956                   \n",
      "[iter 19] loss=3.0301 val_loss=3.0720 scale=1.0000 norm=3.5625                   \n",
      " 26%|██▌       | 26/100 [00:03<00:14,  5.17trial/s, best loss: 2.504803226042625]"
     ]
    },
    {
     "name": "stderr",
     "output_type": "stream",
     "text": [
      "2020-07-15 09:27:22 INFO     {'Base': DecisionTreeRegressor(criterion='friedman_mse', max_depth=4), 'learning_rate': 0.05487315079066056, 'minibatch_frac': 1.0, 'n_estimators': 20, 'verbose_eval': 1, 'random_state': 1}\n"
     ]
    },
    {
     "name": "stdout",
     "output_type": "stream",
     "text": [
      "\r",
      " 27%|██▋       | 27/100 [00:03<00:15,  4.69trial/s, best loss: 2.504803226042625]"
     ]
    },
    {
     "name": "stderr",
     "output_type": "stream",
     "text": [
      "2020-07-15 09:27:22 INFO     build_posterior_wrapper took 0.001049 seconds\n",
      "2020-07-15 09:27:22 INFO     TPE using 27/27 trials with best loss 2.504803\n"
     ]
    },
    {
     "name": "stdout",
     "output_type": "stream",
     "text": [
      "{'Base': DecisionTreeRegressor(criterion='friedman_mse', max_depth=4), 'learning_rate': 0.13162142329186155, 'minibatch_frac': 1.0, 'n_estimators': 20, 'verbose_eval': 1, 'random_state': 1}\n",
      "[iter 0] loss=3.5985 val_loss=3.5150 scale=0.5000 norm=3.2975                    \n",
      "[iter 1] loss=3.4711 val_loss=3.4465 scale=0.5000 norm=3.1081                    \n",
      "[iter 2] loss=3.4025 val_loss=3.3962 scale=0.5000 norm=2.9361                    \n",
      "[iter 3] loss=3.3501 val_loss=3.3529 scale=0.5000 norm=2.7791                    \n",
      "[iter 4] loss=3.3055 val_loss=3.2756 scale=1.0000 norm=5.2546                    \n",
      "[iter 5] loss=3.2265 val_loss=3.2123 scale=1.0000 norm=4.7221                    \n",
      "[iter 6] loss=3.1564 val_loss=3.1531 scale=1.0000 norm=4.2472                    \n",
      "[iter 7] loss=3.0925 val_loss=3.1000 scale=1.0000 norm=3.8582                    \n",
      "[iter 8] loss=3.0298 val_loss=3.0425 scale=1.0000 norm=3.5108                    \n",
      "[iter 9] loss=2.9692 val_loss=2.9870 scale=1.0000 norm=3.2201                    \n",
      "[iter 10] loss=2.9087 val_loss=2.8830 scale=2.0000 norm=5.8880                   \n",
      "[iter 11] loss=2.7934 val_loss=2.7892 scale=2.0000 norm=5.0049                   \n",
      "[iter 12] loss=2.6815 val_loss=2.7040 scale=2.0000 norm=4.3367                   \n",
      "[iter 13] loss=2.5759 val_loss=2.6395 scale=2.0000 norm=3.8688                   \n",
      "[iter 14] loss=2.4718 val_loss=2.5818 scale=2.0000 norm=3.5102                   \n",
      "[iter 15] loss=2.3701 val_loss=2.5385 scale=2.0000 norm=3.2171                   \n",
      "[iter 16] loss=2.2754 val_loss=2.5132 scale=2.0000 norm=3.0183                   \n",
      "[iter 17] loss=2.1844 val_loss=2.4941 scale=2.0000 norm=2.8554                   \n",
      "[iter 18] loss=2.0880 val_loss=2.5062 scale=2.0000 norm=2.6306                   \n",
      "== Early stopping achieved.                                                      \n",
      "== Best iteration / VAL 17 (val_loss=2.4941)                                     \n",
      " 27%|██▋       | 27/100 [00:03<00:15,  4.69trial/s, best loss: 2.504803226042625]"
     ]
    },
    {
     "name": "stderr",
     "output_type": "stream",
     "text": [
      "2020-07-15 09:27:22 INFO     {'Base': DecisionTreeRegressor(criterion='friedman_mse', max_depth=4), 'learning_rate': 0.13162142329186155, 'minibatch_frac': 1.0, 'n_estimators': 20, 'verbose_eval': 1, 'random_state': 1}\n"
     ]
    },
    {
     "name": "stdout",
     "output_type": "stream",
     "text": [
      "\r",
      " 28%|██▊       | 28/100 [00:03<00:16,  4.44trial/s, best loss: 2.494097153939505]"
     ]
    },
    {
     "name": "stderr",
     "output_type": "stream",
     "text": [
      "2020-07-15 09:27:22 INFO     build_posterior_wrapper took 0.001282 seconds\n",
      "2020-07-15 09:27:22 INFO     TPE using 28/28 trials with best loss 2.494097\n"
     ]
    },
    {
     "name": "stdout",
     "output_type": "stream",
     "text": [
      "{'Base': DecisionTreeRegressor(criterion='friedman_mse', max_depth=4), 'learning_rate': 0.2575823897106731, 'minibatch_frac': 1.0, 'n_estimators': 20, 'verbose_eval': 1, 'random_state': 1}\n",
      "[iter 0] loss=3.5985 val_loss=3.4275 scale=0.5000 norm=3.2975                    \n",
      "[iter 1] loss=3.3924 val_loss=3.3446 scale=0.5000 norm=2.9322                    \n",
      "[iter 2] loss=3.3003 val_loss=3.2100 scale=1.0000 norm=5.2347                    \n",
      "[iter 3] loss=3.1591 val_loss=3.0984 scale=1.0000 norm=4.2128                    \n",
      "[iter 4] loss=3.0348 val_loss=2.9940 scale=1.0000 norm=3.4518                    \n",
      "[iter 5] loss=2.9170 val_loss=2.8011 scale=2.0000 norm=5.7747                    \n",
      "[iter 6] loss=2.6980 val_loss=2.6682 scale=2.0000 norm=4.2078                    \n",
      "[iter 7] loss=2.4853 val_loss=2.5466 scale=2.0000 norm=3.3599                    \n",
      "[iter 8] loss=2.2843 val_loss=2.4976 scale=2.0000 norm=2.8809                    \n",
      "[iter 9] loss=2.0950 val_loss=2.5551 scale=2.0000 norm=2.5625                    \n",
      "== Early stopping achieved.                                                      \n",
      "== Best iteration / VAL 8 (val_loss=2.4976)                                      \n",
      " 28%|██▊       | 28/100 [00:03<00:16,  4.44trial/s, best loss: 2.494097153939505]"
     ]
    },
    {
     "name": "stderr",
     "output_type": "stream",
     "text": [
      "2020-07-15 09:27:22 INFO     {'Base': DecisionTreeRegressor(criterion='friedman_mse', max_depth=4), 'learning_rate': 0.2575823897106731, 'minibatch_frac': 1.0, 'n_estimators': 20, 'verbose_eval': 1, 'random_state': 1}\n"
     ]
    },
    {
     "name": "stdout",
     "output_type": "stream",
     "text": [
      "\r",
      " 29%|██▉       | 29/100 [00:03<00:14,  4.94trial/s, best loss: 2.494097153939505]"
     ]
    },
    {
     "name": "stderr",
     "output_type": "stream",
     "text": [
      "2020-07-15 09:27:23 INFO     build_posterior_wrapper took 0.001242 seconds\n",
      "2020-07-15 09:27:23 INFO     TPE using 29/29 trials with best loss 2.494097\n"
     ]
    },
    {
     "name": "stdout",
     "output_type": "stream",
     "text": [
      "{'Base': DecisionTreeRegressor(criterion='friedman_mse', max_depth=2), 'learning_rate': 0.29168108760868805, 'minibatch_frac': 1.0, 'n_estimators': 20, 'verbose_eval': 1, 'random_state': 1}\n",
      "[iter 0] loss=3.5985 val_loss=3.4561 scale=0.5000 norm=3.2975                    \n",
      "[iter 1] loss=3.4237 val_loss=3.3191 scale=1.0000 norm=5.8948                    \n",
      "[iter 2] loss=3.2649 val_loss=3.2103 scale=1.0000 norm=4.9111                    \n",
      "[iter 3] loss=3.1479 val_loss=3.1130 scale=1.0000 norm=4.2078                    \n",
      "[iter 4] loss=3.0336 val_loss=2.9715 scale=2.0000 norm=7.2374                    \n",
      "[iter 5] loss=2.8283 val_loss=2.8724 scale=2.0000 norm=5.7960                    \n",
      "[iter 6] loss=2.6493 val_loss=2.8293 scale=2.0000 norm=5.0756                    \n",
      "[iter 7] loss=2.5162 val_loss=2.8494 scale=2.0000 norm=4.7778                    \n",
      "== Early stopping achieved.                                                      \n",
      "== Best iteration / VAL 6 (val_loss=2.8293)                                      \n",
      " 29%|██▉       | 29/100 [00:04<00:14,  4.94trial/s, best loss: 2.494097153939505]"
     ]
    },
    {
     "name": "stderr",
     "output_type": "stream",
     "text": [
      "2020-07-15 09:27:23 INFO     {'Base': DecisionTreeRegressor(criterion='friedman_mse', max_depth=2), 'learning_rate': 0.29168108760868805, 'minibatch_frac': 1.0, 'n_estimators': 20, 'verbose_eval': 1, 'random_state': 1}\n"
     ]
    },
    {
     "name": "stdout",
     "output_type": "stream",
     "text": [
      "\r",
      " 30%|███       | 30/100 [00:04<00:12,  5.72trial/s, best loss: 2.494097153939505]"
     ]
    },
    {
     "name": "stderr",
     "output_type": "stream",
     "text": [
      "2020-07-15 09:27:23 INFO     build_posterior_wrapper took 0.001272 seconds\n",
      "2020-07-15 09:27:23 INFO     TPE using 30/30 trials with best loss 2.494097\n"
     ]
    },
    {
     "name": "stdout",
     "output_type": "stream",
     "text": [
      "{'Base': DecisionTreeRegressor(criterion='friedman_mse', max_depth=4), 'learning_rate': 0.3064824440948666, 'minibatch_frac': 1.0, 'n_estimators': 20, 'verbose_eval': 1, 'random_state': 1}\n",
      "[iter 0] loss=3.5985 val_loss=3.4077 scale=0.5000 norm=3.2975                    \n",
      "[iter 1] loss=3.3692 val_loss=3.3167 scale=0.5000 norm=2.8648                    \n",
      "[iter 2] loss=3.2693 val_loss=3.1631 scale=1.0000 norm=5.0070                    \n",
      "[iter 3] loss=3.1118 val_loss=3.0428 scale=1.0000 norm=3.8636                    \n",
      "[iter 4] loss=2.9686 val_loss=2.8208 scale=2.0000 norm=6.1494                    \n",
      "[iter 5] loss=2.7077 val_loss=2.6533 scale=2.0000 norm=4.2189                    \n",
      "[iter 6] loss=2.4724 val_loss=2.5591 scale=2.0000 norm=3.4119                    \n",
      "[iter 7] loss=2.2504 val_loss=2.5737 scale=2.0000 norm=2.9324                    \n",
      "== Early stopping achieved.                                                      \n",
      "== Best iteration / VAL 6 (val_loss=2.5591)                                      \n",
      " 30%|███       | 30/100 [00:04<00:12,  5.72trial/s, best loss: 2.494097153939505]"
     ]
    },
    {
     "name": "stderr",
     "output_type": "stream",
     "text": [
      "2020-07-15 09:27:23 INFO     {'Base': DecisionTreeRegressor(criterion='friedman_mse', max_depth=4), 'learning_rate': 0.3064824440948666, 'minibatch_frac': 1.0, 'n_estimators': 20, 'verbose_eval': 1, 'random_state': 1}\n"
     ]
    },
    {
     "name": "stdout",
     "output_type": "stream",
     "text": [
      "\r",
      " 31%|███       | 31/100 [00:04<00:11,  6.22trial/s, best loss: 2.494097153939505]"
     ]
    },
    {
     "name": "stderr",
     "output_type": "stream",
     "text": [
      "2020-07-15 09:27:23 INFO     build_posterior_wrapper took 0.001031 seconds\n",
      "2020-07-15 09:27:23 INFO     TPE using 31/31 trials with best loss 2.494097\n"
     ]
    },
    {
     "name": "stdout",
     "output_type": "stream",
     "text": [
      "{'Base': DecisionTreeRegressor(criterion='friedman_mse', max_depth=4), 'learning_rate': 0.22327254159828025, 'minibatch_frac': 1.0, 'n_estimators': 20, 'verbose_eval': 1, 'random_state': 1}\n",
      "[iter 0] loss=3.5985 val_loss=3.4458 scale=0.5000 norm=3.2975                    \n",
      "[iter 1] loss=3.4109 val_loss=3.3652 scale=0.5000 norm=2.9797                    \n",
      "[iter 2] loss=3.3260 val_loss=3.2435 scale=1.0000 norm=5.4187                    \n",
      "[iter 3] loss=3.1954 val_loss=3.1460 scale=1.0000 norm=4.4802                    \n",
      "[iter 4] loss=3.0836 val_loss=3.0580 scale=1.0000 norm=3.7284                    \n",
      "[iter 5] loss=2.9798 val_loss=2.8888 scale=2.0000 norm=6.3558                    \n",
      "[iter 6] loss=2.7883 val_loss=2.7529 scale=2.0000 norm=4.8326                    \n",
      "[iter 7] loss=2.6116 val_loss=2.6347 scale=2.0000 norm=3.9533                    \n",
      "[iter 8] loss=2.4390 val_loss=2.5706 scale=2.0000 norm=3.3994                    \n",
      "[iter 9] loss=2.2743 val_loss=2.5386 scale=2.0000 norm=3.0335                    \n",
      "[iter 10] loss=2.1156 val_loss=2.5464 scale=2.0000 norm=2.7321                   \n",
      "== Early stopping achieved.                                                      \n",
      "== Best iteration / VAL 9 (val_loss=2.5386)                                      \n",
      " 31%|███       | 31/100 [00:04<00:11,  6.22trial/s, best loss: 2.494097153939505]"
     ]
    },
    {
     "name": "stderr",
     "output_type": "stream",
     "text": [
      "2020-07-15 09:27:23 INFO     {'Base': DecisionTreeRegressor(criterion='friedman_mse', max_depth=4), 'learning_rate': 0.22327254159828025, 'minibatch_frac': 1.0, 'n_estimators': 20, 'verbose_eval': 1, 'random_state': 1}\n"
     ]
    },
    {
     "name": "stdout",
     "output_type": "stream",
     "text": [
      "\r",
      " 32%|███▏      | 32/100 [00:04<00:10,  6.26trial/s, best loss: 2.494097153939505]"
     ]
    },
    {
     "name": "stderr",
     "output_type": "stream",
     "text": [
      "2020-07-15 09:27:23 INFO     build_posterior_wrapper took 0.001283 seconds\n",
      "2020-07-15 09:27:23 INFO     TPE using 32/32 trials with best loss 2.494097\n"
     ]
    },
    {
     "name": "stdout",
     "output_type": "stream",
     "text": [
      "{'Base': DecisionTreeRegressor(criterion='friedman_mse', max_depth=4), 'learning_rate': 0.12406311088529219, 'minibatch_frac': 1.0, 'n_estimators': 20, 'verbose_eval': 1, 'random_state': 1}\n",
      "[iter 0] loss=3.5985 val_loss=3.5178 scale=0.5000 norm=3.2975                    \n",
      "[iter 1] loss=3.4770 val_loss=3.4519 scale=0.5000 norm=3.1188                    \n",
      "[iter 2] loss=3.4101 val_loss=3.4039 scale=0.5000 norm=2.9566                    \n",
      "[iter 3] loss=3.3592 val_loss=3.3614 scale=0.5000 norm=2.8070                    \n",
      "[iter 4] loss=3.3157 val_loss=3.2881 scale=1.0000 norm=5.3261                    \n",
      "[iter 5] loss=3.2392 val_loss=3.2269 scale=1.0000 norm=4.8127                    \n",
      "[iter 6] loss=3.1713 val_loss=3.1726 scale=1.0000 norm=4.3465                    \n",
      "[iter 7] loss=3.1095 val_loss=3.1162 scale=1.0000 norm=3.9650                    \n",
      "[iter 8] loss=3.0508 val_loss=3.0619 scale=1.0000 norm=3.6279                    \n",
      "[iter 9] loss=2.9936 val_loss=3.0105 scale=1.0000 norm=3.3459                    \n",
      "[iter 10] loss=2.9375 val_loss=2.9187 scale=2.0000 norm=6.1715                   \n",
      "[iter 11] loss=2.8282 val_loss=2.8317 scale=2.0000 norm=5.2930                   \n",
      "[iter 12] loss=2.7244 val_loss=2.7505 scale=2.0000 norm=4.6414                   \n",
      "[iter 13] loss=2.6182 val_loss=2.6810 scale=2.0000 norm=4.0725                   \n",
      "[iter 14] loss=2.5156 val_loss=2.6256 scale=2.0000 norm=3.6422                   \n",
      "[iter 15] loss=2.4182 val_loss=2.5812 scale=2.0000 norm=3.3292                   \n",
      "[iter 16] loss=2.3242 val_loss=2.5512 scale=2.0000 norm=3.0819                   \n",
      "[iter 17] loss=2.2368 val_loss=2.5286 scale=2.0000 norm=2.9240                   \n",
      "[iter 18] loss=2.1481 val_loss=2.5228 scale=2.0000 norm=2.7421                   \n",
      "[iter 19] loss=2.0617 val_loss=2.5396 scale=2.0000 norm=2.5977                   \n",
      " 32%|███▏      | 32/100 [00:04<00:10,  6.26trial/s, best loss: 2.494097153939505]"
     ]
    },
    {
     "name": "stderr",
     "output_type": "stream",
     "text": [
      "2020-07-15 09:27:23 INFO     {'Base': DecisionTreeRegressor(criterion='friedman_mse', max_depth=4), 'learning_rate': 0.12406311088529219, 'minibatch_frac': 1.0, 'n_estimators': 20, 'verbose_eval': 1, 'random_state': 1}\n"
     ]
    },
    {
     "name": "stdout",
     "output_type": "stream",
     "text": [
      "\r",
      " 33%|███▎      | 33/100 [00:04<00:12,  5.31trial/s, best loss: 2.494097153939505]"
     ]
    },
    {
     "name": "stderr",
     "output_type": "stream",
     "text": [
      "2020-07-15 09:27:23 INFO     build_posterior_wrapper took 0.001251 seconds\n",
      "2020-07-15 09:27:23 INFO     TPE using 33/33 trials with best loss 2.494097\n"
     ]
    },
    {
     "name": "stdout",
     "output_type": "stream",
     "text": [
      "{'Base': DecisionTreeRegressor(criterion='friedman_mse', max_depth=4), 'learning_rate': 0.6240679594731597, 'minibatch_frac': 1.0, 'n_estimators': 20, 'verbose_eval': 1, 'random_state': 1}\n",
      "[iter 0] loss=3.5985 val_loss=3.3255 scale=0.5000 norm=3.2975                    \n",
      "[iter 1] loss=3.2724 val_loss=3.0542 scale=1.0000 norm=4.8766                    \n",
      "[iter 2] loss=2.9894 val_loss=2.7194 scale=2.0000 norm=5.5415                    \n",
      "[iter 3] loss=2.5354 val_loss=2.7969 scale=2.0000 norm=3.7964                    \n",
      "== Early stopping achieved.                                                      \n",
      "== Best iteration / VAL 2 (val_loss=2.7194)                                      \n",
      " 33%|███▎      | 33/100 [00:04<00:12,  5.31trial/s, best loss: 2.494097153939505]"
     ]
    },
    {
     "name": "stderr",
     "output_type": "stream",
     "text": [
      "2020-07-15 09:27:23 INFO     {'Base': DecisionTreeRegressor(criterion='friedman_mse', max_depth=4), 'learning_rate': 0.6240679594731597, 'minibatch_frac': 1.0, 'n_estimators': 20, 'verbose_eval': 1, 'random_state': 1}\n",
      "2020-07-15 09:27:23 INFO     build_posterior_wrapper took 0.001127 seconds\n",
      "2020-07-15 09:27:23 INFO     TPE using 34/34 trials with best loss 2.494097\n"
     ]
    },
    {
     "name": "stdout",
     "output_type": "stream",
     "text": [
      "{'Base': DecisionTreeRegressor(criterion='friedman_mse', max_depth=4), 'learning_rate': 0.696037161780935, 'minibatch_frac': 1.0, 'n_estimators': 20, 'verbose_eval': 1, 'random_state': 1}\n",
      "[iter 0] loss=3.5985 val_loss=3.3166 scale=0.5000 norm=3.2975                    \n",
      "[iter 1] loss=3.2583 val_loss=3.0196 scale=1.0000 norm=4.6879                    \n",
      "[iter 2] loss=2.9491 val_loss=2.6120 scale=2.0000 norm=5.0259                    \n",
      "[iter 3] loss=2.4692 val_loss=2.7901 scale=2.0000 norm=3.8068                    \n",
      "== Early stopping achieved.                                                      \n",
      "== Best iteration / VAL 2 (val_loss=2.6120)                                      \n",
      " 34%|███▍      | 34/100 [00:04<00:12,  5.31trial/s, best loss: 2.494097153939505]"
     ]
    },
    {
     "name": "stderr",
     "output_type": "stream",
     "text": [
      "2020-07-15 09:27:23 INFO     {'Base': DecisionTreeRegressor(criterion='friedman_mse', max_depth=4), 'learning_rate': 0.696037161780935, 'minibatch_frac': 1.0, 'n_estimators': 20, 'verbose_eval': 1, 'random_state': 1}\n"
     ]
    },
    {
     "name": "stdout",
     "output_type": "stream",
     "text": [
      "\r",
      " 35%|███▌      | 35/100 [00:04<00:09,  6.51trial/s, best loss: 2.494097153939505]"
     ]
    },
    {
     "name": "stderr",
     "output_type": "stream",
     "text": [
      "2020-07-15 09:27:23 INFO     build_posterior_wrapper took 0.001162 seconds\n",
      "2020-07-15 09:27:23 INFO     TPE using 35/35 trials with best loss 2.494097\n"
     ]
    },
    {
     "name": "stdout",
     "output_type": "stream",
     "text": [
      "{'Base': DecisionTreeRegressor(criterion='friedman_mse', max_depth=2), 'learning_rate': 0.5549067210476191, 'minibatch_frac': 1.0, 'n_estimators': 20, 'verbose_eval': 1, 'random_state': 1}\n",
      "[iter 0] loss=3.5985 val_loss=3.3736 scale=0.5000 norm=3.2975                    \n",
      "[iter 1] loss=3.3428 val_loss=3.1829 scale=1.0000 norm=5.3103                    \n",
      "[iter 2] loss=3.1095 val_loss=2.9092 scale=2.0000 norm=7.6902                    \n",
      "[iter 3] loss=2.8099 val_loss=2.8690 scale=2.0000 norm=5.9678                    \n",
      "[iter 4] loss=2.6465 val_loss=2.8601 scale=1.0000 norm=2.7516                    \n",
      "[iter 5] loss=2.5780 val_loss=2.8767 scale=1.0000 norm=2.5750                    \n",
      "== Early stopping achieved.                                                      \n",
      "== Best iteration / VAL 4 (val_loss=2.8601)                                      \n",
      " 35%|███▌      | 35/100 [00:04<00:09,  6.51trial/s, best loss: 2.494097153939505]"
     ]
    },
    {
     "name": "stderr",
     "output_type": "stream",
     "text": [
      "2020-07-15 09:27:23 INFO     {'Base': DecisionTreeRegressor(criterion='friedman_mse', max_depth=2), 'learning_rate': 0.5549067210476191, 'minibatch_frac': 1.0, 'n_estimators': 20, 'verbose_eval': 1, 'random_state': 1}\n",
      "2020-07-15 09:27:23 INFO     build_posterior_wrapper took 0.001251 seconds\n",
      "2020-07-15 09:27:23 INFO     TPE using 36/36 trials with best loss 2.494097\n"
     ]
    },
    {
     "name": "stdout",
     "output_type": "stream",
     "text": [
      "{'Base': DecisionTreeRegressor(criterion='friedman_mse', max_depth=4), 'learning_rate': 0.3398865434903897, 'minibatch_frac': 1.0, 'n_estimators': 20, 'verbose_eval': 1, 'random_state': 1}\n",
      "[iter 0] loss=3.5985 val_loss=3.3917 scale=0.5000 norm=3.2975                    \n",
      "[iter 1] loss=3.3550 val_loss=3.2985 scale=0.5000 norm=2.8191                    \n",
      "[iter 2] loss=3.2499 val_loss=3.1382 scale=1.0000 norm=4.8594                    \n",
      "[iter 3] loss=3.0800 val_loss=2.9960 scale=1.0000 norm=3.6505                    \n",
      "[iter 4] loss=2.9232 val_loss=2.7717 scale=2.0000 norm=5.6952                    \n",
      "[iter 5] loss=2.6371 val_loss=2.6208 scale=2.0000 norm=3.8108                    \n",
      "[iter 6] loss=2.3810 val_loss=2.5394 scale=2.0000 norm=3.2028                    \n",
      "[iter 7] loss=2.1468 val_loss=2.6262 scale=2.0000 norm=2.7592                    \n",
      "== Early stopping achieved.                                                      \n",
      "== Best iteration / VAL 6 (val_loss=2.5394)                                      \n",
      " 36%|███▌      | 36/100 [00:04<00:09,  6.51trial/s, best loss: 2.494097153939505]"
     ]
    },
    {
     "name": "stderr",
     "output_type": "stream",
     "text": [
      "2020-07-15 09:27:24 INFO     {'Base': DecisionTreeRegressor(criterion='friedman_mse', max_depth=4), 'learning_rate': 0.3398865434903897, 'minibatch_frac': 1.0, 'n_estimators': 20, 'verbose_eval': 1, 'random_state': 1}\n"
     ]
    },
    {
     "name": "stdout",
     "output_type": "stream",
     "text": [
      "\r",
      " 37%|███▋      | 37/100 [00:04<00:08,  7.15trial/s, best loss: 2.494097153939505]"
     ]
    },
    {
     "name": "stderr",
     "output_type": "stream",
     "text": [
      "2020-07-15 09:27:24 INFO     build_posterior_wrapper took 0.001043 seconds\n",
      "2020-07-15 09:27:24 INFO     TPE using 37/37 trials with best loss 2.494097\n"
     ]
    },
    {
     "name": "stdout",
     "output_type": "stream",
     "text": [
      "{'Base': DecisionTreeRegressor(criterion='friedman_mse', max_depth=4), 'learning_rate': 0.8843885337877144, 'minibatch_frac': 1.0, 'n_estimators': 20, 'verbose_eval': 1, 'random_state': 1}\n",
      "[iter 0] loss=3.5985 val_loss=3.3054 scale=0.5000 norm=3.2975                    \n",
      "[iter 1] loss=3.2291 val_loss=2.9765 scale=1.0000 norm=4.2035                    \n",
      "[iter 2] loss=2.8589 val_loss=2.7327 scale=2.0000 norm=4.3033                    \n",
      "[iter 3] loss=2.3585 val_loss=3.0989 scale=2.0000 norm=3.9078                    \n",
      "== Early stopping achieved.                                                      \n",
      "== Best iteration / VAL 2 (val_loss=2.7327)                                      \n",
      " 37%|███▋      | 37/100 [00:05<00:08,  7.15trial/s, best loss: 2.494097153939505]"
     ]
    },
    {
     "name": "stderr",
     "output_type": "stream",
     "text": [
      "2020-07-15 09:27:24 INFO     {'Base': DecisionTreeRegressor(criterion='friedman_mse', max_depth=4), 'learning_rate': 0.8843885337877144, 'minibatch_frac': 1.0, 'n_estimators': 20, 'verbose_eval': 1, 'random_state': 1}\n",
      "2020-07-15 09:27:24 INFO     build_posterior_wrapper took 0.001245 seconds\n",
      "2020-07-15 09:27:24 INFO     TPE using 38/38 trials with best loss 2.494097\n"
     ]
    },
    {
     "name": "stdout",
     "output_type": "stream",
     "text": [
      "{'Base': DecisionTreeRegressor(criterion='friedman_mse', max_depth=2), 'learning_rate': 0.2607687500583433, 'minibatch_frac': 1.0, 'n_estimators': 20, 'verbose_eval': 1, 'random_state': 1}\n",
      "[iter 0] loss=3.5985 val_loss=3.4704 scale=0.5000 norm=3.2975                    \n",
      "[iter 1] loss=3.4366 val_loss=3.3974 scale=0.5000 norm=2.9830                    \n",
      "[iter 2] loss=3.3531 val_loss=3.2842 scale=1.0000 norm=5.4882                    \n",
      "[iter 3] loss=3.2268 val_loss=3.1777 scale=1.0000 norm=4.6308                    \n",
      "[iter 4] loss=3.1190 val_loss=3.0886 scale=1.0000 norm=4.0326                    \n",
      "[iter 5] loss=3.0187 val_loss=2.9545 scale=2.0000 norm=7.1144                    \n",
      "[iter 6] loss=2.8334 val_loss=2.8320 scale=2.0000 norm=5.8907                    \n",
      "[iter 7] loss=2.6595 val_loss=2.7869 scale=2.0000 norm=5.0357                    \n",
      "[iter 8] loss=2.5368 val_loss=2.7658 scale=2.0000 norm=4.8127                    \n",
      "[iter 9] loss=2.4298 val_loss=2.7056 scale=2.0000 norm=4.5150                    \n",
      "[iter 10] loss=2.3597 val_loss=2.7041 scale=1.0000 norm=2.1449                   \n",
      "[iter 11] loss=2.3208 val_loss=2.7461 scale=2.0000 norm=4.1635                   \n",
      "== Early stopping achieved.                                                      \n",
      "== Best iteration / VAL 10 (val_loss=2.7041)                                     \n",
      " 38%|███▊      | 38/100 [00:05<00:08,  7.15trial/s, best loss: 2.494097153939505]"
     ]
    },
    {
     "name": "stderr",
     "output_type": "stream",
     "text": [
      "2020-07-15 09:27:24 INFO     {'Base': DecisionTreeRegressor(criterion='friedman_mse', max_depth=2), 'learning_rate': 0.2607687500583433, 'minibatch_frac': 1.0, 'n_estimators': 20, 'verbose_eval': 1, 'random_state': 1}\n"
     ]
    },
    {
     "name": "stdout",
     "output_type": "stream",
     "text": [
      "\r",
      " 39%|███▉      | 39/100 [00:05<00:08,  7.53trial/s, best loss: 2.494097153939505]"
     ]
    },
    {
     "name": "stderr",
     "output_type": "stream",
     "text": [
      "2020-07-15 09:27:24 INFO     build_posterior_wrapper took 0.001417 seconds\n",
      "2020-07-15 09:27:24 INFO     TPE using 39/39 trials with best loss 2.494097\n"
     ]
    },
    {
     "name": "stdout",
     "output_type": "stream",
     "text": [
      "{'Base': DecisionTreeRegressor(criterion='friedman_mse', max_depth=3), 'learning_rate': 0.05453723934138334, 'minibatch_frac': 1.0, 'n_estimators': 20, 'verbose_eval': 1, 'random_state': 1}\n",
      "[iter 0] loss=3.5985 val_loss=3.5963 scale=0.5000 norm=3.2975                    \n",
      "[iter 1] loss=3.5432 val_loss=3.5524 scale=0.5000 norm=3.2261                    \n",
      "[iter 2] loss=3.5036 val_loss=3.5191 scale=0.5000 norm=3.1587                    \n",
      "[iter 3] loss=3.4718 val_loss=3.4915 scale=0.5000 norm=3.0940                    \n",
      "[iter 4] loss=3.4447 val_loss=3.4662 scale=0.5000 norm=3.0317                    \n",
      "[iter 5] loss=3.4209 val_loss=3.4432 scale=0.5000 norm=2.9718                    \n",
      "[iter 6] loss=3.3990 val_loss=3.4232 scale=0.5000 norm=2.9111                    \n",
      "[iter 7] loss=3.3792 val_loss=3.3856 scale=1.0000 norm=5.7101                    \n",
      "[iter 8] loss=3.3420 val_loss=3.3533 scale=1.0000 norm=5.4835                    \n",
      "[iter 9] loss=3.3082 val_loss=3.3245 scale=1.0000 norm=5.2800                    \n",
      "[iter 10] loss=3.2774 val_loss=3.2945 scale=1.0000 norm=5.0863                   \n",
      "[iter 11] loss=3.2484 val_loss=3.2665 scale=1.0000 norm=4.8991                   \n",
      "[iter 12] loss=3.2204 val_loss=3.2399 scale=1.0000 norm=4.7180                   \n",
      "[iter 13] loss=3.1937 val_loss=3.2142 scale=1.0000 norm=4.5448                   \n",
      "[iter 14] loss=3.1669 val_loss=3.1919 scale=1.0000 norm=4.3740                   \n",
      "[iter 15] loss=3.1417 val_loss=3.1678 scale=1.0000 norm=4.2223                   \n",
      "[iter 16] loss=3.1167 val_loss=3.1469 scale=1.0000 norm=4.0723                   \n",
      "[iter 17] loss=3.0924 val_loss=3.1236 scale=1.0000 norm=3.9360                   \n",
      "[iter 18] loss=3.0685 val_loss=3.1038 scale=1.0000 norm=3.8040                   \n",
      "[iter 19] loss=3.0446 val_loss=3.0812 scale=1.0000 norm=3.6865                   \n",
      " 39%|███▉      | 39/100 [00:05<00:08,  7.53trial/s, best loss: 2.494097153939505]"
     ]
    },
    {
     "name": "stderr",
     "output_type": "stream",
     "text": [
      "2020-07-15 09:27:24 INFO     {'Base': DecisionTreeRegressor(criterion='friedman_mse', max_depth=3), 'learning_rate': 0.05453723934138334, 'minibatch_frac': 1.0, 'n_estimators': 20, 'verbose_eval': 1, 'random_state': 1}\n"
     ]
    },
    {
     "name": "stdout",
     "output_type": "stream",
     "text": [
      "\r",
      " 40%|████      | 40/100 [00:05<00:10,  5.92trial/s, best loss: 2.494097153939505]"
     ]
    },
    {
     "name": "stderr",
     "output_type": "stream",
     "text": [
      "2020-07-15 09:27:24 INFO     build_posterior_wrapper took 0.001315 seconds\n",
      "2020-07-15 09:27:24 INFO     TPE using 40/40 trials with best loss 2.494097\n"
     ]
    },
    {
     "name": "stdout",
     "output_type": "stream",
     "text": [
      "{'Base': DecisionTreeRegressor(criterion='friedman_mse', max_depth=4), 'learning_rate': 0.6989393136891754, 'minibatch_frac': 1.0, 'n_estimators': 20, 'verbose_eval': 1, 'random_state': 1}\n",
      "[iter 0] loss=3.5985 val_loss=3.3161 scale=0.5000 norm=3.2975                    \n",
      "[iter 1] loss=3.2578 val_loss=3.0186 scale=1.0000 norm=4.6804                    \n",
      "[iter 2] loss=2.9476 val_loss=2.6237 scale=2.0000 norm=5.0074                    \n",
      "[iter 3] loss=2.4669 val_loss=2.8058 scale=2.0000 norm=3.8081                    \n",
      "== Early stopping achieved.                                                      \n",
      "== Best iteration / VAL 2 (val_loss=2.6237)                                      \n",
      " 40%|████      | 40/100 [00:05<00:10,  5.92trial/s, best loss: 2.494097153939505]"
     ]
    },
    {
     "name": "stderr",
     "output_type": "stream",
     "text": [
      "2020-07-15 09:27:24 INFO     {'Base': DecisionTreeRegressor(criterion='friedman_mse', max_depth=4), 'learning_rate': 0.6989393136891754, 'minibatch_frac': 1.0, 'n_estimators': 20, 'verbose_eval': 1, 'random_state': 1}\n",
      "2020-07-15 09:27:24 INFO     build_posterior_wrapper took 0.001141 seconds\n",
      "2020-07-15 09:27:24 INFO     TPE using 41/41 trials with best loss 2.494097\n"
     ]
    },
    {
     "name": "stdout",
     "output_type": "stream",
     "text": [
      "{'Base': DecisionTreeRegressor(criterion='friedman_mse', max_depth=3), 'learning_rate': 0.19132018512668664, 'minibatch_frac': 1.0, 'n_estimators': 20, 'verbose_eval': 1, 'random_state': 1}\n",
      "[iter 0] loss=3.5985 val_loss=3.4807 scale=0.5000 norm=3.2975                    \n",
      "[iter 1] loss=3.4437 val_loss=3.4085 scale=0.5000 norm=3.0528                    \n",
      "[iter 2] loss=3.3700 val_loss=3.2980 scale=1.0000 norm=5.6831                    \n",
      "[iter 3] loss=3.2545 val_loss=3.2061 scale=1.0000 norm=4.9090                    \n",
      "[iter 4] loss=3.1633 val_loss=3.1225 scale=1.0000 norm=4.2986                    \n",
      "[iter 5] loss=3.0758 val_loss=3.0530 scale=1.0000 norm=3.7565                    \n",
      "[iter 6] loss=2.9918 val_loss=2.9859 scale=1.0000 norm=3.3525                    \n",
      "[iter 7] loss=2.9154 val_loss=2.8446 scale=2.0000 norm=6.0808                    \n",
      "[iter 8] loss=2.7652 val_loss=2.7303 scale=2.0000 norm=5.0692                    \n",
      "[iter 9] loss=2.6235 val_loss=2.6565 scale=2.0000 norm=4.4507                    \n",
      "[iter 10] loss=2.4988 val_loss=2.5893 scale=2.0000 norm=4.0848                   \n",
      "[iter 11] loss=2.3863 val_loss=2.5506 scale=2.0000 norm=3.7933                   \n",
      "[iter 12] loss=2.2762 val_loss=2.5287 scale=2.0000 norm=3.5151                   \n",
      "[iter 13] loss=2.1776 val_loss=2.5314 scale=2.0000 norm=3.3017                   \n",
      "== Early stopping achieved.                                                      \n",
      "== Best iteration / VAL 12 (val_loss=2.5287)                                     \n",
      " 41%|████      | 41/100 [00:05<00:09,  5.92trial/s, best loss: 2.494097153939505]"
     ]
    },
    {
     "name": "stderr",
     "output_type": "stream",
     "text": [
      "2020-07-15 09:27:24 INFO     {'Base': DecisionTreeRegressor(criterion='friedman_mse', max_depth=3), 'learning_rate': 0.19132018512668664, 'minibatch_frac': 1.0, 'n_estimators': 20, 'verbose_eval': 1, 'random_state': 1}\n"
     ]
    },
    {
     "name": "stdout",
     "output_type": "stream",
     "text": [
      "\r",
      " 42%|████▏     | 42/100 [00:05<00:09,  6.33trial/s, best loss: 2.494097153939505]"
     ]
    },
    {
     "name": "stderr",
     "output_type": "stream",
     "text": [
      "2020-07-15 09:27:24 INFO     build_posterior_wrapper took 0.001200 seconds\n",
      "2020-07-15 09:27:24 INFO     TPE using 42/42 trials with best loss 2.494097\n"
     ]
    },
    {
     "name": "stdout",
     "output_type": "stream",
     "text": [
      "{'Base': DecisionTreeRegressor(criterion='friedman_mse', max_depth=4), 'learning_rate': 0.4421328375734579, 'minibatch_frac': 1.0, 'n_estimators': 20, 'verbose_eval': 1, 'random_state': 1}\n",
      "[iter 0] loss=3.5985 val_loss=3.3614 scale=0.5000 norm=3.2975                    \n",
      "[iter 1] loss=3.3188 val_loss=3.1602 scale=1.0000 norm=5.3611                    \n",
      "[iter 2] loss=3.0946 val_loss=2.9956 scale=1.0000 norm=3.5775                    \n",
      "[iter 3] loss=2.8921 val_loss=2.6964 scale=2.0000 norm=5.1579                    \n",
      "[iter 4] loss=2.5327 val_loss=2.5726 scale=2.0000 norm=3.2519                    \n",
      "[iter 5] loss=2.2062 val_loss=2.6691 scale=2.0000 norm=2.6918                    \n",
      "== Early stopping achieved.                                                      \n",
      "== Best iteration / VAL 4 (val_loss=2.5726)                                      \n",
      " 42%|████▏     | 42/100 [00:05<00:09,  6.33trial/s, best loss: 2.494097153939505]"
     ]
    },
    {
     "name": "stderr",
     "output_type": "stream",
     "text": [
      "2020-07-15 09:27:24 INFO     {'Base': DecisionTreeRegressor(criterion='friedman_mse', max_depth=4), 'learning_rate': 0.4421328375734579, 'minibatch_frac': 1.0, 'n_estimators': 20, 'verbose_eval': 1, 'random_state': 1}\n",
      "2020-07-15 09:27:24 INFO     build_posterior_wrapper took 0.001409 seconds\n",
      "2020-07-15 09:27:24 INFO     TPE using 43/43 trials with best loss 2.494097\n"
     ]
    },
    {
     "name": "stdout",
     "output_type": "stream",
     "text": [
      "{'Base': DecisionTreeRegressor(criterion='friedman_mse', max_depth=4), 'learning_rate': 0.1375894221074245, 'minibatch_frac': 1.0, 'n_estimators': 20, 'verbose_eval': 1, 'random_state': 1}\n",
      "[iter 0] loss=3.5985 val_loss=3.5098 scale=0.5000 norm=3.2975                    \n",
      "[iter 1] loss=3.4666 val_loss=3.4402 scale=0.5000 norm=3.0997                    \n",
      "[iter 2] loss=3.3967 val_loss=3.3891 scale=0.5000 norm=2.9207                    \n",
      "[iter 3] loss=3.3433 val_loss=3.3449 scale=0.5000 norm=2.7580                    \n",
      "[iter 4] loss=3.2976 val_loss=3.2662 scale=1.0000 norm=5.2020                    \n",
      "[iter 5] loss=3.2166 val_loss=3.2008 scale=1.0000 norm=4.6530                    \n",
      "[iter 6] loss=3.1445 val_loss=3.1405 scale=1.0000 norm=4.1680                    \n",
      "[iter 7] loss=3.0779 val_loss=3.0821 scale=1.0000 norm=3.7736                    \n",
      "[iter 8] loss=3.0126 val_loss=3.0270 scale=1.0000 norm=3.4105                    \n",
      "[iter 9] loss=2.9494 val_loss=2.9195 scale=2.0000 norm=6.2153                    \n",
      "[iter 10] loss=2.8281 val_loss=2.8198 scale=2.0000 norm=5.2398                   \n",
      "[iter 11] loss=2.7114 val_loss=2.7374 scale=2.0000 norm=4.5024                   \n",
      "[iter 12] loss=2.6013 val_loss=2.6650 scale=2.0000 norm=3.9953                   \n",
      "[iter 13] loss=2.4894 val_loss=2.5939 scale=2.0000 norm=3.5436                   \n",
      "[iter 14] loss=2.3811 val_loss=2.5494 scale=2.0000 norm=3.2130                   \n",
      "[iter 15] loss=2.2778 val_loss=2.5155 scale=2.0000 norm=2.9719                   \n",
      "[iter 16] loss=2.1742 val_loss=2.5014 scale=2.0000 norm=2.7464                   \n",
      "[iter 17] loss=2.0773 val_loss=2.5021 scale=2.0000 norm=2.5874                   \n",
      "== Early stopping achieved.                                                      \n",
      "== Best iteration / VAL 16 (val_loss=2.5014)                                     \n",
      " 43%|████▎     | 43/100 [00:06<00:09,  6.33trial/s, best loss: 2.494097153939505]"
     ]
    },
    {
     "name": "stderr",
     "output_type": "stream",
     "text": [
      "2020-07-15 09:27:25 INFO     {'Base': DecisionTreeRegressor(criterion='friedman_mse', max_depth=4), 'learning_rate': 0.1375894221074245, 'minibatch_frac': 1.0, 'n_estimators': 20, 'verbose_eval': 1, 'random_state': 1}\n"
     ]
    },
    {
     "name": "stdout",
     "output_type": "stream",
     "text": [
      "\r",
      " 44%|████▍     | 44/100 [00:06<00:09,  6.14trial/s, best loss: 2.494097153939505]"
     ]
    },
    {
     "name": "stderr",
     "output_type": "stream",
     "text": [
      "2020-07-15 09:27:25 INFO     build_posterior_wrapper took 0.001225 seconds\n",
      "2020-07-15 09:27:25 INFO     TPE using 44/44 trials with best loss 2.494097\n"
     ]
    },
    {
     "name": "stdout",
     "output_type": "stream",
     "text": [
      "{'Base': DecisionTreeRegressor(criterion='friedman_mse', max_depth=3), 'learning_rate': 0.9866810058546851, 'minibatch_frac': 0.5, 'n_estimators': 20, 'verbose_eval': 1, 'random_state': 1}\n",
      "[iter 0] loss=3.5549 val_loss=3.3223 scale=0.5000 norm=3.2303                    \n",
      "[iter 1] loss=3.2218 val_loss=2.9812 scale=1.0000 norm=4.0323                    \n",
      "[iter 2] loss=2.9083 val_loss=3.6356 scale=2.0000 norm=5.3708                    \n",
      "== Early stopping achieved.                                                      \n",
      "== Best iteration / VAL 1 (val_loss=2.9812)                                      \n",
      " 44%|████▍     | 44/100 [00:06<00:09,  6.14trial/s, best loss: 2.494097153939505]"
     ]
    },
    {
     "name": "stderr",
     "output_type": "stream",
     "text": [
      "2020-07-15 09:27:25 INFO     {'Base': DecisionTreeRegressor(criterion='friedman_mse', max_depth=3), 'learning_rate': 0.9866810058546851, 'minibatch_frac': 0.5, 'n_estimators': 20, 'verbose_eval': 1, 'random_state': 1}\n",
      "2020-07-15 09:27:25 INFO     build_posterior_wrapper took 0.001331 seconds\n",
      "2020-07-15 09:27:25 INFO     TPE using 45/45 trials with best loss 2.494097\n"
     ]
    },
    {
     "name": "stdout",
     "output_type": "stream",
     "text": [
      "{'Base': DecisionTreeRegressor(criterion='friedman_mse', max_depth=2), 'learning_rate': 0.3400041169002094, 'minibatch_frac': 1.0, 'n_estimators': 20, 'verbose_eval': 1, 'random_state': 1}\n",
      "[iter 0] loss=3.5985 val_loss=3.4362 scale=0.5000 norm=3.2975                    \n",
      "[iter 1] loss=3.4053 val_loss=3.2712 scale=1.0000 norm=5.7847                    \n",
      "[iter 2] loss=3.2285 val_loss=3.1605 scale=1.0000 norm=4.6627                    \n",
      "[iter 3] loss=3.1009 val_loss=3.0513 scale=1.0000 norm=3.9703                    \n",
      "[iter 4] loss=2.9731 val_loss=2.8939 scale=2.0000 norm=6.7683                    \n",
      "[iter 5] loss=2.7461 val_loss=2.8382 scale=2.0000 norm=5.4441                    \n",
      "[iter 6] loss=2.5814 val_loss=2.8236 scale=2.0000 norm=5.0153                    \n",
      "[iter 7] loss=2.4384 val_loss=2.8428 scale=1.0000 norm=2.2527                    \n",
      "== Early stopping achieved.                                                      \n",
      "== Best iteration / VAL 6 (val_loss=2.8236)                                      \n",
      " 45%|████▌     | 45/100 [00:06<00:08,  6.14trial/s, best loss: 2.494097153939505]"
     ]
    },
    {
     "name": "stderr",
     "output_type": "stream",
     "text": [
      "2020-07-15 09:27:25 INFO     {'Base': DecisionTreeRegressor(criterion='friedman_mse', max_depth=2), 'learning_rate': 0.3400041169002094, 'minibatch_frac': 1.0, 'n_estimators': 20, 'verbose_eval': 1, 'random_state': 1}\n"
     ]
    },
    {
     "name": "stdout",
     "output_type": "stream",
     "text": [
      "\r",
      " 46%|████▌     | 46/100 [00:06<00:07,  7.17trial/s, best loss: 2.494097153939505]"
     ]
    },
    {
     "name": "stderr",
     "output_type": "stream",
     "text": [
      "2020-07-15 09:27:25 INFO     build_posterior_wrapper took 0.001042 seconds\n",
      "2020-07-15 09:27:25 INFO     TPE using 46/46 trials with best loss 2.494097\n"
     ]
    },
    {
     "name": "stdout",
     "output_type": "stream",
     "text": [
      "{'Base': DecisionTreeRegressor(criterion='friedman_mse', max_depth=4), 'learning_rate': 0.5623481379383592, 'minibatch_frac': 0.5, 'n_estimators': 20, 'verbose_eval': 1, 'random_state': 1}\n",
      "[iter 0] loss=3.5549 val_loss=3.3840 scale=0.5000 norm=3.2303                    \n",
      "[iter 1] loss=3.2647 val_loss=3.1488 scale=1.0000 norm=4.7738                    \n",
      "[iter 2] loss=3.0911 val_loss=3.0182 scale=1.0000 norm=3.5357                    \n",
      "[iter 3] loss=2.8276 val_loss=3.1010 scale=2.0000 norm=5.0080                    \n",
      "== Early stopping achieved.                                                      \n",
      "== Best iteration / VAL 2 (val_loss=3.0182)                                      \n",
      " 46%|████▌     | 46/100 [00:06<00:07,  7.17trial/s, best loss: 2.494097153939505]"
     ]
    },
    {
     "name": "stderr",
     "output_type": "stream",
     "text": [
      "2020-07-15 09:27:25 INFO     {'Base': DecisionTreeRegressor(criterion='friedman_mse', max_depth=4), 'learning_rate': 0.5623481379383592, 'minibatch_frac': 0.5, 'n_estimators': 20, 'verbose_eval': 1, 'random_state': 1}\n",
      "2020-07-15 09:27:25 INFO     build_posterior_wrapper took 0.001123 seconds\n",
      "2020-07-15 09:27:25 INFO     TPE using 47/47 trials with best loss 2.494097\n"
     ]
    },
    {
     "name": "stdout",
     "output_type": "stream",
     "text": [
      "{'Base': DecisionTreeRegressor(criterion='friedman_mse', max_depth=4), 'learning_rate': 0.2803231751551275, 'minibatch_frac': 1.0, 'n_estimators': 20, 'verbose_eval': 1, 'random_state': 1}\n",
      "[iter 0] loss=3.5985 val_loss=3.4198 scale=0.5000 norm=3.2975                    \n",
      "[iter 1] loss=3.3812 val_loss=3.3322 scale=0.5000 norm=2.9008                    \n",
      "[iter 2] loss=3.2855 val_loss=3.1897 scale=1.0000 norm=5.1277                    \n",
      "[iter 3] loss=3.1369 val_loss=3.0752 scale=1.0000 norm=4.0487                    \n",
      "[iter 4] loss=3.0040 val_loss=2.9631 scale=1.0000 norm=3.2703                    \n",
      "[iter 5] loss=2.8809 val_loss=2.7853 scale=2.0000 norm=5.4861                    \n",
      "[iter 6] loss=2.6434 val_loss=2.6343 scale=2.0000 norm=3.9237                    \n",
      "[iter 7] loss=2.4274 val_loss=2.5550 scale=2.0000 norm=3.2590                    \n",
      "[iter 8] loss=2.2211 val_loss=2.6031 scale=2.0000 norm=2.8340                    \n",
      "== Early stopping achieved.                                                      \n",
      "== Best iteration / VAL 7 (val_loss=2.5550)                                      \n",
      " 47%|████▋     | 47/100 [00:06<00:07,  7.17trial/s, best loss: 2.494097153939505]"
     ]
    },
    {
     "name": "stderr",
     "output_type": "stream",
     "text": [
      "2020-07-15 09:27:25 INFO     {'Base': DecisionTreeRegressor(criterion='friedman_mse', max_depth=4), 'learning_rate': 0.2803231751551275, 'minibatch_frac': 1.0, 'n_estimators': 20, 'verbose_eval': 1, 'random_state': 1}\n"
     ]
    },
    {
     "name": "stdout",
     "output_type": "stream",
     "text": [
      "\r",
      " 48%|████▊     | 48/100 [00:06<00:06,  7.74trial/s, best loss: 2.494097153939505]"
     ]
    },
    {
     "name": "stderr",
     "output_type": "stream",
     "text": [
      "2020-07-15 09:27:25 INFO     build_posterior_wrapper took 0.001157 seconds\n",
      "2020-07-15 09:27:25 INFO     TPE using 48/48 trials with best loss 2.494097\n"
     ]
    },
    {
     "name": "stdout",
     "output_type": "stream",
     "text": [
      "{'Base': DecisionTreeRegressor(criterion='friedman_mse', max_depth=3), 'learning_rate': 0.21152984008296016, 'minibatch_frac': 0.5, 'n_estimators': 20, 'verbose_eval': 1, 'random_state': 1}\n",
      "[iter 0] loss=3.5549 val_loss=3.5154 scale=0.5000 norm=3.2303                    \n",
      "[iter 1] loss=3.4130 val_loss=3.3548 scale=1.0000 norm=5.5993                    \n",
      "[iter 2] loss=3.3163 val_loss=3.2722 scale=1.0000 norm=5.0790                    \n",
      "[iter 3] loss=3.1698 val_loss=3.1887 scale=1.0000 norm=4.2566                    \n",
      "[iter 4] loss=3.0787 val_loss=3.1077 scale=1.0000 norm=3.6832                    \n",
      "[iter 5] loss=3.0356 val_loss=3.0103 scale=1.0000 norm=3.4834                    \n",
      "[iter 6] loss=2.9184 val_loss=2.8692 scale=2.0000 norm=6.1641                    \n",
      "[iter 7] loss=2.7678 val_loss=2.8106 scale=2.0000 norm=5.2182                    \n",
      "[iter 8] loss=2.6190 val_loss=2.7937 scale=2.0000 norm=4.5215                    \n",
      "[iter 9] loss=2.4926 val_loss=2.8338 scale=2.0000 norm=4.4168                    \n",
      "== Early stopping achieved.                                                      \n",
      "== Best iteration / VAL 8 (val_loss=2.7937)                                      \n",
      " 48%|████▊     | 48/100 [00:06<00:06,  7.74trial/s, best loss: 2.494097153939505]"
     ]
    },
    {
     "name": "stderr",
     "output_type": "stream",
     "text": [
      "2020-07-15 09:27:25 INFO     {'Base': DecisionTreeRegressor(criterion='friedman_mse', max_depth=3), 'learning_rate': 0.21152984008296016, 'minibatch_frac': 0.5, 'n_estimators': 20, 'verbose_eval': 1, 'random_state': 1}\n"
     ]
    },
    {
     "name": "stdout",
     "output_type": "stream",
     "text": [
      "\r",
      " 49%|████▉     | 49/100 [00:06<00:06,  7.60trial/s, best loss: 2.494097153939505]"
     ]
    },
    {
     "name": "stderr",
     "output_type": "stream",
     "text": [
      "2020-07-15 09:27:25 INFO     build_posterior_wrapper took 0.001253 seconds\n",
      "2020-07-15 09:27:25 INFO     TPE using 49/49 trials with best loss 2.494097\n"
     ]
    },
    {
     "name": "stdout",
     "output_type": "stream",
     "text": [
      "{'Base': DecisionTreeRegressor(criterion='friedman_mse', max_depth=2), 'learning_rate': 0.36196436615935834, 'minibatch_frac': 1.0, 'n_estimators': 20, 'verbose_eval': 1, 'random_state': 1}\n",
      "[iter 0] loss=3.5985 val_loss=3.4280 scale=0.5000 norm=3.2975                    \n",
      "[iter 1] loss=3.3975 val_loss=3.2722 scale=1.0000 norm=5.7351                    \n",
      "[iter 2] loss=3.2162 val_loss=3.1405 scale=1.0000 norm=4.5921                    \n",
      "[iter 3] loss=3.0792 val_loss=3.0275 scale=1.0000 norm=3.8423                    \n",
      "[iter 4] loss=2.9460 val_loss=2.8808 scale=2.0000 norm=6.5424                    \n",
      "[iter 5] loss=2.7158 val_loss=2.8191 scale=2.0000 norm=5.2852                    \n",
      "[iter 6] loss=2.5430 val_loss=2.8316 scale=2.0000 norm=4.9105                    \n",
      "== Early stopping achieved.                                                      \n",
      "== Best iteration / VAL 5 (val_loss=2.8191)                                      \n",
      " 49%|████▉     | 49/100 [00:06<00:06,  7.60trial/s, best loss: 2.494097153939505]"
     ]
    },
    {
     "name": "stderr",
     "output_type": "stream",
     "text": [
      "2020-07-15 09:27:25 INFO     {'Base': DecisionTreeRegressor(criterion='friedman_mse', max_depth=2), 'learning_rate': 0.36196436615935834, 'minibatch_frac': 1.0, 'n_estimators': 20, 'verbose_eval': 1, 'random_state': 1}\n"
     ]
    },
    {
     "name": "stdout",
     "output_type": "stream",
     "text": [
      "\r",
      " 50%|█████     | 50/100 [00:06<00:06,  8.08trial/s, best loss: 2.494097153939505]"
     ]
    },
    {
     "name": "stderr",
     "output_type": "stream",
     "text": [
      "2020-07-15 09:27:25 INFO     build_posterior_wrapper took 0.001265 seconds\n",
      "2020-07-15 09:27:25 INFO     TPE using 50/50 trials with best loss 2.494097\n"
     ]
    },
    {
     "name": "stdout",
     "output_type": "stream",
     "text": [
      "{'Base': DecisionTreeRegressor(criterion='friedman_mse', max_depth=4), 'learning_rate': 0.09769515722448156, 'minibatch_frac': 1.0, 'n_estimators': 20, 'verbose_eval': 1, 'random_state': 1}\n",
      "[iter 0] loss=3.5985 val_loss=3.5461 scale=0.5000 norm=3.2975                    \n",
      "[iter 1] loss=3.4985 val_loss=3.4848 scale=0.5000 norm=3.1562                    \n",
      "[iter 2] loss=3.4386 val_loss=3.4398 scale=0.5000 norm=3.0259                    \n",
      "[iter 3] loss=3.3926 val_loss=3.4011 scale=0.5000 norm=2.9037                    \n",
      "[iter 4] loss=3.3540 val_loss=3.3359 scale=1.0000 norm=5.5693                    \n",
      "[iter 5] loss=3.2875 val_loss=3.2795 scale=1.0000 norm=5.1347                    \n",
      "[iter 6] loss=3.2301 val_loss=3.2314 scale=1.0000 norm=4.7502                    \n",
      "[iter 7] loss=3.1770 val_loss=3.1837 scale=1.0000 norm=4.3930                    \n",
      "[iter 8] loss=3.1279 val_loss=3.1407 scale=1.0000 norm=4.0817                    \n",
      "[iter 9] loss=3.0805 val_loss=3.1000 scale=1.0000 norm=3.8069                    \n",
      "[iter 10] loss=3.0355 val_loss=3.0571 scale=1.0000 norm=3.5709                   \n",
      "[iter 11] loss=2.9898 val_loss=3.0171 scale=1.0000 norm=3.3366                   \n",
      "[iter 12] loss=2.9455 val_loss=2.9795 scale=1.0000 norm=3.1306                   \n",
      "[iter 13] loss=2.9021 val_loss=2.9045 scale=2.0000 norm=5.8843                   \n",
      "[iter 14] loss=2.8160 val_loss=2.8278 scale=2.0000 norm=5.1982                   \n",
      "[iter 15] loss=2.7313 val_loss=2.7627 scale=2.0000 norm=4.6580                   \n",
      "[iter 16] loss=2.6510 val_loss=2.7067 scale=2.0000 norm=4.2554                   \n",
      "[iter 17] loss=2.5717 val_loss=2.6542 scale=2.0000 norm=3.9177                   \n",
      "[iter 18] loss=2.4925 val_loss=2.6103 scale=2.0000 norm=3.6098                   \n",
      "[iter 19] loss=2.4169 val_loss=2.5756 scale=2.0000 norm=3.3714                   \n",
      " 50%|█████     | 50/100 [00:06<00:06,  8.08trial/s, best loss: 2.494097153939505]"
     ]
    },
    {
     "name": "stderr",
     "output_type": "stream",
     "text": [
      "2020-07-15 09:27:26 INFO     {'Base': DecisionTreeRegressor(criterion='friedman_mse', max_depth=4), 'learning_rate': 0.09769515722448156, 'minibatch_frac': 1.0, 'n_estimators': 20, 'verbose_eval': 1, 'random_state': 1}\n"
     ]
    },
    {
     "name": "stdout",
     "output_type": "stream",
     "text": [
      "\r",
      " 51%|█████     | 51/100 [00:06<00:08,  5.97trial/s, best loss: 2.494097153939505]"
     ]
    },
    {
     "name": "stderr",
     "output_type": "stream",
     "text": [
      "2020-07-15 09:27:26 INFO     build_posterior_wrapper took 0.001520 seconds\n",
      "2020-07-15 09:27:26 INFO     TPE using 51/51 trials with best loss 2.494097\n"
     ]
    },
    {
     "name": "stdout",
     "output_type": "stream",
     "text": [
      "{'Base': DecisionTreeRegressor(criterion='friedman_mse', max_depth=4), 'learning_rate': 0.8676752071921401, 'minibatch_frac': 0.5, 'n_estimators': 20, 'verbose_eval': 1, 'random_state': 1}\n",
      "[iter 0] loss=3.5549 val_loss=3.3361 scale=0.5000 norm=3.2303                    \n",
      "[iter 1] loss=3.2126 val_loss=3.0826 scale=1.0000 norm=4.0800                    \n",
      "[iter 2] loss=2.9286 val_loss=3.6386 scale=2.0000 norm=5.3222                    \n",
      "== Early stopping achieved.                                                      \n",
      "== Best iteration / VAL 1 (val_loss=3.0826)                                      \n",
      " 51%|█████     | 51/100 [00:06<00:08,  5.97trial/s, best loss: 2.494097153939505]"
     ]
    },
    {
     "name": "stderr",
     "output_type": "stream",
     "text": [
      "2020-07-15 09:27:26 INFO     {'Base': DecisionTreeRegressor(criterion='friedman_mse', max_depth=4), 'learning_rate': 0.8676752071921401, 'minibatch_frac': 0.5, 'n_estimators': 20, 'verbose_eval': 1, 'random_state': 1}\n",
      "2020-07-15 09:27:26 INFO     build_posterior_wrapper took 0.001269 seconds\n",
      "2020-07-15 09:27:26 INFO     TPE using 52/52 trials with best loss 2.494097\n"
     ]
    },
    {
     "name": "stdout",
     "output_type": "stream",
     "text": [
      "{'Base': DecisionTreeRegressor(criterion='friedman_mse', max_depth=3), 'learning_rate': 0.40654979016400594, 'minibatch_frac': 1.0, 'n_estimators': 20, 'verbose_eval': 1, 'random_state': 1}\n",
      "[iter 0] loss=3.5985 val_loss=3.3915 scale=0.5000 norm=3.2975                    \n",
      "[iter 1] loss=3.3533 val_loss=3.2012 scale=1.0000 norm=5.5790                    \n",
      "[iter 2] loss=3.1509 val_loss=3.0372 scale=1.0000 norm=4.0639                    \n",
      "[iter 3] loss=2.9692 val_loss=2.7549 scale=2.0000 norm=6.1673                    \n",
      "[iter 4] loss=2.6616 val_loss=2.5706 scale=2.0000 norm=4.4026                    \n",
      "[iter 5] loss=2.4094 val_loss=2.5067 scale=2.0000 norm=3.7789                    \n",
      "[iter 6] loss=2.1915 val_loss=2.5236 scale=2.0000 norm=3.3890                    \n",
      "== Early stopping achieved.                                                      \n",
      "== Best iteration / VAL 5 (val_loss=2.5067)                                      \n",
      " 52%|█████▏    | 52/100 [00:07<00:08,  5.97trial/s, best loss: 2.494097153939505]"
     ]
    },
    {
     "name": "stderr",
     "output_type": "stream",
     "text": [
      "2020-07-15 09:27:26 INFO     {'Base': DecisionTreeRegressor(criterion='friedman_mse', max_depth=3), 'learning_rate': 0.40654979016400594, 'minibatch_frac': 1.0, 'n_estimators': 20, 'verbose_eval': 1, 'random_state': 1}\n"
     ]
    },
    {
     "name": "stdout",
     "output_type": "stream",
     "text": [
      "\r",
      " 53%|█████▎    | 53/100 [00:07<00:06,  7.02trial/s, best loss: 2.494097153939505]"
     ]
    },
    {
     "name": "stderr",
     "output_type": "stream",
     "text": [
      "2020-07-15 09:27:26 INFO     build_posterior_wrapper took 0.001274 seconds\n",
      "2020-07-15 09:27:26 INFO     TPE using 53/53 trials with best loss 2.494097\n"
     ]
    },
    {
     "name": "stdout",
     "output_type": "stream",
     "text": [
      "{'Base': DecisionTreeRegressor(criterion='friedman_mse', max_depth=4), 'learning_rate': 0.4692388263925272, 'minibatch_frac': 1.0, 'n_estimators': 20, 'verbose_eval': 1, 'random_state': 1}\n",
      "[iter 0] loss=3.5985 val_loss=3.3545 scale=0.5000 norm=3.2975                    \n",
      "[iter 1] loss=3.3106 val_loss=3.1442 scale=1.0000 norm=5.2883                    \n",
      "[iter 2] loss=3.0781 val_loss=2.9727 scale=1.0000 norm=3.4398                    \n",
      "[iter 3] loss=2.8655 val_loss=2.6723 scale=2.0000 norm=4.9142                    \n",
      "[iter 4] loss=2.4912 val_loss=2.5295 scale=2.0000 norm=3.1959                    \n",
      "[iter 5] loss=2.1486 val_loss=2.7258 scale=2.0000 norm=2.6101                    \n",
      "== Early stopping achieved.                                                      \n",
      "== Best iteration / VAL 4 (val_loss=2.5295)                                      \n",
      " 53%|█████▎    | 53/100 [00:07<00:06,  7.02trial/s, best loss: 2.494097153939505]"
     ]
    },
    {
     "name": "stderr",
     "output_type": "stream",
     "text": [
      "2020-07-15 09:27:26 INFO     {'Base': DecisionTreeRegressor(criterion='friedman_mse', max_depth=4), 'learning_rate': 0.4692388263925272, 'minibatch_frac': 1.0, 'n_estimators': 20, 'verbose_eval': 1, 'random_state': 1}\n",
      "2020-07-15 09:27:26 INFO     build_posterior_wrapper took 0.001238 seconds\n",
      "2020-07-15 09:27:26 INFO     TPE using 54/54 trials with best loss 2.494097\n"
     ]
    },
    {
     "name": "stdout",
     "output_type": "stream",
     "text": [
      "{'Base': DecisionTreeRegressor(criterion='friedman_mse', max_depth=2), 'learning_rate': 0.5190130074688907, 'minibatch_frac': 0.5, 'n_estimators': 20, 'verbose_eval': 1, 'random_state': 1}\n",
      "[iter 0] loss=3.5549 val_loss=3.4463 scale=0.5000 norm=3.2303                    \n",
      "[iter 1] loss=3.3303 val_loss=3.2476 scale=1.0000 norm=4.9605                    \n",
      "[iter 2] loss=3.1607 val_loss=3.0004 scale=1.0000 norm=3.9932                    \n",
      "[iter 3] loss=2.9163 val_loss=2.7656 scale=2.0000 norm=6.1429                    \n",
      "[iter 4] loss=2.6721 val_loss=2.7333 scale=1.0000 norm=2.6932                    \n",
      "[iter 5] loss=2.7568 val_loss=2.7449 scale=1.0000 norm=2.9164                    \n",
      "== Early stopping achieved.                                                      \n",
      "== Best iteration / VAL 4 (val_loss=2.7333)                                      \n",
      " 54%|█████▍    | 54/100 [00:07<00:06,  7.02trial/s, best loss: 2.494097153939505]"
     ]
    },
    {
     "name": "stderr",
     "output_type": "stream",
     "text": [
      "2020-07-15 09:27:26 INFO     {'Base': DecisionTreeRegressor(criterion='friedman_mse', max_depth=2), 'learning_rate': 0.5190130074688907, 'minibatch_frac': 0.5, 'n_estimators': 20, 'verbose_eval': 1, 'random_state': 1}\n"
     ]
    },
    {
     "name": "stdout",
     "output_type": "stream",
     "text": [
      "\r",
      " 55%|█████▌    | 55/100 [00:07<00:05,  7.88trial/s, best loss: 2.494097153939505]"
     ]
    },
    {
     "name": "stderr",
     "output_type": "stream",
     "text": [
      "2020-07-15 09:27:26 INFO     build_posterior_wrapper took 0.001189 seconds\n",
      "2020-07-15 09:27:26 INFO     TPE using 55/55 trials with best loss 2.494097\n"
     ]
    },
    {
     "name": "stdout",
     "output_type": "stream",
     "text": [
      "{'Base': DecisionTreeRegressor(criterion='friedman_mse', max_depth=4), 'learning_rate': 0.14433005708670069, 'minibatch_frac': 1.0, 'n_estimators': 20, 'verbose_eval': 1, 'random_state': 1}\n",
      "[iter 0] loss=3.5985 val_loss=3.5042 scale=0.5000 norm=3.2975                    \n",
      "[iter 1] loss=3.4617 val_loss=3.4334 scale=0.5000 norm=3.0902                    \n",
      "[iter 2] loss=3.3903 val_loss=3.3808 scale=0.5000 norm=2.9049                    \n",
      "[iter 3] loss=3.3358 val_loss=3.2930 scale=1.0000 norm=5.4716                    \n",
      "[iter 4] loss=3.2445 val_loss=3.2222 scale=1.0000 norm=4.8530                    \n",
      "[iter 5] loss=3.1672 val_loss=3.1591 scale=1.0000 norm=4.3056                    \n",
      "[iter 6] loss=3.0962 val_loss=3.0933 scale=1.0000 norm=3.8658                    \n",
      "[iter 7] loss=3.0287 val_loss=3.0335 scale=1.0000 norm=3.4998                    \n",
      "[iter 8] loss=2.9624 val_loss=2.9732 scale=1.0000 norm=3.1745                    \n",
      "[iter 9] loss=2.8972 val_loss=2.8661 scale=2.0000 norm=5.7742                    \n",
      "[iter 10] loss=2.7734 val_loss=2.7708 scale=2.0000 norm=4.8677                   \n",
      "[iter 11] loss=2.6539 val_loss=2.6928 scale=2.0000 norm=4.2217                   \n",
      "[iter 12] loss=2.5415 val_loss=2.6203 scale=2.0000 norm=3.7808                   \n",
      "[iter 13] loss=2.4273 val_loss=2.5581 scale=2.0000 norm=3.3842                   \n",
      "[iter 14] loss=2.3214 val_loss=2.5089 scale=2.0000 norm=3.1410                   \n",
      "[iter 15] loss=2.2084 val_loss=2.4877 scale=2.0000 norm=2.8487                   \n",
      "[iter 16] loss=2.1053 val_loss=2.4942 scale=2.0000 norm=2.6487                   \n",
      "== Early stopping achieved.                                                      \n",
      "== Best iteration / VAL 15 (val_loss=2.4877)                                     \n",
      " 55%|█████▌    | 55/100 [00:07<00:05,  7.88trial/s, best loss: 2.494097153939505]"
     ]
    },
    {
     "name": "stderr",
     "output_type": "stream",
     "text": [
      "2020-07-15 09:27:26 INFO     {'Base': DecisionTreeRegressor(criterion='friedman_mse', max_depth=4), 'learning_rate': 0.14433005708670069, 'minibatch_frac': 1.0, 'n_estimators': 20, 'verbose_eval': 1, 'random_state': 1}\n"
     ]
    },
    {
     "name": "stdout",
     "output_type": "stream",
     "text": [
      "\r",
      " 56%|█████▌    | 56/100 [00:07<00:07,  6.18trial/s, best loss: 2.4877169759380195]"
     ]
    },
    {
     "name": "stderr",
     "output_type": "stream",
     "text": [
      "2020-07-15 09:27:26 INFO     build_posterior_wrapper took 0.001109 seconds\n",
      "2020-07-15 09:27:26 INFO     TPE using 56/56 trials with best loss 2.487717\n"
     ]
    },
    {
     "name": "stdout",
     "output_type": "stream",
     "text": [
      "{'Base': DecisionTreeRegressor(criterion='friedman_mse', max_depth=4), 'learning_rate': 0.0812402400992326, 'minibatch_frac': 1.0, 'n_estimators': 20, 'verbose_eval': 1, 'random_state': 1}\n",
      "[iter 0] loss=3.5985 val_loss=3.5627 scale=0.5000 norm=3.2975                     \n",
      "[iter 1] loss=3.5130 val_loss=3.5065 scale=0.5000 norm=3.1797                     \n",
      "[iter 2] loss=3.4584 val_loss=3.4646 scale=0.5000 norm=3.0699                     \n",
      "[iter 3] loss=3.4162 val_loss=3.4284 scale=0.5000 norm=2.9660                     \n",
      "[iter 4] loss=3.3807 val_loss=3.3982 scale=0.5000 norm=2.8674                     \n",
      "[iter 5] loss=3.3495 val_loss=3.3431 scale=1.0000 norm=5.5395                     \n",
      "[iter 6] loss=3.2942 val_loss=3.2965 scale=1.0000 norm=5.1810                     \n",
      "[iter 7] loss=3.2451 val_loss=3.2552 scale=1.0000 norm=4.8569                     \n",
      "[iter 8] loss=3.1998 val_loss=3.2137 scale=1.0000 norm=4.5512                     \n",
      "[iter 9] loss=3.1572 val_loss=3.1769 scale=1.0000 norm=4.2796                     \n",
      "[iter 10] loss=3.1169 val_loss=3.1405 scale=1.0000 norm=4.0336                    \n",
      "[iter 11] loss=3.0780 val_loss=3.1027 scale=1.0000 norm=3.8122                    \n",
      "[iter 12] loss=3.0389 val_loss=3.0699 scale=1.0000 norm=3.5928                    \n",
      "[iter 13] loss=3.0007 val_loss=3.0350 scale=1.0000 norm=3.3946                    \n",
      "[iter 14] loss=2.9639 val_loss=2.9703 scale=2.0000 norm=6.4457                    \n",
      "[iter 15] loss=2.8924 val_loss=2.9090 scale=2.0000 norm=5.8402                    \n",
      "[iter 16] loss=2.8218 val_loss=2.8498 scale=2.0000 norm=5.2769                    \n",
      "[iter 17] loss=2.7515 val_loss=2.7926 scale=2.0000 norm=4.8032                    \n",
      "[iter 18] loss=2.6825 val_loss=2.7370 scale=2.0000 norm=4.4010                    \n",
      "[iter 19] loss=2.6144 val_loss=2.6890 scale=2.0000 norm=4.0606                    \n",
      " 56%|█████▌    | 56/100 [00:07<00:07,  6.18trial/s, best loss: 2.4877169759380195]"
     ]
    },
    {
     "name": "stderr",
     "output_type": "stream",
     "text": [
      "2020-07-15 09:27:26 INFO     {'Base': DecisionTreeRegressor(criterion='friedman_mse', max_depth=4), 'learning_rate': 0.0812402400992326, 'minibatch_frac': 1.0, 'n_estimators': 20, 'verbose_eval': 1, 'random_state': 1}\n"
     ]
    },
    {
     "name": "stdout",
     "output_type": "stream",
     "text": [
      "\r",
      " 57%|█████▋    | 57/100 [00:07<00:08,  5.25trial/s, best loss: 2.4877169759380195]"
     ]
    },
    {
     "name": "stderr",
     "output_type": "stream",
     "text": [
      "2020-07-15 09:27:26 INFO     build_posterior_wrapper took 0.001284 seconds\n",
      "2020-07-15 09:27:26 INFO     TPE using 57/57 trials with best loss 2.487717\n"
     ]
    },
    {
     "name": "stdout",
     "output_type": "stream",
     "text": [
      "{'Base': DecisionTreeRegressor(criterion='friedman_mse', max_depth=3), 'learning_rate': 0.7550107599920063, 'minibatch_frac': 0.5, 'n_estimators': 20, 'verbose_eval': 1, 'random_state': 1}\n",
      "[iter 0] loss=3.5549 val_loss=3.3466 scale=0.5000 norm=3.2303                     \n",
      "[iter 1] loss=3.2607 val_loss=3.0810 scale=1.0000 norm=4.4658                     \n",
      "[iter 2] loss=2.9782 val_loss=3.0808 scale=2.0000 norm=5.9016                     \n",
      "[iter 3] loss=2.6400 val_loss=3.0694 scale=1.0000 norm=2.6444                     \n",
      "[iter 4] loss=2.5335 val_loss=3.3247 scale=1.0000 norm=2.2784                     \n",
      "== Early stopping achieved.                                                       \n",
      "== Best iteration / VAL 3 (val_loss=3.0694)                                       \n",
      " 57%|█████▋    | 57/100 [00:07<00:08,  5.25trial/s, best loss: 2.4877169759380195]"
     ]
    },
    {
     "name": "stderr",
     "output_type": "stream",
     "text": [
      "2020-07-15 09:27:26 INFO     {'Base': DecisionTreeRegressor(criterion='friedman_mse', max_depth=3), 'learning_rate': 0.7550107599920063, 'minibatch_frac': 0.5, 'n_estimators': 20, 'verbose_eval': 1, 'random_state': 1}\n",
      "2020-07-15 09:27:26 INFO     build_posterior_wrapper took 0.001167 seconds\n",
      "2020-07-15 09:27:26 INFO     TPE using 58/58 trials with best loss 2.487717\n"
     ]
    },
    {
     "name": "stdout",
     "output_type": "stream",
     "text": [
      "{'Base': DecisionTreeRegressor(criterion='friedman_mse', max_depth=4), 'learning_rate': 0.6002818990453829, 'minibatch_frac': 1.0, 'n_estimators': 20, 'verbose_eval': 1, 'random_state': 1}\n",
      "[iter 0] loss=3.5985 val_loss=3.3309 scale=0.5000 norm=3.2975                     \n",
      "[iter 1] loss=3.2775 val_loss=3.0758 scale=1.0000 norm=4.9394                     \n",
      "[iter 2] loss=3.0000 val_loss=2.6984 scale=2.0000 norm=5.7255                     \n",
      "[iter 3] loss=2.5515 val_loss=2.6920 scale=2.0000 norm=3.7416                     \n",
      "[iter 4] loss=2.1936 val_loss=3.0842 scale=2.0000 norm=3.0454                     \n",
      "== Early stopping achieved.                                                       \n",
      "== Best iteration / VAL 3 (val_loss=2.6920)                                       \n",
      " 58%|█████▊    | 58/100 [00:07<00:07,  5.25trial/s, best loss: 2.4877169759380195]"
     ]
    },
    {
     "name": "stderr",
     "output_type": "stream",
     "text": [
      "2020-07-15 09:27:27 INFO     {'Base': DecisionTreeRegressor(criterion='friedman_mse', max_depth=4), 'learning_rate': 0.6002818990453829, 'minibatch_frac': 1.0, 'n_estimators': 20, 'verbose_eval': 1, 'random_state': 1}\n"
     ]
    },
    {
     "name": "stdout",
     "output_type": "stream",
     "text": [
      "\r",
      " 59%|█████▉    | 59/100 [00:07<00:06,  6.31trial/s, best loss: 2.4877169759380195]"
     ]
    },
    {
     "name": "stderr",
     "output_type": "stream",
     "text": [
      "2020-07-15 09:27:27 INFO     build_posterior_wrapper took 0.001174 seconds\n",
      "2020-07-15 09:27:27 INFO     TPE using 59/59 trials with best loss 2.487717\n"
     ]
    },
    {
     "name": "stdout",
     "output_type": "stream",
     "text": [
      "{'Base': DecisionTreeRegressor(criterion='friedman_mse', max_depth=2), 'learning_rate': 0.13333041464296172, 'minibatch_frac': 1.0, 'n_estimators': 20, 'verbose_eval': 1, 'random_state': 1}\n",
      "[iter 0] loss=3.5985 val_loss=3.5459 scale=0.5000 norm=3.2975                     \n",
      "[iter 1] loss=3.5018 val_loss=3.4841 scale=0.5000 norm=3.1334                     \n",
      "[iter 2] loss=3.4450 val_loss=3.4395 scale=0.5000 norm=2.9937                     \n",
      "[iter 3] loss=3.3967 val_loss=3.3737 scale=1.0000 norm=5.7312                     \n",
      "[iter 4] loss=3.3215 val_loss=3.3111 scale=1.0000 norm=5.2709                     \n",
      "[iter 5] loss=3.2548 val_loss=3.2485 scale=1.0000 norm=4.8536                     \n",
      "[iter 6] loss=3.1940 val_loss=3.1994 scale=1.0000 norm=4.5033                     \n",
      "[iter 7] loss=3.1347 val_loss=3.1594 scale=1.0000 norm=4.1683                     \n",
      "[iter 8] loss=3.0833 val_loss=3.1163 scale=1.0000 norm=3.9066                     \n",
      "[iter 9] loss=3.0312 val_loss=3.0773 scale=1.0000 norm=3.6784                     \n",
      "[iter 10] loss=2.9835 val_loss=3.0335 scale=1.0000 norm=3.5109                    \n",
      "[iter 11] loss=2.9369 val_loss=2.9620 scale=2.0000 norm=6.7161                    \n",
      "[iter 12] loss=2.8477 val_loss=2.9163 scale=2.0000 norm=6.1034                    \n",
      "[iter 13] loss=2.7739 val_loss=2.8708 scale=2.0000 norm=5.7642                    \n",
      "[iter 14] loss=2.6971 val_loss=2.8186 scale=2.0000 norm=5.4105                    \n",
      "[iter 15] loss=2.6192 val_loss=2.7806 scale=2.0000 norm=5.1302                    \n",
      "[iter 16] loss=2.5458 val_loss=2.7751 scale=2.0000 norm=4.8114                    \n",
      "[iter 17] loss=2.4888 val_loss=2.7553 scale=2.0000 norm=4.6528                    \n",
      "[iter 18] loss=2.4290 val_loss=2.7568 scale=2.0000 norm=4.4862                    \n",
      "[iter 19] loss=2.3753 val_loss=2.7553 scale=2.0000 norm=4.3480                    \n",
      " 59%|█████▉    | 59/100 [00:08<00:06,  6.31trial/s, best loss: 2.4877169759380195]"
     ]
    },
    {
     "name": "stderr",
     "output_type": "stream",
     "text": [
      "2020-07-15 09:27:27 INFO     {'Base': DecisionTreeRegressor(criterion='friedman_mse', max_depth=2), 'learning_rate': 0.13333041464296172, 'minibatch_frac': 1.0, 'n_estimators': 20, 'verbose_eval': 1, 'random_state': 1}\n"
     ]
    },
    {
     "name": "stdout",
     "output_type": "stream",
     "text": [
      "\r",
      " 60%|██████    | 60/100 [00:08<00:07,  5.47trial/s, best loss: 2.4877169759380195]"
     ]
    },
    {
     "name": "stderr",
     "output_type": "stream",
     "text": [
      "2020-07-15 09:27:27 INFO     build_posterior_wrapper took 0.001177 seconds\n",
      "2020-07-15 09:27:27 INFO     TPE using 60/60 trials with best loss 2.487717\n"
     ]
    },
    {
     "name": "stdout",
     "output_type": "stream",
     "text": [
      "{'Base': DecisionTreeRegressor(criterion='friedman_mse', max_depth=4), 'learning_rate': 0.15626247925016507, 'minibatch_frac': 1.0, 'n_estimators': 20, 'verbose_eval': 1, 'random_state': 1}\n",
      "[iter 0] loss=3.5985 val_loss=3.4948 scale=0.5000 norm=3.2975                     \n",
      "[iter 1] loss=3.4531 val_loss=3.4221 scale=0.5000 norm=3.0734                     \n",
      "[iter 2] loss=3.3794 val_loss=3.3681 scale=0.5000 norm=2.8746                     \n",
      "[iter 3] loss=3.3228 val_loss=3.2814 scale=1.0000 norm=5.3756                     \n",
      "[iter 4] loss=3.2270 val_loss=3.2030 scale=1.0000 norm=4.7141                     \n",
      "[iter 5] loss=3.1446 val_loss=3.1335 scale=1.0000 norm=4.1647                     \n",
      "[iter 6] loss=3.0705 val_loss=3.0679 scale=1.0000 norm=3.7306                     \n",
      "[iter 7] loss=2.9973 val_loss=3.0083 scale=1.0000 norm=3.3311                     \n",
      "[iter 8] loss=2.9277 val_loss=2.8876 scale=2.0000 norm=6.0302                     \n",
      "[iter 9] loss=2.7898 val_loss=2.7733 scale=2.0000 norm=4.9418                     \n",
      "[iter 10] loss=2.6611 val_loss=2.6759 scale=2.0000 norm=4.2073                    \n",
      "[iter 11] loss=2.5355 val_loss=2.5957 scale=2.0000 norm=3.7010                    \n",
      "[iter 12] loss=2.4163 val_loss=2.5259 scale=2.0000 norm=3.3475                    \n",
      "[iter 13] loss=2.2961 val_loss=2.4874 scale=2.0000 norm=3.0308                    \n",
      "[iter 14] loss=2.1843 val_loss=2.4623 scale=2.0000 norm=2.8158                    \n",
      "[iter 15] loss=2.0761 val_loss=2.4823 scale=2.0000 norm=2.6349                    \n",
      "== Early stopping achieved.                                                       \n",
      "== Best iteration / VAL 14 (val_loss=2.4623)                                      \n",
      " 60%|██████    | 60/100 [00:08<00:07,  5.47trial/s, best loss: 2.4877169759380195]"
     ]
    },
    {
     "name": "stderr",
     "output_type": "stream",
     "text": [
      "2020-07-15 09:27:27 INFO     {'Base': DecisionTreeRegressor(criterion='friedman_mse', max_depth=4), 'learning_rate': 0.15626247925016507, 'minibatch_frac': 1.0, 'n_estimators': 20, 'verbose_eval': 1, 'random_state': 1}\n"
     ]
    },
    {
     "name": "stdout",
     "output_type": "stream",
     "text": [
      "\r",
      " 61%|██████    | 61/100 [00:08<00:07,  5.09trial/s, best loss: 2.462318415899865] "
     ]
    },
    {
     "name": "stderr",
     "output_type": "stream",
     "text": [
      "2020-07-15 09:27:27 INFO     build_posterior_wrapper took 0.001046 seconds\n",
      "2020-07-15 09:27:27 INFO     TPE using 61/61 trials with best loss 2.462318\n"
     ]
    },
    {
     "name": "stdout",
     "output_type": "stream",
     "text": [
      "{'Base': DecisionTreeRegressor(criterion='friedman_mse', max_depth=4), 'learning_rate': 0.1924419032988345, 'minibatch_frac': 0.5, 'n_estimators': 20, 'verbose_eval': 1, 'random_state': 1}\n",
      "[iter 0] loss=3.5549 val_loss=3.5189 scale=0.5000 norm=3.2303                    \n",
      "[iter 1] loss=3.4067 val_loss=3.4404 scale=0.5000 norm=2.8089                    \n",
      "[iter 2] loss=3.3755 val_loss=3.3816 scale=0.5000 norm=2.7703                    \n",
      "[iter 3] loss=3.2848 val_loss=3.2845 scale=1.0000 norm=5.1142                    \n",
      "[iter 4] loss=3.1829 val_loss=3.2126 scale=1.0000 norm=4.3777                    \n",
      "[iter 5] loss=3.1204 val_loss=3.1092 scale=1.0000 norm=3.9428                    \n",
      "[iter 6] loss=3.0134 val_loss=3.0466 scale=1.0000 norm=3.4771                    \n",
      "[iter 7] loss=2.9397 val_loss=2.9907 scale=1.0000 norm=3.1463                    \n",
      "[iter 8] loss=2.8547 val_loss=2.9107 scale=2.0000 norm=5.7075                    \n",
      "[iter 9] loss=2.6872 val_loss=2.8508 scale=2.0000 norm=4.5259                    \n",
      "[iter 10] loss=2.5618 val_loss=2.7513 scale=2.0000 norm=4.0930                   \n",
      "[iter 11] loss=2.4118 val_loss=2.7261 scale=2.0000 norm=3.4521                   \n",
      "[iter 12] loss=2.3361 val_loss=2.7625 scale=2.0000 norm=3.6530                   \n",
      "== Early stopping achieved.                                                      \n",
      "== Best iteration / VAL 11 (val_loss=2.7261)                                     \n",
      " 61%|██████    | 61/100 [00:08<00:07,  5.09trial/s, best loss: 2.462318415899865]"
     ]
    },
    {
     "name": "stderr",
     "output_type": "stream",
     "text": [
      "2020-07-15 09:27:27 INFO     {'Base': DecisionTreeRegressor(criterion='friedman_mse', max_depth=4), 'learning_rate': 0.1924419032988345, 'minibatch_frac': 0.5, 'n_estimators': 20, 'verbose_eval': 1, 'random_state': 1}\n"
     ]
    },
    {
     "name": "stdout",
     "output_type": "stream",
     "text": [
      "\r",
      " 62%|██████▏   | 62/100 [00:08<00:07,  5.21trial/s, best loss: 2.462318415899865]"
     ]
    },
    {
     "name": "stderr",
     "output_type": "stream",
     "text": [
      "2020-07-15 09:27:27 INFO     build_posterior_wrapper took 0.001205 seconds\n",
      "2020-07-15 09:27:27 INFO     TPE using 62/62 trials with best loss 2.462318\n"
     ]
    },
    {
     "name": "stdout",
     "output_type": "stream",
     "text": [
      "{'Base': DecisionTreeRegressor(criterion='friedman_mse', max_depth=4), 'learning_rate': 0.32745463160104304, 'minibatch_frac': 1.0, 'n_estimators': 20, 'verbose_eval': 1, 'random_state': 1}\n",
      "[iter 0] loss=3.5985 val_loss=3.3990 scale=0.5000 norm=3.2975                    \n",
      "[iter 1] loss=3.3602 val_loss=3.3061 scale=0.5000 norm=2.8361                    \n",
      "[iter 2] loss=3.2567 val_loss=3.1490 scale=1.0000 norm=4.9149                    \n",
      "[iter 3] loss=3.0909 val_loss=3.0115 scale=1.0000 norm=3.7294                    \n",
      "[iter 4] loss=2.9392 val_loss=2.7720 scale=2.0000 norm=5.8541                    \n",
      "[iter 5] loss=2.6633 val_loss=2.6124 scale=2.0000 norm=3.9422                    \n",
      "[iter 6] loss=2.4181 val_loss=2.5410 scale=2.0000 norm=3.3030                    \n",
      "[iter 7] loss=2.1799 val_loss=2.5793 scale=2.0000 norm=2.8231                    \n",
      "== Early stopping achieved.                                                      \n",
      "== Best iteration / VAL 6 (val_loss=2.5410)                                      \n",
      " 62%|██████▏   | 62/100 [00:08<00:07,  5.21trial/s, best loss: 2.462318415899865]"
     ]
    },
    {
     "name": "stderr",
     "output_type": "stream",
     "text": [
      "2020-07-15 09:27:27 INFO     {'Base': DecisionTreeRegressor(criterion='friedman_mse', max_depth=4), 'learning_rate': 0.32745463160104304, 'minibatch_frac': 1.0, 'n_estimators': 20, 'verbose_eval': 1, 'random_state': 1}\n"
     ]
    },
    {
     "name": "stdout",
     "output_type": "stream",
     "text": [
      "\r",
      " 63%|██████▎   | 63/100 [00:08<00:06,  5.80trial/s, best loss: 2.462318415899865]"
     ]
    },
    {
     "name": "stderr",
     "output_type": "stream",
     "text": [
      "2020-07-15 09:27:27 INFO     build_posterior_wrapper took 0.001057 seconds\n",
      "2020-07-15 09:27:27 INFO     TPE using 63/63 trials with best loss 2.462318\n"
     ]
    },
    {
     "name": "stdout",
     "output_type": "stream",
     "text": [
      "{'Base': DecisionTreeRegressor(criterion='friedman_mse', max_depth=3), 'learning_rate': 0.3864757171757999, 'minibatch_frac': 1.0, 'n_estimators': 20, 'verbose_eval': 1, 'random_state': 1}\n",
      "[iter 0] loss=3.5985 val_loss=3.3970 scale=0.5000 norm=3.2975                    \n",
      "[iter 1] loss=3.3596 val_loss=3.2117 scale=1.0000 norm=5.6274                    \n",
      "[iter 2] loss=3.1630 val_loss=3.0497 scale=1.0000 norm=4.1603                    \n",
      "[iter 3] loss=2.9884 val_loss=2.8313 scale=2.0000 norm=6.3659                    \n",
      "[iter 4] loss=2.6910 val_loss=2.7014 scale=2.0000 norm=4.5025                    \n",
      "[iter 5] loss=2.4403 val_loss=2.6893 scale=2.0000 norm=3.8128                    \n",
      "[iter 6] loss=2.2450 val_loss=2.7706 scale=2.0000 norm=3.4383                    \n",
      "== Early stopping achieved.                                                      \n",
      "== Best iteration / VAL 5 (val_loss=2.6893)                                      \n",
      " 63%|██████▎   | 63/100 [00:08<00:06,  5.80trial/s, best loss: 2.462318415899865]"
     ]
    },
    {
     "name": "stderr",
     "output_type": "stream",
     "text": [
      "2020-07-15 09:27:27 INFO     {'Base': DecisionTreeRegressor(criterion='friedman_mse', max_depth=3), 'learning_rate': 0.3864757171757999, 'minibatch_frac': 1.0, 'n_estimators': 20, 'verbose_eval': 1, 'random_state': 1}\n"
     ]
    },
    {
     "name": "stdout",
     "output_type": "stream",
     "text": [
      "\r",
      " 64%|██████▍   | 64/100 [00:08<00:05,  6.51trial/s, best loss: 2.462318415899865]"
     ]
    },
    {
     "name": "stderr",
     "output_type": "stream",
     "text": [
      "2020-07-15 09:27:27 INFO     build_posterior_wrapper took 0.001329 seconds\n",
      "2020-07-15 09:27:27 INFO     TPE using 64/64 trials with best loss 2.462318\n"
     ]
    },
    {
     "name": "stdout",
     "output_type": "stream",
     "text": [
      "{'Base': DecisionTreeRegressor(criterion='friedman_mse', max_depth=4), 'learning_rate': 0.4537506607574251, 'minibatch_frac': 1.0, 'n_estimators': 20, 'verbose_eval': 1, 'random_state': 1}\n",
      "[iter 0] loss=3.5985 val_loss=3.3580 scale=0.5000 norm=3.2975                    \n",
      "[iter 1] loss=3.3152 val_loss=3.1523 scale=1.0000 norm=5.3299                    \n",
      "[iter 2] loss=3.0876 val_loss=2.9825 scale=1.0000 norm=3.5178                    \n",
      "[iter 3] loss=2.8808 val_loss=2.6790 scale=2.0000 norm=5.0501                    \n",
      "[iter 4] loss=2.5155 val_loss=2.5341 scale=2.0000 norm=3.2296                    \n",
      "[iter 5] loss=2.1795 val_loss=2.6952 scale=2.0000 norm=2.6425                    \n",
      "== Early stopping achieved.                                                      \n",
      "== Best iteration / VAL 4 (val_loss=2.5341)                                      \n",
      " 64%|██████▍   | 64/100 [00:08<00:05,  6.51trial/s, best loss: 2.462318415899865]"
     ]
    },
    {
     "name": "stderr",
     "output_type": "stream",
     "text": [
      "2020-07-15 09:27:28 INFO     {'Base': DecisionTreeRegressor(criterion='friedman_mse', max_depth=4), 'learning_rate': 0.4537506607574251, 'minibatch_frac': 1.0, 'n_estimators': 20, 'verbose_eval': 1, 'random_state': 1}\n",
      "2020-07-15 09:27:28 INFO     build_posterior_wrapper took 0.001296 seconds\n",
      "2020-07-15 09:27:28 INFO     TPE using 65/65 trials with best loss 2.462318\n"
     ]
    },
    {
     "name": "stdout",
     "output_type": "stream",
     "text": [
      "{'Base': DecisionTreeRegressor(criterion='friedman_mse', max_depth=4), 'learning_rate': 0.1501620598942516, 'minibatch_frac': 1.0, 'n_estimators': 20, 'verbose_eval': 1, 'random_state': 1}\n",
      "[iter 0] loss=3.5985 val_loss=3.4996 scale=0.5000 norm=3.2975                    \n",
      "[iter 1] loss=3.4574 val_loss=3.4278 scale=0.5000 norm=3.0820                    \n",
      "[iter 2] loss=3.3849 val_loss=3.3753 scale=0.5000 norm=2.8901                    \n",
      "[iter 3] loss=3.3293 val_loss=3.2883 scale=1.0000 norm=5.4183                    \n",
      "[iter 4] loss=3.2355 val_loss=3.2110 scale=1.0000 norm=4.7747                    \n",
      "[iter 5] loss=3.1553 val_loss=3.1426 scale=1.0000 norm=4.2372                    \n",
      "[iter 6] loss=3.0824 val_loss=3.0772 scale=1.0000 norm=3.7880                    \n",
      "[iter 7] loss=3.0118 val_loss=3.0188 scale=1.0000 norm=3.3979                    \n",
      "[iter 8] loss=2.9424 val_loss=2.9027 scale=2.0000 norm=6.1408                    \n",
      "[iter 9] loss=2.8114 val_loss=2.7895 scale=2.0000 norm=5.0990                    \n",
      "[iter 10] loss=2.6831 val_loss=2.6952 scale=2.0000 norm=4.2951                   \n",
      "[iter 11] loss=2.5616 val_loss=2.6096 scale=2.0000 norm=3.7861                   \n",
      "[iter 12] loss=2.4420 val_loss=2.5447 scale=2.0000 norm=3.3960                   \n",
      "[iter 13] loss=2.3240 val_loss=2.5004 scale=2.0000 norm=3.0612                   \n",
      "[iter 14] loss=2.2140 val_loss=2.4810 scale=2.0000 norm=2.8376                   \n",
      "[iter 15] loss=2.1097 val_loss=2.4918 scale=2.0000 norm=2.6776                   \n",
      "== Early stopping achieved.                                                      \n",
      "== Best iteration / VAL 14 (val_loss=2.4810)                                     \n",
      " 65%|██████▌   | 65/100 [00:09<00:05,  6.51trial/s, best loss: 2.462318415899865]"
     ]
    },
    {
     "name": "stderr",
     "output_type": "stream",
     "text": [
      "2020-07-15 09:27:28 INFO     {'Base': DecisionTreeRegressor(criterion='friedman_mse', max_depth=4), 'learning_rate': 0.1501620598942516, 'minibatch_frac': 1.0, 'n_estimators': 20, 'verbose_eval': 1, 'random_state': 1}\n"
     ]
    },
    {
     "name": "stdout",
     "output_type": "stream",
     "text": [
      "\r",
      " 66%|██████▌   | 66/100 [00:09<00:05,  6.38trial/s, best loss: 2.462318415899865]"
     ]
    },
    {
     "name": "stderr",
     "output_type": "stream",
     "text": [
      "2020-07-15 09:27:28 INFO     build_posterior_wrapper took 0.001101 seconds\n",
      "2020-07-15 09:27:28 INFO     TPE using 66/66 trials with best loss 2.462318\n"
     ]
    },
    {
     "name": "stdout",
     "output_type": "stream",
     "text": [
      "{'Base': DecisionTreeRegressor(criterion='friedman_mse', max_depth=4), 'learning_rate': 0.15003822486103113, 'minibatch_frac': 1.0, 'n_estimators': 20, 'verbose_eval': 1, 'random_state': 1}\n",
      "[iter 0] loss=3.5985 val_loss=3.4962 scale=0.5000 norm=3.2975                    \n",
      "[iter 1] loss=3.4575 val_loss=3.4259 scale=0.5000 norm=3.0822                    \n",
      "[iter 2] loss=3.3850 val_loss=3.3736 scale=0.5000 norm=2.8904                    \n",
      "[iter 3] loss=3.3295 val_loss=3.2872 scale=1.0000 norm=5.4191                    \n",
      "[iter 4] loss=3.2357 val_loss=3.2103 scale=1.0000 norm=4.7759                    \n",
      "[iter 5] loss=3.1555 val_loss=3.1406 scale=1.0000 norm=4.2387                    \n",
      "[iter 6] loss=3.0827 val_loss=3.0755 scale=1.0000 norm=3.7896                    \n",
      "[iter 7] loss=3.0121 val_loss=3.0174 scale=1.0000 norm=3.3996                    \n",
      "[iter 8] loss=2.9428 val_loss=2.9013 scale=2.0000 norm=6.1442                    \n",
      "[iter 9] loss=2.8118 val_loss=2.7911 scale=2.0000 norm=5.1021                    \n",
      "[iter 10] loss=2.6836 val_loss=2.6978 scale=2.0000 norm=4.2978                   \n",
      "[iter 11] loss=2.5622 val_loss=2.6132 scale=2.0000 norm=3.7884                   \n",
      "[iter 12] loss=2.4426 val_loss=2.5495 scale=2.0000 norm=3.3980                   \n",
      "[iter 13] loss=2.3247 val_loss=2.5070 scale=2.0000 norm=3.0628                   \n",
      "[iter 14] loss=2.2147 val_loss=2.4906 scale=2.0000 norm=2.8389                   \n",
      "[iter 15] loss=2.1104 val_loss=2.5025 scale=2.0000 norm=2.6786                   \n",
      "== Early stopping achieved.                                                      \n",
      "== Best iteration / VAL 14 (val_loss=2.4906)                                     \n",
      " 66%|██████▌   | 66/100 [00:09<00:05,  6.38trial/s, best loss: 2.462318415899865]"
     ]
    },
    {
     "name": "stderr",
     "output_type": "stream",
     "text": [
      "2020-07-15 09:27:28 INFO     {'Base': DecisionTreeRegressor(criterion='friedman_mse', max_depth=4), 'learning_rate': 0.15003822486103113, 'minibatch_frac': 1.0, 'n_estimators': 20, 'verbose_eval': 1, 'random_state': 1}\n"
     ]
    },
    {
     "name": "stdout",
     "output_type": "stream",
     "text": [
      "\r",
      " 67%|██████▋   | 67/100 [00:09<00:05,  5.64trial/s, best loss: 2.462318415899865]"
     ]
    },
    {
     "name": "stderr",
     "output_type": "stream",
     "text": [
      "2020-07-15 09:27:28 INFO     build_posterior_wrapper took 0.001041 seconds\n",
      "2020-07-15 09:27:28 INFO     TPE using 67/67 trials with best loss 2.462318\n"
     ]
    },
    {
     "name": "stdout",
     "output_type": "stream",
     "text": [
      "{'Base': DecisionTreeRegressor(criterion='friedman_mse', max_depth=4), 'learning_rate': 0.0797614225639874, 'minibatch_frac': 1.0, 'n_estimators': 20, 'verbose_eval': 1, 'random_state': 1}\n",
      "[iter 0] loss=3.5985 val_loss=3.5615 scale=0.5000 norm=3.2975                    \n",
      "[iter 1] loss=3.5143 val_loss=3.5064 scale=0.5000 norm=3.1818                    \n",
      "[iter 2] loss=3.4603 val_loss=3.4654 scale=0.5000 norm=3.0739                    \n",
      "[iter 3] loss=3.4184 val_loss=3.4298 scale=0.5000 norm=2.9717                    \n",
      "[iter 4] loss=3.3833 val_loss=3.4001 scale=0.5000 norm=2.8746                    \n",
      "[iter 5] loss=3.3523 val_loss=3.3466 scale=1.0000 norm=5.5567                    \n",
      "[iter 6] loss=3.2975 val_loss=3.2999 scale=1.0000 norm=5.2031                    \n",
      "[iter 7] loss=3.2489 val_loss=3.2595 scale=1.0000 norm=4.8830                    \n",
      "[iter 8] loss=3.2047 val_loss=3.2187 scale=1.0000 norm=4.5806                    \n",
      "[iter 9] loss=3.1627 val_loss=3.1823 scale=1.0000 norm=4.3115                    \n",
      "[iter 10] loss=3.1228 val_loss=3.1464 scale=1.0000 norm=4.0673                   \n",
      "[iter 11] loss=3.0845 val_loss=3.1093 scale=1.0000 norm=3.8475                   \n",
      "[iter 12] loss=3.0459 val_loss=3.0771 scale=1.0000 norm=3.6299                   \n",
      "[iter 13] loss=3.0082 val_loss=3.0427 scale=1.0000 norm=3.4325                   \n",
      "[iter 14] loss=2.9720 val_loss=2.9794 scale=2.0000 norm=6.5217                   \n",
      "[iter 15] loss=2.9015 val_loss=2.9189 scale=2.0000 norm=5.9161                   \n",
      "[iter 16] loss=2.8318 val_loss=2.8600 scale=2.0000 norm=5.3501                   \n",
      "[iter 17] loss=2.7625 val_loss=2.8036 scale=2.0000 norm=4.8731                   \n",
      "[iter 18] loss=2.6945 val_loss=2.7536 scale=2.0000 norm=4.4661                   \n",
      "[iter 19] loss=2.6283 val_loss=2.7063 scale=2.0000 norm=4.1556                   \n",
      " 67%|██████▋   | 67/100 [00:09<00:05,  5.64trial/s, best loss: 2.462318415899865]"
     ]
    },
    {
     "name": "stderr",
     "output_type": "stream",
     "text": [
      "2020-07-15 09:27:28 INFO     {'Base': DecisionTreeRegressor(criterion='friedman_mse', max_depth=4), 'learning_rate': 0.0797614225639874, 'minibatch_frac': 1.0, 'n_estimators': 20, 'verbose_eval': 1, 'random_state': 1}\n"
     ]
    },
    {
     "name": "stdout",
     "output_type": "stream",
     "text": [
      "\r",
      " 68%|██████▊   | 68/100 [00:09<00:06,  4.96trial/s, best loss: 2.462318415899865]"
     ]
    },
    {
     "name": "stderr",
     "output_type": "stream",
     "text": [
      "2020-07-15 09:27:28 INFO     build_posterior_wrapper took 0.001430 seconds\n",
      "2020-07-15 09:27:28 INFO     TPE using 68/68 trials with best loss 2.462318\n"
     ]
    },
    {
     "name": "stdout",
     "output_type": "stream",
     "text": [
      "{'Base': DecisionTreeRegressor(criterion='friedman_mse', max_depth=4), 'learning_rate': 0.2494412797178056, 'minibatch_frac': 1.0, 'n_estimators': 20, 'verbose_eval': 1, 'random_state': 1}\n",
      "[iter 0] loss=3.5985 val_loss=3.4317 scale=0.5000 norm=3.2975                    \n",
      "[iter 1] loss=3.3966 val_loss=3.3483 scale=0.5000 norm=2.9434                    \n",
      "[iter 2] loss=3.3076 val_loss=3.2204 scale=1.0000 norm=5.2735                    \n",
      "[iter 3] loss=3.1674 val_loss=3.1182 scale=1.0000 norm=4.2568                    \n",
      "[iter 4] loss=3.0477 val_loss=3.0126 scale=1.0000 norm=3.5171                    \n",
      "[iter 5] loss=2.9358 val_loss=2.8214 scale=2.0000 norm=5.9612                    \n",
      "[iter 6] loss=2.7193 val_loss=2.6729 scale=2.0000 norm=4.3300                    \n",
      "[iter 7] loss=2.5156 val_loss=2.5605 scale=2.0000 norm=3.4660                    \n",
      "[iter 8] loss=2.3298 val_loss=2.5135 scale=2.0000 norm=3.0364                    \n",
      "[iter 9] loss=2.1521 val_loss=2.5422 scale=2.0000 norm=2.7184                    \n",
      "== Early stopping achieved.                                                      \n",
      "== Best iteration / VAL 8 (val_loss=2.5135)                                      \n",
      " 68%|██████▊   | 68/100 [00:09<00:06,  4.96trial/s, best loss: 2.462318415899865]"
     ]
    },
    {
     "name": "stderr",
     "output_type": "stream",
     "text": [
      "2020-07-15 09:27:28 INFO     {'Base': DecisionTreeRegressor(criterion='friedman_mse', max_depth=4), 'learning_rate': 0.2494412797178056, 'minibatch_frac': 1.0, 'n_estimators': 20, 'verbose_eval': 1, 'random_state': 1}\n"
     ]
    },
    {
     "name": "stdout",
     "output_type": "stream",
     "text": [
      "\r",
      " 69%|██████▉   | 69/100 [00:09<00:05,  5.40trial/s, best loss: 2.462318415899865]"
     ]
    },
    {
     "name": "stderr",
     "output_type": "stream",
     "text": [
      "2020-07-15 09:27:28 INFO     build_posterior_wrapper took 0.001560 seconds\n",
      "2020-07-15 09:27:28 INFO     TPE using 69/69 trials with best loss 2.462318\n"
     ]
    },
    {
     "name": "stdout",
     "output_type": "stream",
     "text": [
      "{'Base': DecisionTreeRegressor(criterion='friedman_mse', max_depth=4), 'learning_rate': 0.19722770983899696, 'minibatch_frac': 1.0, 'n_estimators': 20, 'verbose_eval': 1, 'random_state': 1}\n",
      "[iter 0] loss=3.5985 val_loss=3.4622 scale=0.5000 norm=3.2975                    \n",
      "[iter 1] loss=3.4262 val_loss=3.3850 scale=0.5000 norm=3.0160                    \n",
      "[iter 2] loss=3.3456 val_loss=3.3279 scale=0.5000 norm=2.7725                    \n",
      "[iter 3] loss=3.2809 val_loss=3.2259 scale=1.0000 norm=5.0988                    \n",
      "[iter 4] loss=3.1723 val_loss=3.1395 scale=1.0000 norm=4.3367                    \n",
      "[iter 5] loss=3.0749 val_loss=3.0651 scale=1.0000 norm=3.7091                    \n",
      "[iter 6] loss=2.9831 val_loss=2.9849 scale=1.0000 norm=3.2367                    \n",
      "[iter 7] loss=2.8934 val_loss=2.8270 scale=2.0000 norm=5.6557                    \n",
      "[iter 8] loss=2.7231 val_loss=2.7240 scale=2.0000 norm=4.4557                    \n",
      "[iter 9] loss=2.5617 val_loss=2.6221 scale=2.0000 norm=3.7550                    \n",
      "[iter 10] loss=2.4041 val_loss=2.5842 scale=2.0000 norm=3.2135                   \n",
      "[iter 11] loss=2.2570 val_loss=2.5766 scale=2.0000 norm=2.9143                   \n",
      "[iter 12] loss=2.1159 val_loss=2.6052 scale=2.0000 norm=2.6775                   \n",
      "== Early stopping achieved.                                                      \n",
      "== Best iteration / VAL 11 (val_loss=2.5766)                                     \n",
      " 69%|██████▉   | 69/100 [00:09<00:05,  5.40trial/s, best loss: 2.462318415899865]"
     ]
    },
    {
     "name": "stderr",
     "output_type": "stream",
     "text": [
      "2020-07-15 09:27:29 INFO     {'Base': DecisionTreeRegressor(criterion='friedman_mse', max_depth=4), 'learning_rate': 0.19722770983899696, 'minibatch_frac': 1.0, 'n_estimators': 20, 'verbose_eval': 1, 'random_state': 1}\n"
     ]
    },
    {
     "name": "stdout",
     "output_type": "stream",
     "text": [
      "\r",
      " 70%|███████   | 70/100 [00:09<00:05,  5.40trial/s, best loss: 2.462318415899865]"
     ]
    },
    {
     "name": "stderr",
     "output_type": "stream",
     "text": [
      "2020-07-15 09:27:29 INFO     build_posterior_wrapper took 0.001176 seconds\n",
      "2020-07-15 09:27:29 INFO     TPE using 70/70 trials with best loss 2.462318\n"
     ]
    },
    {
     "name": "stdout",
     "output_type": "stream",
     "text": [
      "{'Base': DecisionTreeRegressor(criterion='friedman_mse', max_depth=4), 'learning_rate': 0.2764306419027718, 'minibatch_frac': 1.0, 'n_estimators': 20, 'verbose_eval': 1, 'random_state': 1}\n",
      "[iter 0] loss=3.5985 val_loss=3.4180 scale=0.5000 norm=3.2975                    \n",
      "[iter 1] loss=3.3831 val_loss=3.3330 scale=0.5000 norm=2.9062                    \n",
      "[iter 2] loss=3.2880 val_loss=3.1934 scale=1.0000 norm=5.1459                    \n",
      "[iter 3] loss=3.1407 val_loss=3.0775 scale=1.0000 norm=4.0764                    \n",
      "[iter 4] loss=3.0092 val_loss=2.9673 scale=1.0000 norm=3.3002                    \n",
      "[iter 5] loss=2.8875 val_loss=2.7909 scale=2.0000 norm=5.5433                    \n",
      "[iter 6] loss=2.6524 val_loss=2.6396 scale=2.0000 norm=3.9637                    \n",
      "[iter 7] loss=2.4370 val_loss=2.5645 scale=2.0000 norm=3.2854                    \n",
      "[iter 8] loss=2.2304 val_loss=2.5622 scale=2.0000 norm=2.8070                    \n",
      "[iter 9] loss=2.0314 val_loss=2.6980 scale=2.0000 norm=2.4627                    \n",
      "== Early stopping achieved.                                                      \n",
      "== Best iteration / VAL 8 (val_loss=2.5622)                                      \n",
      " 70%|███████   | 70/100 [00:10<00:05,  5.40trial/s, best loss: 2.462318415899865]"
     ]
    },
    {
     "name": "stderr",
     "output_type": "stream",
     "text": [
      "2020-07-15 09:27:29 INFO     {'Base': DecisionTreeRegressor(criterion='friedman_mse', max_depth=4), 'learning_rate': 0.2764306419027718, 'minibatch_frac': 1.0, 'n_estimators': 20, 'verbose_eval': 1, 'random_state': 1}\n"
     ]
    },
    {
     "name": "stdout",
     "output_type": "stream",
     "text": [
      "\r",
      " 71%|███████   | 71/100 [00:10<00:05,  5.75trial/s, best loss: 2.462318415899865]"
     ]
    },
    {
     "name": "stderr",
     "output_type": "stream",
     "text": [
      "2020-07-15 09:27:29 INFO     build_posterior_wrapper took 0.001350 seconds\n",
      "2020-07-15 09:27:29 INFO     TPE using 71/71 trials with best loss 2.462318\n"
     ]
    },
    {
     "name": "stdout",
     "output_type": "stream",
     "text": [
      "{'Base': DecisionTreeRegressor(criterion='friedman_mse', max_depth=4), 'learning_rate': 0.1613514064868977, 'minibatch_frac': 1.0, 'n_estimators': 20, 'verbose_eval': 1, 'random_state': 1}\n",
      "[iter 0] loss=3.5985 val_loss=3.4871 scale=0.5000 norm=3.2975                    \n",
      "[iter 1] loss=3.4496 val_loss=3.4152 scale=0.5000 norm=3.0663                    \n",
      "[iter 2] loss=3.3749 val_loss=3.3622 scale=0.5000 norm=2.8617                    \n",
      "[iter 3] loss=3.3174 val_loss=3.2708 scale=1.0000 norm=5.3404                    \n",
      "[iter 4] loss=3.2203 val_loss=3.1946 scale=1.0000 norm=4.6722                    \n",
      "[iter 5] loss=3.1365 val_loss=3.1245 scale=1.0000 norm=4.1110                    \n",
      "[iter 6] loss=3.0600 val_loss=3.0625 scale=1.0000 norm=3.6706                    \n",
      "[iter 7] loss=2.9857 val_loss=2.9997 scale=1.0000 norm=3.2769                    \n",
      "[iter 8] loss=2.9128 val_loss=2.8701 scale=2.0000 norm=5.8942                    \n",
      "[iter 9] loss=2.7718 val_loss=2.7527 scale=2.0000 norm=4.7986                    \n",
      "[iter 10] loss=2.6376 val_loss=2.6615 scale=2.0000 norm=4.0830                   \n",
      "[iter 11] loss=2.5056 val_loss=2.5977 scale=2.0000 norm=3.5463                   \n",
      "[iter 12] loss=2.3818 val_loss=2.5404 scale=2.0000 norm=3.1982                   \n",
      "[iter 13] loss=2.2611 val_loss=2.5034 scale=2.0000 norm=2.9319                   \n",
      "[iter 14] loss=2.1513 val_loss=2.4855 scale=2.0000 norm=2.7646                   \n",
      "[iter 15] loss=2.0394 val_loss=2.5176 scale=2.0000 norm=2.5742                   \n",
      "== Early stopping achieved.                                                      \n",
      "== Best iteration / VAL 14 (val_loss=2.4855)                                     \n",
      " 71%|███████   | 71/100 [00:10<00:05,  5.75trial/s, best loss: 2.462318415899865]"
     ]
    },
    {
     "name": "stderr",
     "output_type": "stream",
     "text": [
      "2020-07-15 09:27:29 INFO     {'Base': DecisionTreeRegressor(criterion='friedman_mse', max_depth=4), 'learning_rate': 0.1613514064868977, 'minibatch_frac': 1.0, 'n_estimators': 20, 'verbose_eval': 1, 'random_state': 1}\n"
     ]
    },
    {
     "name": "stdout",
     "output_type": "stream",
     "text": [
      "\r",
      " 72%|███████▏  | 72/100 [00:10<00:05,  5.32trial/s, best loss: 2.462318415899865]"
     ]
    },
    {
     "name": "stderr",
     "output_type": "stream",
     "text": [
      "2020-07-15 09:27:29 INFO     build_posterior_wrapper took 0.001044 seconds\n",
      "2020-07-15 09:27:29 INFO     TPE using 72/72 trials with best loss 2.462318\n"
     ]
    },
    {
     "name": "stdout",
     "output_type": "stream",
     "text": [
      "{'Base': DecisionTreeRegressor(criterion='friedman_mse', max_depth=4), 'learning_rate': 0.05665442220116418, 'minibatch_frac': 1.0, 'n_estimators': 20, 'verbose_eval': 1, 'random_state': 1}\n",
      "[iter 0] loss=3.5985 val_loss=3.5880 scale=0.5000 norm=3.2975                    \n",
      "[iter 1] loss=3.5363 val_loss=3.5420 scale=0.5000 norm=3.2150                    \n",
      "[iter 2] loss=3.4919 val_loss=3.5065 scale=0.5000 norm=3.1368                    \n",
      "[iter 3] loss=3.4566 val_loss=3.4760 scale=0.5000 norm=3.0618                    \n",
      "[iter 4] loss=3.4266 val_loss=3.4495 scale=0.5000 norm=2.9900                    \n",
      "[iter 5] loss=3.4003 val_loss=3.4259 scale=0.5000 norm=2.9202                    \n",
      "[iter 6] loss=3.3765 val_loss=3.4039 scale=0.5000 norm=2.8498                    \n",
      "[iter 7] loss=3.3546 val_loss=3.3655 scale=1.0000 norm=5.5681                    \n",
      "[iter 8] loss=3.3148 val_loss=3.3296 scale=1.0000 norm=5.3202                    \n",
      "[iter 9] loss=3.2791 val_loss=3.2980 scale=1.0000 norm=5.0846                    \n",
      "[iter 10] loss=3.2452 val_loss=3.2675 scale=1.0000 norm=4.8529                   \n",
      "[iter 11] loss=3.2134 val_loss=3.2383 scale=1.0000 norm=4.6467                   \n",
      "[iter 12] loss=3.1827 val_loss=3.2118 scale=1.0000 norm=4.4464                   \n",
      "[iter 13] loss=3.1533 val_loss=3.1852 scale=1.0000 norm=4.2636                   \n",
      "[iter 14] loss=3.1250 val_loss=3.1600 scale=1.0000 norm=4.0902                   \n",
      "[iter 15] loss=3.0977 val_loss=3.1338 scale=1.0000 norm=3.9310                   \n",
      "[iter 16] loss=3.0708 val_loss=3.1087 scale=1.0000 norm=3.7832                   \n",
      "[iter 17] loss=3.0443 val_loss=3.0831 scale=1.0000 norm=3.6389                   \n",
      "[iter 18] loss=3.0173 val_loss=3.0591 scale=1.0000 norm=3.4973                   \n",
      "[iter 19] loss=2.9911 val_loss=3.0352 scale=1.0000 norm=3.3647                   \n",
      " 72%|███████▏  | 72/100 [00:10<00:05,  5.32trial/s, best loss: 2.462318415899865]"
     ]
    },
    {
     "name": "stderr",
     "output_type": "stream",
     "text": [
      "2020-07-15 09:27:29 INFO     {'Base': DecisionTreeRegressor(criterion='friedman_mse', max_depth=4), 'learning_rate': 0.05665442220116418, 'minibatch_frac': 1.0, 'n_estimators': 20, 'verbose_eval': 1, 'random_state': 1}\n"
     ]
    },
    {
     "name": "stdout",
     "output_type": "stream",
     "text": [
      "\r",
      " 73%|███████▎  | 73/100 [00:10<00:05,  4.73trial/s, best loss: 2.462318415899865]"
     ]
    },
    {
     "name": "stderr",
     "output_type": "stream",
     "text": [
      "2020-07-15 09:27:29 INFO     build_posterior_wrapper took 0.001040 seconds\n",
      "2020-07-15 09:27:29 INFO     TPE using 73/73 trials with best loss 2.462318\n"
     ]
    },
    {
     "name": "stdout",
     "output_type": "stream",
     "text": [
      "{'Base': DecisionTreeRegressor(criterion='friedman_mse', max_depth=4), 'learning_rate': 0.22922482164088537, 'minibatch_frac': 1.0, 'n_estimators': 20, 'verbose_eval': 1, 'random_state': 1}\n",
      "[iter 0] loss=3.5985 val_loss=3.4424 scale=0.5000 norm=3.2975                    \n",
      "[iter 1] loss=3.4075 val_loss=3.3610 scale=0.5000 norm=2.9715                    \n",
      "[iter 2] loss=3.3218 val_loss=3.2377 scale=1.0000 norm=5.3903                    \n",
      "[iter 3] loss=3.1892 val_loss=3.1375 scale=1.0000 norm=4.4340                    \n",
      "[iter 4] loss=3.0756 val_loss=3.0480 scale=1.0000 norm=3.6828                    \n",
      "[iter 5] loss=2.9688 val_loss=2.8793 scale=2.0000 norm=6.2440                    \n",
      "[iter 6] loss=2.7736 val_loss=2.7456 scale=2.0000 norm=4.7330                    \n",
      "[iter 7] loss=2.5931 val_loss=2.6297 scale=2.0000 norm=3.8802                    \n",
      "[iter 8] loss=2.4168 val_loss=2.5473 scale=2.0000 norm=3.3052                    \n",
      "[iter 9] loss=2.2438 val_loss=2.5241 scale=2.0000 norm=2.9370                    \n",
      "[iter 10] loss=2.0831 val_loss=2.5666 scale=2.0000 norm=2.6613                   \n",
      "== Early stopping achieved.                                                      \n",
      "== Best iteration / VAL 9 (val_loss=2.5241)                                      \n",
      " 73%|███████▎  | 73/100 [00:10<00:05,  4.73trial/s, best loss: 2.462318415899865]"
     ]
    },
    {
     "name": "stderr",
     "output_type": "stream",
     "text": [
      "2020-07-15 09:27:29 INFO     {'Base': DecisionTreeRegressor(criterion='friedman_mse', max_depth=4), 'learning_rate': 0.22922482164088537, 'minibatch_frac': 1.0, 'n_estimators': 20, 'verbose_eval': 1, 'random_state': 1}\n"
     ]
    },
    {
     "name": "stdout",
     "output_type": "stream",
     "text": [
      "\r",
      " 74%|███████▍  | 74/100 [00:10<00:05,  5.12trial/s, best loss: 2.462318415899865]"
     ]
    },
    {
     "name": "stderr",
     "output_type": "stream",
     "text": [
      "2020-07-15 09:27:29 INFO     build_posterior_wrapper took 0.001280 seconds\n",
      "2020-07-15 09:27:29 INFO     TPE using 74/74 trials with best loss 2.462318\n"
     ]
    },
    {
     "name": "stdout",
     "output_type": "stream",
     "text": [
      "{'Base': DecisionTreeRegressor(criterion='friedman_mse', max_depth=4), 'learning_rate': 0.16734699358447072, 'minibatch_frac': 1.0, 'n_estimators': 20, 'verbose_eval': 1, 'random_state': 1}\n",
      "[iter 0] loss=3.5985 val_loss=3.4829 scale=0.5000 norm=3.2975                    \n",
      "[iter 1] loss=3.4455 val_loss=3.4101 scale=0.5000 norm=3.0578                    \n",
      "[iter 2] loss=3.3697 val_loss=3.3557 scale=0.5000 norm=2.8466                    \n",
      "[iter 3] loss=3.3113 val_loss=3.2628 scale=1.0000 norm=5.2992                    \n",
      "[iter 4] loss=3.2121 val_loss=3.1847 scale=1.0000 norm=4.6137                    \n",
      "[iter 5] loss=3.1266 val_loss=3.1146 scale=1.0000 norm=4.0496                    \n",
      "[iter 6] loss=3.0478 val_loss=3.0501 scale=1.0000 norm=3.6014                    \n",
      "[iter 7] loss=2.9698 val_loss=2.9846 scale=1.0000 norm=3.1911                    \n",
      "[iter 8] loss=2.8948 val_loss=2.8552 scale=2.0000 norm=5.7278                    \n",
      "[iter 9] loss=2.7508 val_loss=2.7321 scale=2.0000 norm=4.6789                    \n",
      "[iter 10] loss=2.6108 val_loss=2.6398 scale=2.0000 norm=3.9498                   \n",
      "[iter 11] loss=2.4777 val_loss=2.5677 scale=2.0000 norm=3.5041                   \n",
      "[iter 12] loss=2.3528 val_loss=2.5272 scale=2.0000 norm=3.1778                   \n",
      "[iter 13] loss=2.2268 val_loss=2.5011 scale=2.0000 norm=2.8818                   \n",
      "[iter 14] loss=2.1045 val_loss=2.4973 scale=2.0000 norm=2.6376                   \n",
      "[iter 15] loss=1.9933 val_loss=2.5473 scale=2.0000 norm=2.4801                   \n",
      "== Early stopping achieved.                                                      \n",
      "== Best iteration / VAL 14 (val_loss=2.4973)                                     \n",
      " 74%|███████▍  | 74/100 [00:10<00:05,  5.12trial/s, best loss: 2.462318415899865]"
     ]
    },
    {
     "name": "stderr",
     "output_type": "stream",
     "text": [
      "2020-07-15 09:27:30 INFO     {'Base': DecisionTreeRegressor(criterion='friedman_mse', max_depth=4), 'learning_rate': 0.16734699358447072, 'minibatch_frac': 1.0, 'n_estimators': 20, 'verbose_eval': 1, 'random_state': 1}\n"
     ]
    },
    {
     "name": "stdout",
     "output_type": "stream",
     "text": [
      "\r",
      " 75%|███████▌  | 75/100 [00:10<00:05,  4.93trial/s, best loss: 2.462318415899865]"
     ]
    },
    {
     "name": "stderr",
     "output_type": "stream",
     "text": [
      "2020-07-15 09:27:30 INFO     build_posterior_wrapper took 0.001041 seconds\n",
      "2020-07-15 09:27:30 INFO     TPE using 75/75 trials with best loss 2.462318\n"
     ]
    },
    {
     "name": "stdout",
     "output_type": "stream",
     "text": [
      "{'Base': DecisionTreeRegressor(criterion='friedman_mse', max_depth=2), 'learning_rate': 0.11306602853064508, 'minibatch_frac': 1.0, 'n_estimators': 20, 'verbose_eval': 1, 'random_state': 1}\n",
      "[iter 0] loss=3.5985 val_loss=3.5609 scale=0.5000 norm=3.2975                    \n",
      "[iter 1] loss=3.5143 val_loss=3.5023 scale=0.5000 norm=3.1579                    \n",
      "[iter 2] loss=3.4621 val_loss=3.4623 scale=0.5000 norm=3.0371                    \n",
      "[iter 3] loss=3.4184 val_loss=3.4311 scale=0.5000 norm=2.9247                    \n",
      "[iter 4] loss=3.3807 val_loss=3.3673 scale=1.0000 norm=5.6358                    \n",
      "[iter 5] loss=3.3194 val_loss=3.3161 scale=1.0000 norm=5.2536                    \n",
      "[iter 6] loss=3.2614 val_loss=3.2680 scale=1.0000 norm=4.8996                    \n",
      "[iter 7] loss=3.2069 val_loss=3.2249 scale=1.0000 norm=4.5523                    \n",
      "[iter 8] loss=3.1606 val_loss=3.1837 scale=1.0000 norm=4.3044                    \n",
      "[iter 9] loss=3.1168 val_loss=3.1525 scale=1.0000 norm=4.1012                    \n",
      "[iter 10] loss=3.0754 val_loss=3.0786 scale=2.0000 norm=7.8323                   \n",
      "[iter 11] loss=2.9933 val_loss=3.0182 scale=2.0000 norm=7.1037                   \n",
      "[iter 12] loss=2.9072 val_loss=2.9629 scale=2.0000 norm=6.4849                   \n",
      "[iter 13] loss=2.8335 val_loss=2.8905 scale=2.0000 norm=6.0256                   \n",
      "[iter 14] loss=2.7623 val_loss=2.8498 scale=2.0000 norm=5.6400                   \n",
      "[iter 15] loss=2.6911 val_loss=2.8169 scale=2.0000 norm=5.3346                   \n",
      "[iter 16] loss=2.6262 val_loss=2.7936 scale=2.0000 norm=5.0359                   \n",
      "[iter 17] loss=2.5689 val_loss=2.7861 scale=2.0000 norm=4.9175                   \n",
      "[iter 18] loss=2.5201 val_loss=2.7768 scale=1.0000 norm=2.3976                   \n",
      "[iter 19] loss=2.4949 val_loss=2.7710 scale=1.0000 norm=2.3579                   \n",
      " 75%|███████▌  | 75/100 [00:11<00:05,  4.93trial/s, best loss: 2.462318415899865]"
     ]
    },
    {
     "name": "stderr",
     "output_type": "stream",
     "text": [
      "2020-07-15 09:27:30 INFO     {'Base': DecisionTreeRegressor(criterion='friedman_mse', max_depth=2), 'learning_rate': 0.11306602853064508, 'minibatch_frac': 1.0, 'n_estimators': 20, 'verbose_eval': 1, 'random_state': 1}\n"
     ]
    },
    {
     "name": "stdout",
     "output_type": "stream",
     "text": [
      "\r",
      " 76%|███████▌  | 76/100 [00:11<00:05,  4.70trial/s, best loss: 2.462318415899865]"
     ]
    },
    {
     "name": "stderr",
     "output_type": "stream",
     "text": [
      "2020-07-15 09:27:30 INFO     build_posterior_wrapper took 0.001200 seconds\n",
      "2020-07-15 09:27:30 INFO     TPE using 76/76 trials with best loss 2.462318\n"
     ]
    },
    {
     "name": "stdout",
     "output_type": "stream",
     "text": [
      "{'Base': DecisionTreeRegressor(criterion='friedman_mse', max_depth=4), 'learning_rate': 0.307600112058594, 'minibatch_frac': 1.0, 'n_estimators': 20, 'verbose_eval': 1, 'random_state': 1}\n",
      "[iter 0] loss=3.5985 val_loss=3.4072 scale=0.5000 norm=3.2975                    \n",
      "[iter 1] loss=3.3687 val_loss=3.3160 scale=0.5000 norm=2.8633                    \n",
      "[iter 2] loss=3.2686 val_loss=3.1636 scale=1.0000 norm=5.0019                    \n",
      "[iter 3] loss=3.1108 val_loss=3.0392 scale=1.0000 norm=3.8561                    \n",
      "[iter 4] loss=2.9665 val_loss=2.8132 scale=2.0000 norm=6.1157                    \n",
      "[iter 5] loss=2.7051 val_loss=2.6364 scale=2.0000 norm=4.2098                    \n",
      "[iter 6] loss=2.4698 val_loss=2.5509 scale=2.0000 norm=3.4401                    \n",
      "[iter 7] loss=2.2455 val_loss=2.5449 scale=2.0000 norm=2.9390                    \n",
      "[iter 8] loss=2.0621 val_loss=2.6282 scale=2.0000 norm=2.7490                    \n",
      "== Early stopping achieved.                                                      \n",
      "== Best iteration / VAL 7 (val_loss=2.5449)                                      \n",
      " 76%|███████▌  | 76/100 [00:11<00:05,  4.70trial/s, best loss: 2.462318415899865]"
     ]
    },
    {
     "name": "stderr",
     "output_type": "stream",
     "text": [
      "2020-07-15 09:27:30 INFO     {'Base': DecisionTreeRegressor(criterion='friedman_mse', max_depth=4), 'learning_rate': 0.307600112058594, 'minibatch_frac': 1.0, 'n_estimators': 20, 'verbose_eval': 1, 'random_state': 1}\n"
     ]
    },
    {
     "name": "stdout",
     "output_type": "stream",
     "text": [
      "\r",
      " 77%|███████▋  | 77/100 [00:11<00:04,  5.25trial/s, best loss: 2.462318415899865]"
     ]
    },
    {
     "name": "stderr",
     "output_type": "stream",
     "text": [
      "2020-07-15 09:27:30 INFO     build_posterior_wrapper took 0.001207 seconds\n",
      "2020-07-15 09:27:30 INFO     TPE using 77/77 trials with best loss 2.462318\n"
     ]
    },
    {
     "name": "stdout",
     "output_type": "stream",
     "text": [
      "{'Base': DecisionTreeRegressor(criterion='friedman_mse', max_depth=4), 'learning_rate': 0.071019071755984, 'minibatch_frac': 1.0, 'n_estimators': 20, 'verbose_eval': 1, 'random_state': 1}\n",
      "[iter 0] loss=3.5985 val_loss=3.5713 scale=0.5000 norm=3.2975                    \n",
      "[iter 1] loss=3.5224 val_loss=3.5182 scale=0.5000 norm=3.1943                    \n",
      "[iter 2] loss=3.4717 val_loss=3.4783 scale=0.5000 norm=3.0976                    \n",
      "[iter 3] loss=3.4321 val_loss=3.4451 scale=0.5000 norm=3.0054                    \n",
      "[iter 4] loss=3.3987 val_loss=3.4172 scale=0.5000 norm=2.9175                    \n",
      "[iter 5] loss=3.3695 val_loss=3.3910 scale=0.5000 norm=2.8332                    \n",
      "[iter 6] loss=3.3430 val_loss=3.3675 scale=0.5000 norm=2.7488                    \n",
      "[iter 7] loss=3.3185 val_loss=3.3244 scale=1.0000 norm=5.3360                    \n",
      "[iter 8] loss=3.2726 val_loss=3.2862 scale=1.0000 norm=5.0398                    \n",
      "[iter 9] loss=3.2315 val_loss=3.2488 scale=1.0000 norm=4.7665                    \n",
      "[iter 10] loss=3.1927 val_loss=3.2148 scale=1.0000 norm=4.5152                   \n",
      "[iter 11] loss=3.1554 val_loss=3.1818 scale=1.0000 norm=4.2738                   \n",
      "[iter 12] loss=3.1198 val_loss=3.1484 scale=1.0000 norm=4.0526                   \n",
      "[iter 13] loss=3.0856 val_loss=3.1189 scale=1.0000 norm=3.8578                   \n",
      "[iter 14] loss=3.0517 val_loss=3.0892 scale=1.0000 norm=3.6736                   \n",
      "[iter 15] loss=3.0193 val_loss=3.0585 scale=1.0000 norm=3.5063                   \n",
      "[iter 16] loss=2.9864 val_loss=3.0287 scale=1.0000 norm=3.3450                   \n",
      "[iter 17] loss=2.9535 val_loss=3.0003 scale=1.0000 norm=3.1859                   \n",
      "[iter 18] loss=2.9215 val_loss=2.9467 scale=2.0000 norm=6.0885                   \n",
      "[iter 19] loss=2.8587 val_loss=2.8899 scale=2.0000 norm=5.5754                   \n",
      " 77%|███████▋  | 77/100 [00:11<00:04,  5.25trial/s, best loss: 2.462318415899865]"
     ]
    },
    {
     "name": "stderr",
     "output_type": "stream",
     "text": [
      "2020-07-15 09:27:30 INFO     {'Base': DecisionTreeRegressor(criterion='friedman_mse', max_depth=4), 'learning_rate': 0.071019071755984, 'minibatch_frac': 1.0, 'n_estimators': 20, 'verbose_eval': 1, 'random_state': 1}\n"
     ]
    },
    {
     "name": "stdout",
     "output_type": "stream",
     "text": [
      "\r",
      " 78%|███████▊  | 78/100 [00:11<00:04,  4.71trial/s, best loss: 2.462318415899865]"
     ]
    },
    {
     "name": "stderr",
     "output_type": "stream",
     "text": [
      "2020-07-15 09:27:30 INFO     build_posterior_wrapper took 0.001036 seconds\n",
      "2020-07-15 09:27:30 INFO     TPE using 78/78 trials with best loss 2.462318\n"
     ]
    },
    {
     "name": "stdout",
     "output_type": "stream",
     "text": [
      "{'Base': DecisionTreeRegressor(criterion='friedman_mse', max_depth=4), 'learning_rate': 0.3659360709514934, 'minibatch_frac': 1.0, 'n_estimators': 20, 'verbose_eval': 1, 'random_state': 1}\n",
      "[iter 0] loss=3.5985 val_loss=3.3849 scale=0.5000 norm=3.2975                    \n",
      "[iter 1] loss=3.3449 val_loss=3.2864 scale=0.5000 norm=2.7836                    \n",
      "[iter 2] loss=3.2355 val_loss=3.1167 scale=1.0000 norm=4.7449                    \n",
      "[iter 3] loss=3.0569 val_loss=2.9624 scale=1.0000 norm=3.4919                    \n",
      "[iter 4] loss=2.8907 val_loss=2.7170 scale=2.0000 norm=5.3900                    \n",
      "[iter 5] loss=2.5906 val_loss=2.5626 scale=2.0000 norm=3.6504                    \n",
      "[iter 6] loss=2.3302 val_loss=2.5012 scale=2.0000 norm=3.1670                    \n",
      "[iter 7] loss=2.1004 val_loss=2.6856 scale=2.0000 norm=2.7949                    \n",
      "== Early stopping achieved.                                                      \n",
      "== Best iteration / VAL 6 (val_loss=2.5012)                                      \n",
      " 78%|███████▊  | 78/100 [00:11<00:04,  4.71trial/s, best loss: 2.462318415899865]"
     ]
    },
    {
     "name": "stderr",
     "output_type": "stream",
     "text": [
      "2020-07-15 09:27:30 INFO     {'Base': DecisionTreeRegressor(criterion='friedman_mse', max_depth=4), 'learning_rate': 0.3659360709514934, 'minibatch_frac': 1.0, 'n_estimators': 20, 'verbose_eval': 1, 'random_state': 1}\n"
     ]
    },
    {
     "name": "stdout",
     "output_type": "stream",
     "text": [
      "\r",
      " 79%|███████▉  | 79/100 [00:11<00:03,  5.40trial/s, best loss: 2.462318415899865]"
     ]
    },
    {
     "name": "stderr",
     "output_type": "stream",
     "text": [
      "2020-07-15 09:27:30 INFO     build_posterior_wrapper took 0.001034 seconds\n",
      "2020-07-15 09:27:30 INFO     TPE using 79/79 trials with best loss 2.462318\n"
     ]
    },
    {
     "name": "stdout",
     "output_type": "stream",
     "text": [
      "{'Base': DecisionTreeRegressor(criterion='friedman_mse', max_depth=3), 'learning_rate': 0.4213041665104166, 'minibatch_frac': 0.5, 'n_estimators': 20, 'verbose_eval': 1, 'random_state': 1}\n",
      "[iter 0] loss=3.5549 val_loss=3.4337 scale=0.5000 norm=3.2303                    \n",
      "[iter 1] loss=3.3272 val_loss=3.2258 scale=1.0000 norm=5.1069                    \n",
      "[iter 2] loss=3.1777 val_loss=3.1121 scale=1.0000 norm=4.1021                    \n",
      "[iter 3] loss=2.9686 val_loss=2.9415 scale=2.0000 norm=5.9804                    \n",
      "[iter 4] loss=2.6547 val_loss=2.9995 scale=2.0000 norm=4.4219                    \n",
      "[iter 5] loss=2.7169 val_loss=2.6661 scale=1.0000 norm=2.3835                    \n",
      "[iter 6] loss=2.5261 val_loss=2.7559 scale=1.0000 norm=2.2256                    \n",
      "== Early stopping achieved.                                                      \n",
      "== Best iteration / VAL 5 (val_loss=2.6661)                                      \n",
      " 79%|███████▉  | 79/100 [00:11<00:03,  5.40trial/s, best loss: 2.462318415899865]"
     ]
    },
    {
     "name": "stderr",
     "output_type": "stream",
     "text": [
      "2020-07-15 09:27:30 INFO     {'Base': DecisionTreeRegressor(criterion='friedman_mse', max_depth=3), 'learning_rate': 0.4213041665104166, 'minibatch_frac': 0.5, 'n_estimators': 20, 'verbose_eval': 1, 'random_state': 1}\n"
     ]
    },
    {
     "name": "stdout",
     "output_type": "stream",
     "text": [
      "\r",
      " 80%|████████  | 80/100 [00:11<00:03,  6.26trial/s, best loss: 2.462318415899865]"
     ]
    },
    {
     "name": "stderr",
     "output_type": "stream",
     "text": [
      "2020-07-15 09:27:30 INFO     build_posterior_wrapper took 0.001252 seconds\n",
      "2020-07-15 09:27:30 INFO     TPE using 80/80 trials with best loss 2.462318\n"
     ]
    },
    {
     "name": "stdout",
     "output_type": "stream",
     "text": [
      "{'Base': DecisionTreeRegressor(criterion='friedman_mse', max_depth=4), 'learning_rate': 0.49248247547255897, 'minibatch_frac': 1.0, 'n_estimators': 20, 'verbose_eval': 1, 'random_state': 1}\n",
      "[iter 0] loss=3.5985 val_loss=3.3500 scale=0.5000 norm=3.2975                    \n",
      "[iter 1] loss=3.3040 val_loss=3.1322 scale=1.0000 norm=5.2261                    \n",
      "[iter 2] loss=3.0646 val_loss=2.9438 scale=1.0000 norm=3.3374                    \n",
      "[iter 3] loss=2.8449 val_loss=2.6737 scale=2.0000 norm=4.7690                    \n",
      "[iter 4] loss=2.4617 val_loss=2.5991 scale=2.0000 norm=3.3115                    \n",
      "[iter 5] loss=2.1553 val_loss=2.8314 scale=2.0000 norm=2.9499                    \n",
      "== Early stopping achieved.                                                      \n",
      "== Best iteration / VAL 4 (val_loss=2.5991)                                      \n",
      " 80%|████████  | 80/100 [00:11<00:03,  6.26trial/s, best loss: 2.462318415899865]"
     ]
    },
    {
     "name": "stderr",
     "output_type": "stream",
     "text": [
      "2020-07-15 09:27:31 INFO     {'Base': DecisionTreeRegressor(criterion='friedman_mse', max_depth=4), 'learning_rate': 0.49248247547255897, 'minibatch_frac': 1.0, 'n_estimators': 20, 'verbose_eval': 1, 'random_state': 1}\n"
     ]
    },
    {
     "name": "stdout",
     "output_type": "stream",
     "text": [
      "\r",
      " 81%|████████  | 81/100 [00:11<00:02,  7.05trial/s, best loss: 2.462318415899865]"
     ]
    },
    {
     "name": "stderr",
     "output_type": "stream",
     "text": [
      "2020-07-15 09:27:31 INFO     build_posterior_wrapper took 0.001238 seconds\n",
      "2020-07-15 09:27:31 INFO     TPE using 81/81 trials with best loss 2.462318\n"
     ]
    },
    {
     "name": "stdout",
     "output_type": "stream",
     "text": [
      "{'Base': DecisionTreeRegressor(criterion='friedman_mse', max_depth=2), 'learning_rate': 0.2104970790448718, 'minibatch_frac': 1.0, 'n_estimators': 20, 'verbose_eval': 1, 'random_state': 1}\n",
      "[iter 0] loss=3.5985 val_loss=3.4967 scale=0.5000 norm=3.2975                    \n",
      "[iter 1] loss=3.4599 val_loss=3.4302 scale=0.5000 norm=3.0417                    \n",
      "[iter 2] loss=3.3851 val_loss=3.3228 scale=1.0000 norm=5.6795                    \n",
      "[iter 3] loss=3.2724 val_loss=3.2310 scale=1.0000 norm=4.9311                    \n",
      "[iter 4] loss=3.1818 val_loss=3.1573 scale=1.0000 norm=4.3874                    \n",
      "[iter 5] loss=3.0965 val_loss=3.0864 scale=1.0000 norm=3.9577                    \n",
      "[iter 6] loss=3.0160 val_loss=3.0252 scale=1.0000 norm=3.5646                    \n",
      "[iter 7] loss=2.9340 val_loss=2.9024 scale=2.0000 norm=6.5223                    \n",
      "[iter 8] loss=2.7913 val_loss=2.8396 scale=2.0000 norm=5.6576                    \n",
      "[iter 9] loss=2.6748 val_loss=2.8017 scale=1.0000 norm=2.6528                    \n",
      "[iter 10] loss=2.6180 val_loss=2.7639 scale=2.0000 norm=5.1283                   \n",
      "[iter 11] loss=2.5160 val_loss=2.7442 scale=1.0000 norm=2.3636                   \n",
      "[iter 12] loss=2.4653 val_loss=2.7702 scale=2.0000 norm=4.5671                   \n",
      "== Early stopping achieved.                                                      \n",
      "== Best iteration / VAL 11 (val_loss=2.7442)                                     \n",
      " 81%|████████  | 81/100 [00:12<00:02,  7.05trial/s, best loss: 2.462318415899865]"
     ]
    },
    {
     "name": "stderr",
     "output_type": "stream",
     "text": [
      "2020-07-15 09:27:31 INFO     {'Base': DecisionTreeRegressor(criterion='friedman_mse', max_depth=2), 'learning_rate': 0.2104970790448718, 'minibatch_frac': 1.0, 'n_estimators': 20, 'verbose_eval': 1, 'random_state': 1}\n"
     ]
    },
    {
     "name": "stdout",
     "output_type": "stream",
     "text": [
      "\r",
      " 82%|████████▏ | 82/100 [00:12<00:02,  6.60trial/s, best loss: 2.462318415899865]"
     ]
    },
    {
     "name": "stderr",
     "output_type": "stream",
     "text": [
      "2020-07-15 09:27:31 INFO     build_posterior_wrapper took 0.001066 seconds\n",
      "2020-07-15 09:27:31 INFO     TPE using 82/82 trials with best loss 2.462318\n"
     ]
    },
    {
     "name": "stdout",
     "output_type": "stream",
     "text": [
      "{'Base': DecisionTreeRegressor(criterion='friedman_mse', max_depth=4), 'learning_rate': 0.16011923665266897, 'minibatch_frac': 1.0, 'n_estimators': 20, 'verbose_eval': 1, 'random_state': 1}\n",
      "[iter 0] loss=3.5985 val_loss=3.4881 scale=0.5000 norm=3.2975                    \n",
      "[iter 1] loss=3.4504 val_loss=3.4163 scale=0.5000 norm=3.0680                    \n",
      "[iter 2] loss=3.3760 val_loss=3.3629 scale=0.5000 norm=2.8648                    \n",
      "[iter 3] loss=3.3187 val_loss=3.2748 scale=1.0000 norm=5.3489                    \n",
      "[iter 4] loss=3.2217 val_loss=3.1955 scale=1.0000 norm=4.6763                    \n",
      "[iter 5] loss=3.1378 val_loss=3.1247 scale=1.0000 norm=4.1196                    \n",
      "[iter 6] loss=3.0624 val_loss=3.0584 scale=1.0000 norm=3.6821                    \n",
      "[iter 7] loss=2.9879 val_loss=2.9385 scale=2.0000 norm=6.5631                    \n",
      "[iter 8] loss=2.8485 val_loss=2.8175 scale=2.0000 norm=5.3539                    \n",
      "[iter 9] loss=2.7141 val_loss=2.7229 scale=2.0000 norm=4.4913                    \n",
      "[iter 10] loss=2.5829 val_loss=2.6401 scale=2.0000 norm=3.8983                   \n",
      "[iter 11] loss=2.4565 val_loss=2.5669 scale=2.0000 norm=3.4493                   \n",
      "[iter 12] loss=2.3383 val_loss=2.5127 scale=2.0000 norm=3.1623                   \n",
      "[iter 13] loss=2.2190 val_loss=2.4834 scale=2.0000 norm=2.8764                   \n",
      "[iter 14] loss=2.1074 val_loss=2.4725 scale=2.0000 norm=2.6740                   \n",
      "[iter 15] loss=2.0052 val_loss=2.5124 scale=2.0000 norm=2.5466                   \n",
      "== Early stopping achieved.                                                      \n",
      "== Best iteration / VAL 14 (val_loss=2.4725)                                     \n",
      " 82%|████████▏ | 82/100 [00:12<00:02,  6.60trial/s, best loss: 2.462318415899865]"
     ]
    },
    {
     "name": "stderr",
     "output_type": "stream",
     "text": [
      "2020-07-15 09:27:31 INFO     {'Base': DecisionTreeRegressor(criterion='friedman_mse', max_depth=4), 'learning_rate': 0.16011923665266897, 'minibatch_frac': 1.0, 'n_estimators': 20, 'verbose_eval': 1, 'random_state': 1}\n"
     ]
    },
    {
     "name": "stdout",
     "output_type": "stream",
     "text": [
      "\r",
      " 83%|████████▎ | 83/100 [00:12<00:03,  5.65trial/s, best loss: 2.462318415899865]"
     ]
    },
    {
     "name": "stderr",
     "output_type": "stream",
     "text": [
      "2020-07-15 09:27:31 INFO     build_posterior_wrapper took 0.001339 seconds\n",
      "2020-07-15 09:27:31 INFO     TPE using 83/83 trials with best loss 2.462318\n"
     ]
    },
    {
     "name": "stdout",
     "output_type": "stream",
     "text": [
      "{'Base': DecisionTreeRegressor(criterion='friedman_mse', max_depth=4), 'learning_rate': 0.09983581712078027, 'minibatch_frac': 0.5, 'n_estimators': 20, 'verbose_eval': 1, 'random_state': 1}\n",
      "[iter 0] loss=3.5549 val_loss=3.5807 scale=0.5000 norm=3.2303                    \n",
      "[iter 1] loss=3.4567 val_loss=3.5206 scale=0.5000 norm=2.9189                    \n",
      "[iter 2] loss=3.4561 val_loss=3.4722 scale=0.5000 norm=2.9907                    \n",
      "[iter 3] loss=3.3872 val_loss=3.4328 scale=0.5000 norm=2.8666                    \n",
      "[iter 4] loss=3.3454 val_loss=3.3796 scale=1.0000 norm=5.4343                    \n",
      "[iter 5] loss=3.3109 val_loss=3.3146 scale=1.0000 norm=5.1369                    \n",
      "[iter 6] loss=3.2393 val_loss=3.2714 scale=1.0000 norm=4.8135                    \n",
      "[iter 7] loss=3.1926 val_loss=3.2290 scale=1.0000 norm=4.5109                    \n",
      "[iter 8] loss=3.1468 val_loss=3.1942 scale=1.0000 norm=4.3484                    \n",
      "[iter 9] loss=3.0742 val_loss=3.1650 scale=1.0000 norm=3.7328                    \n",
      "[iter 10] loss=3.0638 val_loss=3.1341 scale=1.0000 norm=3.9125                   \n",
      "[iter 11] loss=3.0045 val_loss=3.0785 scale=1.0000 norm=3.4869                   \n",
      "[iter 12] loss=2.9433 val_loss=3.0034 scale=2.0000 norm=6.2061                   \n",
      "[iter 13] loss=2.8716 val_loss=2.9558 scale=2.0000 norm=5.5262                   \n",
      "[iter 14] loss=2.7928 val_loss=2.8853 scale=2.0000 norm=5.4568                   \n",
      "[iter 15] loss=2.7011 val_loss=2.8476 scale=2.0000 norm=4.7716                   \n",
      "[iter 16] loss=2.6518 val_loss=2.8128 scale=2.0000 norm=4.7544                   \n",
      "[iter 17] loss=2.5602 val_loss=2.7900 scale=2.0000 norm=4.3102                   \n",
      "[iter 18] loss=2.4998 val_loss=2.7735 scale=2.0000 norm=3.9776                   \n",
      "[iter 19] loss=2.4217 val_loss=2.7399 scale=2.0000 norm=3.8142                   \n",
      " 83%|████████▎ | 83/100 [00:12<00:03,  5.65trial/s, best loss: 2.462318415899865]"
     ]
    },
    {
     "name": "stderr",
     "output_type": "stream",
     "text": [
      "2020-07-15 09:27:31 INFO     {'Base': DecisionTreeRegressor(criterion='friedman_mse', max_depth=4), 'learning_rate': 0.09983581712078027, 'minibatch_frac': 0.5, 'n_estimators': 20, 'verbose_eval': 1, 'random_state': 1}\n"
     ]
    },
    {
     "name": "stdout",
     "output_type": "stream",
     "text": [
      "\r",
      " 84%|████████▍ | 84/100 [00:12<00:03,  4.95trial/s, best loss: 2.462318415899865]"
     ]
    },
    {
     "name": "stderr",
     "output_type": "stream",
     "text": [
      "2020-07-15 09:27:31 INFO     build_posterior_wrapper took 0.001776 seconds\n",
      "2020-07-15 09:27:31 INFO     TPE using 84/84 trials with best loss 2.462318\n"
     ]
    },
    {
     "name": "stdout",
     "output_type": "stream",
     "text": [
      "{'Base': DecisionTreeRegressor(criterion='friedman_mse', max_depth=4), 'learning_rate': 0.2689733904460446, 'minibatch_frac': 1.0, 'n_estimators': 20, 'verbose_eval': 1, 'random_state': 1}\n",
      "[iter 0] loss=3.5985 val_loss=3.4215 scale=0.5000 norm=3.2975                    \n",
      "[iter 1] loss=3.3867 val_loss=3.3373 scale=0.5000 norm=2.9164                    \n",
      "[iter 2] loss=3.2928 val_loss=3.1996 scale=1.0000 norm=5.1809                    \n",
      "[iter 3] loss=3.1479 val_loss=3.0886 scale=1.0000 norm=4.1298                    \n",
      "[iter 4] loss=3.0192 val_loss=2.9842 scale=1.0000 norm=3.3586                    \n",
      "[iter 5] loss=2.9003 val_loss=2.8087 scale=2.0000 norm=5.6454                    \n",
      "[iter 6] loss=2.6710 val_loss=2.6790 scale=2.0000 norm=4.0460                    \n",
      "[iter 7] loss=2.4597 val_loss=2.6102 scale=2.0000 norm=3.3536                    \n",
      "[iter 8] loss=2.2565 val_loss=2.6313 scale=2.0000 norm=2.8772                    \n",
      "== Early stopping achieved.                                                      \n",
      "== Best iteration / VAL 7 (val_loss=2.6102)                                      \n",
      " 84%|████████▍ | 84/100 [00:12<00:03,  4.95trial/s, best loss: 2.462318415899865]"
     ]
    },
    {
     "name": "stderr",
     "output_type": "stream",
     "text": [
      "2020-07-15 09:27:31 INFO     {'Base': DecisionTreeRegressor(criterion='friedman_mse', max_depth=4), 'learning_rate': 0.2689733904460446, 'minibatch_frac': 1.0, 'n_estimators': 20, 'verbose_eval': 1, 'random_state': 1}\n"
     ]
    },
    {
     "name": "stdout",
     "output_type": "stream",
     "text": [
      "\r",
      " 85%|████████▌ | 85/100 [00:12<00:02,  5.43trial/s, best loss: 2.462318415899865]"
     ]
    },
    {
     "name": "stderr",
     "output_type": "stream",
     "text": [
      "2020-07-15 09:27:31 INFO     build_posterior_wrapper took 0.001229 seconds\n",
      "2020-07-15 09:27:31 INFO     TPE using 85/85 trials with best loss 2.462318\n"
     ]
    },
    {
     "name": "stdout",
     "output_type": "stream",
     "text": [
      "{'Base': DecisionTreeRegressor(criterion='friedman_mse', max_depth=3), 'learning_rate': 0.3364217184850232, 'minibatch_frac': 1.0, 'n_estimators': 20, 'verbose_eval': 1, 'random_state': 1}\n",
      "[iter 0] loss=3.5985 val_loss=3.4127 scale=0.5000 norm=3.2975                    \n",
      "[iter 1] loss=3.3769 val_loss=3.2433 scale=1.0000 norm=5.7485                    \n",
      "[iter 2] loss=3.1948 val_loss=3.1032 scale=1.0000 norm=4.4191                    \n",
      "[iter 3] loss=3.0418 val_loss=2.9771 scale=1.0000 norm=3.4601                    \n",
      "[iter 4] loss=2.9003 val_loss=2.8135 scale=2.0000 norm=5.7425                    \n",
      "[iter 5] loss=2.6497 val_loss=2.7036 scale=2.0000 norm=4.3954                    \n",
      "[iter 6] loss=2.4391 val_loss=2.6822 scale=2.0000 norm=3.9017                    \n",
      "[iter 7] loss=2.2579 val_loss=2.7801 scale=2.0000 norm=3.5160                    \n",
      "== Early stopping achieved.                                                      \n",
      "== Best iteration / VAL 6 (val_loss=2.6822)                                      \n",
      " 85%|████████▌ | 85/100 [00:12<00:02,  5.43trial/s, best loss: 2.462318415899865]"
     ]
    },
    {
     "name": "stderr",
     "output_type": "stream",
     "text": [
      "2020-07-15 09:27:31 INFO     {'Base': DecisionTreeRegressor(criterion='friedman_mse', max_depth=3), 'learning_rate': 0.3364217184850232, 'minibatch_frac': 1.0, 'n_estimators': 20, 'verbose_eval': 1, 'random_state': 1}\n"
     ]
    },
    {
     "name": "stdout",
     "output_type": "stream",
     "text": [
      "\r",
      " 86%|████████▌ | 86/100 [00:12<00:02,  5.99trial/s, best loss: 2.462318415899865]"
     ]
    },
    {
     "name": "stderr",
     "output_type": "stream",
     "text": [
      "2020-07-15 09:27:31 INFO     build_posterior_wrapper took 0.001076 seconds\n",
      "2020-07-15 09:27:31 INFO     TPE using 86/86 trials with best loss 2.462318\n"
     ]
    },
    {
     "name": "stdout",
     "output_type": "stream",
     "text": [
      "{'Base': DecisionTreeRegressor(criterion='friedman_mse', max_depth=2), 'learning_rate': 0.29267465763948963, 'minibatch_frac': 1.0, 'n_estimators': 20, 'verbose_eval': 1, 'random_state': 1}\n",
      "[iter 0] loss=3.5985 val_loss=3.4557 scale=0.5000 norm=3.2975                    \n",
      "[iter 1] loss=3.4233 val_loss=3.3184 scale=1.0000 norm=5.8926                    \n",
      "[iter 2] loss=3.2632 val_loss=3.2096 scale=1.0000 norm=4.9065                    \n",
      "[iter 3] loss=3.1470 val_loss=3.1121 scale=1.0000 norm=4.2025                    \n",
      "[iter 4] loss=3.0325 val_loss=2.9701 scale=2.0000 norm=7.2260                    \n",
      "[iter 5] loss=2.8271 val_loss=2.8714 scale=2.0000 norm=5.7874                    \n",
      "[iter 6] loss=2.6483 val_loss=2.8288 scale=2.0000 norm=5.0700                    \n",
      "[iter 7] loss=2.5157 val_loss=2.8495 scale=2.0000 norm=4.7739                    \n",
      "== Early stopping achieved.                                                      \n",
      "== Best iteration / VAL 6 (val_loss=2.8288)                                      \n",
      " 86%|████████▌ | 86/100 [00:13<00:02,  5.99trial/s, best loss: 2.462318415899865]"
     ]
    },
    {
     "name": "stderr",
     "output_type": "stream",
     "text": [
      "2020-07-15 09:27:32 INFO     {'Base': DecisionTreeRegressor(criterion='friedman_mse', max_depth=2), 'learning_rate': 0.29267465763948963, 'minibatch_frac': 1.0, 'n_estimators': 20, 'verbose_eval': 1, 'random_state': 1}\n"
     ]
    },
    {
     "name": "stdout",
     "output_type": "stream",
     "text": [
      "\r",
      " 87%|████████▋ | 87/100 [00:13<00:02,  6.36trial/s, best loss: 2.462318415899865]"
     ]
    },
    {
     "name": "stderr",
     "output_type": "stream",
     "text": [
      "2020-07-15 09:27:32 INFO     build_posterior_wrapper took 0.001066 seconds\n",
      "2020-07-15 09:27:32 INFO     TPE using 87/87 trials with best loss 2.462318\n"
     ]
    },
    {
     "name": "stdout",
     "output_type": "stream",
     "text": [
      "{'Base': DecisionTreeRegressor(criterion='friedman_mse', max_depth=4), 'learning_rate': 0.6683017467887498, 'minibatch_frac': 1.0, 'n_estimators': 20, 'verbose_eval': 1, 'random_state': 1}\n",
      "[iter 0] loss=3.5985 val_loss=3.3229 scale=0.5000 norm=3.2975                    \n",
      "[iter 1] loss=3.2635 val_loss=3.0343 scale=1.0000 norm=4.7604                    \n",
      "[iter 2] loss=2.9635 val_loss=2.6811 scale=2.0000 norm=5.2211                    \n",
      "[iter 3] loss=2.4938 val_loss=2.9925 scale=2.0000 norm=3.7696                    \n",
      "== Early stopping achieved.                                                      \n",
      "== Best iteration / VAL 2 (val_loss=2.6811)                                      \n",
      " 87%|████████▋ | 87/100 [00:13<00:02,  6.36trial/s, best loss: 2.462318415899865]"
     ]
    },
    {
     "name": "stderr",
     "output_type": "stream",
     "text": [
      "2020-07-15 09:27:32 INFO     {'Base': DecisionTreeRegressor(criterion='friedman_mse', max_depth=4), 'learning_rate': 0.6683017467887498, 'minibatch_frac': 1.0, 'n_estimators': 20, 'verbose_eval': 1, 'random_state': 1}\n",
      "2020-07-15 09:27:32 INFO     build_posterior_wrapper took 0.001051 seconds\n",
      "2020-07-15 09:27:32 INFO     TPE using 88/88 trials with best loss 2.462318\n"
     ]
    },
    {
     "name": "stdout",
     "output_type": "stream",
     "text": [
      "{'Base': DecisionTreeRegressor(criterion='friedman_mse', max_depth=4), 'learning_rate': 0.5438485235008744, 'minibatch_frac': 0.5, 'n_estimators': 20, 'verbose_eval': 1, 'random_state': 1}\n",
      "[iter 0] loss=3.5549 val_loss=3.3880 scale=0.5000 norm=3.2303                    \n",
      "[iter 1] loss=3.2699 val_loss=3.1642 scale=1.0000 norm=4.8144                    \n",
      "[iter 2] loss=3.0837 val_loss=3.0532 scale=1.0000 norm=3.4703                    \n",
      "[iter 3] loss=2.8419 val_loss=2.8828 scale=2.0000 norm=4.9155                    \n",
      "[iter 4] loss=2.5224 val_loss=3.2333 scale=2.0000 norm=4.2840                    \n",
      "== Early stopping achieved.                                                      \n",
      "== Best iteration / VAL 3 (val_loss=2.8828)                                      \n",
      " 88%|████████▊ | 88/100 [00:13<00:01,  6.36trial/s, best loss: 2.462318415899865]"
     ]
    },
    {
     "name": "stderr",
     "output_type": "stream",
     "text": [
      "2020-07-15 09:27:32 INFO     {'Base': DecisionTreeRegressor(criterion='friedman_mse', max_depth=4), 'learning_rate': 0.5438485235008744, 'minibatch_frac': 0.5, 'n_estimators': 20, 'verbose_eval': 1, 'random_state': 1}\n"
     ]
    },
    {
     "name": "stdout",
     "output_type": "stream",
     "text": [
      "\r",
      " 89%|████████▉ | 89/100 [00:13<00:01,  7.45trial/s, best loss: 2.462318415899865]"
     ]
    },
    {
     "name": "stderr",
     "output_type": "stream",
     "text": [
      "2020-07-15 09:27:32 INFO     build_posterior_wrapper took 0.001233 seconds\n",
      "2020-07-15 09:27:32 INFO     TPE using 89/89 trials with best loss 2.462318\n"
     ]
    },
    {
     "name": "stdout",
     "output_type": "stream",
     "text": [
      "{'Base': DecisionTreeRegressor(criterion='friedman_mse', max_depth=4), 'learning_rate': 0.24383285636133142, 'minibatch_frac': 1.0, 'n_estimators': 20, 'verbose_eval': 1, 'random_state': 1}\n",
      "[iter 0] loss=3.5985 val_loss=3.4343 scale=0.5000 norm=3.2975                    \n",
      "[iter 1] loss=3.3996 val_loss=3.3511 scale=0.5000 norm=2.9512                    \n",
      "[iter 2] loss=3.3116 val_loss=3.2235 scale=1.0000 norm=5.3209                    \n",
      "[iter 3] loss=3.1744 val_loss=3.1184 scale=1.0000 norm=4.3225                    \n",
      "[iter 4] loss=3.0547 val_loss=3.0245 scale=1.0000 norm=3.5547                    \n",
      "[iter 5] loss=2.9429 val_loss=2.8497 scale=2.0000 norm=5.9933                    \n",
      "[iter 6] loss=2.7407 val_loss=2.7035 scale=2.0000 norm=4.5350                    \n",
      "[iter 7] loss=2.5420 val_loss=2.6080 scale=2.0000 norm=3.6327                    \n",
      "[iter 8] loss=2.3549 val_loss=2.5812 scale=2.0000 norm=3.1199                    \n",
      "[iter 9] loss=2.1790 val_loss=2.6027 scale=2.0000 norm=2.7806                    \n",
      "== Early stopping achieved.                                                      \n",
      "== Best iteration / VAL 8 (val_loss=2.5812)                                      \n",
      " 89%|████████▉ | 89/100 [00:13<00:01,  7.45trial/s, best loss: 2.462318415899865]"
     ]
    },
    {
     "name": "stderr",
     "output_type": "stream",
     "text": [
      "2020-07-15 09:27:32 INFO     {'Base': DecisionTreeRegressor(criterion='friedman_mse', max_depth=4), 'learning_rate': 0.24383285636133142, 'minibatch_frac': 1.0, 'n_estimators': 20, 'verbose_eval': 1, 'random_state': 1}\n"
     ]
    },
    {
     "name": "stdout",
     "output_type": "stream",
     "text": [
      "\r",
      " 90%|█████████ | 90/100 [00:13<00:01,  7.09trial/s, best loss: 2.462318415899865]"
     ]
    },
    {
     "name": "stderr",
     "output_type": "stream",
     "text": [
      "2020-07-15 09:27:32 INFO     build_posterior_wrapper took 0.001288 seconds\n",
      "2020-07-15 09:27:32 INFO     TPE using 90/90 trials with best loss 2.462318\n"
     ]
    },
    {
     "name": "stdout",
     "output_type": "stream",
     "text": [
      "{'Base': DecisionTreeRegressor(criterion='friedman_mse', max_depth=3), 'learning_rate': 0.1839596678022558, 'minibatch_frac': 1.0, 'n_estimators': 20, 'verbose_eval': 1, 'random_state': 1}\n",
      "[iter 0] loss=3.5985 val_loss=3.4853 scale=0.5000 norm=3.2975                    \n",
      "[iter 1] loss=3.4480 val_loss=3.4147 scale=0.5000 norm=3.0620                    \n",
      "[iter 2] loss=3.3754 val_loss=3.3060 scale=1.0000 norm=5.7154                    \n",
      "[iter 3] loss=3.2621 val_loss=3.2159 scale=1.0000 norm=4.9636                    \n",
      "[iter 4] loss=3.1731 val_loss=3.1345 scale=1.0000 norm=4.3651                    \n",
      "[iter 5] loss=3.0881 val_loss=3.0644 scale=1.0000 norm=3.8304                    \n",
      "[iter 6] loss=3.0067 val_loss=3.0009 scale=1.0000 norm=3.4266                    \n",
      "[iter 7] loss=2.9326 val_loss=2.8619 scale=2.0000 norm=6.2232                    \n",
      "[iter 8] loss=2.7869 val_loss=2.7416 scale=2.0000 norm=5.1945                    \n",
      "[iter 9] loss=2.6485 val_loss=2.6648 scale=2.0000 norm=4.5313                    \n",
      "[iter 10] loss=2.5275 val_loss=2.5964 scale=2.0000 norm=4.1562                   \n",
      "[iter 11] loss=2.4161 val_loss=2.5432 scale=2.0000 norm=3.8641                   \n",
      "[iter 12] loss=2.3071 val_loss=2.5126 scale=2.0000 norm=3.5918                   \n",
      "[iter 13] loss=2.2153 val_loss=2.5496 scale=2.0000 norm=3.4361                   \n",
      "== Early stopping achieved.                                                      \n",
      "== Best iteration / VAL 12 (val_loss=2.5126)                                     \n",
      " 90%|█████████ | 90/100 [00:13<00:01,  7.09trial/s, best loss: 2.462318415899865]"
     ]
    },
    {
     "name": "stderr",
     "output_type": "stream",
     "text": [
      "2020-07-15 09:27:32 INFO     {'Base': DecisionTreeRegressor(criterion='friedman_mse', max_depth=3), 'learning_rate': 0.1839596678022558, 'minibatch_frac': 1.0, 'n_estimators': 20, 'verbose_eval': 1, 'random_state': 1}\n"
     ]
    },
    {
     "name": "stdout",
     "output_type": "stream",
     "text": [
      "\r",
      " 91%|█████████ | 91/100 [00:13<00:01,  6.34trial/s, best loss: 2.462318415899865]"
     ]
    },
    {
     "name": "stderr",
     "output_type": "stream",
     "text": [
      "2020-07-15 09:27:32 INFO     build_posterior_wrapper took 0.001196 seconds\n",
      "2020-07-15 09:27:32 INFO     TPE using 91/91 trials with best loss 2.462318\n"
     ]
    },
    {
     "name": "stdout",
     "output_type": "stream",
     "text": [
      "{'Base': DecisionTreeRegressor(criterion='friedman_mse', max_depth=4), 'learning_rate': 0.3958828085346884, 'minibatch_frac': 1.0, 'n_estimators': 20, 'verbose_eval': 1, 'random_state': 1}\n",
      "[iter 0] loss=3.5985 val_loss=3.3750 scale=0.5000 norm=3.2975                    \n",
      "[iter 1] loss=3.3340 val_loss=3.2724 scale=0.5000 norm=2.7430                    \n",
      "[iter 2] loss=3.2196 val_loss=3.0933 scale=1.0000 norm=4.6163                    \n",
      "[iter 3] loss=3.0294 val_loss=2.9382 scale=1.0000 norm=3.3201                    \n",
      "[iter 4] loss=2.8511 val_loss=2.6957 scale=2.0000 norm=5.0462                    \n",
      "[iter 5] loss=2.5350 val_loss=2.5378 scale=2.0000 norm=3.5012                    \n",
      "[iter 6] loss=2.2436 val_loss=2.5226 scale=2.0000 norm=2.8781                    \n",
      "[iter 7] loss=2.0059 val_loss=2.7458 scale=2.0000 norm=2.6382                    \n",
      "== Early stopping achieved.                                                      \n",
      "== Best iteration / VAL 6 (val_loss=2.5226)                                      \n",
      " 91%|█████████ | 91/100 [00:13<00:01,  6.34trial/s, best loss: 2.462318415899865]"
     ]
    },
    {
     "name": "stderr",
     "output_type": "stream",
     "text": [
      "2020-07-15 09:27:32 INFO     {'Base': DecisionTreeRegressor(criterion='friedman_mse', max_depth=4), 'learning_rate': 0.3958828085346884, 'minibatch_frac': 1.0, 'n_estimators': 20, 'verbose_eval': 1, 'random_state': 1}\n"
     ]
    },
    {
     "name": "stdout",
     "output_type": "stream",
     "text": [
      "\r",
      " 92%|█████████▏| 92/100 [00:13<00:01,  6.74trial/s, best loss: 2.462318415899865]"
     ]
    },
    {
     "name": "stderr",
     "output_type": "stream",
     "text": [
      "2020-07-15 09:27:32 INFO     build_posterior_wrapper took 0.001058 seconds\n",
      "2020-07-15 09:27:32 INFO     TPE using 92/92 trials with best loss 2.462318\n"
     ]
    },
    {
     "name": "stdout",
     "output_type": "stream",
     "text": [
      "{'Base': DecisionTreeRegressor(criterion='friedman_mse', max_depth=4), 'learning_rate': 0.1202342563299245, 'minibatch_frac': 0.5, 'n_estimators': 20, 'verbose_eval': 1, 'random_state': 1}\n",
      "[iter 0] loss=3.5549 val_loss=3.5672 scale=0.5000 norm=3.2303                    \n",
      "[iter 1] loss=3.4427 val_loss=3.5002 scale=0.5000 norm=2.8928                    \n",
      "[iter 2] loss=3.4375 val_loss=3.4482 scale=0.5000 norm=2.9431                    \n",
      "[iter 3] loss=3.3629 val_loss=3.4014 scale=0.5000 norm=2.7970                    \n",
      "[iter 4] loss=3.3148 val_loss=3.3407 scale=1.0000 norm=5.2657                    \n",
      "[iter 5] loss=3.2756 val_loss=3.2681 scale=1.0000 norm=4.9187                    \n",
      "[iter 6] loss=3.1908 val_loss=3.2151 scale=1.0000 norm=4.5174                    \n",
      "[iter 7] loss=3.1384 val_loss=3.1689 scale=1.0000 norm=4.1969                    \n",
      "[iter 8] loss=3.0867 val_loss=3.1219 scale=1.0000 norm=3.9914                    \n",
      "[iter 9] loss=3.0073 val_loss=3.0849 scale=1.0000 norm=3.4232                    \n",
      "[iter 10] loss=2.9857 val_loss=3.0474 scale=1.0000 norm=3.5100                   \n",
      "[iter 11] loss=2.9195 val_loss=2.9918 scale=1.0000 norm=3.0963                   \n",
      "[iter 12] loss=2.8566 val_loss=2.9168 scale=2.0000 norm=5.5309                   \n",
      "[iter 13] loss=2.7674 val_loss=2.8709 scale=2.0000 norm=4.9638                   \n",
      "[iter 14] loss=2.6773 val_loss=2.8165 scale=2.0000 norm=4.7994                   \n",
      "[iter 15] loss=2.5817 val_loss=2.7979 scale=2.0000 norm=4.3674                   \n",
      "[iter 16] loss=2.5249 val_loss=2.7636 scale=2.0000 norm=4.2135                   \n",
      "[iter 17] loss=2.4115 val_loss=2.7754 scale=2.0000 norm=3.7080                   \n",
      "== Early stopping achieved.                                                      \n",
      "== Best iteration / VAL 16 (val_loss=2.7636)                                     \n",
      " 92%|█████████▏| 92/100 [00:13<00:01,  6.74trial/s, best loss: 2.462318415899865]"
     ]
    },
    {
     "name": "stderr",
     "output_type": "stream",
     "text": [
      "2020-07-15 09:27:32 INFO     {'Base': DecisionTreeRegressor(criterion='friedman_mse', max_depth=4), 'learning_rate': 0.1202342563299245, 'minibatch_frac': 0.5, 'n_estimators': 20, 'verbose_eval': 1, 'random_state': 1}\n"
     ]
    },
    {
     "name": "stdout",
     "output_type": "stream",
     "text": [
      "\r",
      " 93%|█████████▎| 93/100 [00:13<00:01,  5.66trial/s, best loss: 2.462318415899865]"
     ]
    },
    {
     "name": "stderr",
     "output_type": "stream",
     "text": [
      "2020-07-15 09:27:32 INFO     build_posterior_wrapper took 0.001211 seconds\n",
      "2020-07-15 09:27:32 INFO     TPE using 93/93 trials with best loss 2.462318\n"
     ]
    },
    {
     "name": "stdout",
     "output_type": "stream",
     "text": [
      "{'Base': DecisionTreeRegressor(criterion='friedman_mse', max_depth=2), 'learning_rate': 0.9897147065577002, 'minibatch_frac': 1.0, 'n_estimators': 20, 'verbose_eval': 1, 'random_state': 1}\n",
      "[iter 0] loss=3.5985 val_loss=3.3154 scale=0.5000 norm=3.2975                    \n",
      "[iter 1] loss=3.2716 val_loss=3.0623 scale=1.0000 norm=4.4511                    \n",
      "[iter 2] loss=2.9565 val_loss=3.1993 scale=2.0000 norm=6.2737                    \n",
      "== Early stopping achieved.                                                      \n",
      "== Best iteration / VAL 1 (val_loss=3.0623)                                      \n",
      " 93%|█████████▎| 93/100 [00:13<00:01,  5.66trial/s, best loss: 2.462318415899865]"
     ]
    },
    {
     "name": "stderr",
     "output_type": "stream",
     "text": [
      "2020-07-15 09:27:33 INFO     {'Base': DecisionTreeRegressor(criterion='friedman_mse', max_depth=2), 'learning_rate': 0.9897147065577002, 'minibatch_frac': 1.0, 'n_estimators': 20, 'verbose_eval': 1, 'random_state': 1}\n",
      "2020-07-15 09:27:33 INFO     build_posterior_wrapper took 0.001289 seconds\n",
      "2020-07-15 09:27:33 INFO     TPE using 94/94 trials with best loss 2.462318\n"
     ]
    },
    {
     "name": "stdout",
     "output_type": "stream",
     "text": [
      "{'Base': DecisionTreeRegressor(criterion='friedman_mse', max_depth=4), 'learning_rate': 0.32224472840707585, 'minibatch_frac': 1.0, 'n_estimators': 20, 'verbose_eval': 1, 'random_state': 1}\n",
      "[iter 0] loss=3.5985 val_loss=3.3988 scale=0.5000 norm=3.2975                    \n",
      "[iter 1] loss=3.3623 val_loss=3.3082 scale=0.5000 norm=2.8432                    \n",
      "[iter 2] loss=3.2597 val_loss=3.1518 scale=1.0000 norm=4.9355                    \n",
      "[iter 3] loss=3.0948 val_loss=3.0220 scale=1.0000 norm=3.7589                    \n",
      "[iter 4] loss=2.9460 val_loss=2.7936 scale=2.0000 norm=5.9167                    \n",
      "[iter 5] loss=2.6761 val_loss=2.6226 scale=2.0000 norm=4.0751                    \n",
      "[iter 6] loss=2.4270 val_loss=2.5226 scale=2.0000 norm=3.3008                    \n",
      "[iter 7] loss=2.2008 val_loss=2.5096 scale=2.0000 norm=2.8850                    \n",
      "[iter 8] loss=1.9841 val_loss=2.6088 scale=2.0000 norm=2.4787                    \n",
      "== Early stopping achieved.                                                      \n",
      "== Best iteration / VAL 7 (val_loss=2.5096)                                      \n",
      " 94%|█████████▍| 94/100 [00:14<00:01,  5.66trial/s, best loss: 2.462318415899865]"
     ]
    },
    {
     "name": "stderr",
     "output_type": "stream",
     "text": [
      "2020-07-15 09:27:33 INFO     {'Base': DecisionTreeRegressor(criterion='friedman_mse', max_depth=4), 'learning_rate': 0.32224472840707585, 'minibatch_frac': 1.0, 'n_estimators': 20, 'verbose_eval': 1, 'random_state': 1}\n"
     ]
    },
    {
     "name": "stdout",
     "output_type": "stream",
     "text": [
      "\r",
      " 95%|█████████▌| 95/100 [00:14<00:00,  6.53trial/s, best loss: 2.462318415899865]"
     ]
    },
    {
     "name": "stderr",
     "output_type": "stream",
     "text": [
      "2020-07-15 09:27:33 INFO     build_posterior_wrapper took 0.001216 seconds\n",
      "2020-07-15 09:27:33 INFO     TPE using 95/95 trials with best loss 2.462318\n"
     ]
    },
    {
     "name": "stdout",
     "output_type": "stream",
     "text": [
      "{'Base': DecisionTreeRegressor(criterion='friedman_mse', max_depth=4), 'learning_rate': 0.35207527356756024, 'minibatch_frac': 1.0, 'n_estimators': 20, 'verbose_eval': 1, 'random_state': 1}\n",
      "[iter 0] loss=3.5985 val_loss=3.3897 scale=0.5000 norm=3.2975                    \n",
      "[iter 1] loss=3.3502 val_loss=3.2932 scale=0.5000 norm=2.8025                    \n",
      "[iter 2] loss=3.2431 val_loss=3.1272 scale=1.0000 norm=4.8056                    \n",
      "[iter 3] loss=3.0691 val_loss=2.9770 scale=1.0000 norm=3.5752                    \n",
      "[iter 4] loss=2.9083 val_loss=2.7306 scale=2.0000 norm=5.5513                    \n",
      "[iter 5] loss=2.6171 val_loss=2.5737 scale=2.0000 norm=3.7413                    \n",
      "[iter 6] loss=2.3654 val_loss=2.5118 scale=2.0000 norm=3.2079                    \n",
      "[iter 7] loss=2.1232 val_loss=2.5581 scale=2.0000 norm=2.7534                    \n",
      "== Early stopping achieved.                                                      \n",
      "== Best iteration / VAL 6 (val_loss=2.5118)                                      \n",
      " 95%|█████████▌| 95/100 [00:14<00:00,  6.53trial/s, best loss: 2.462318415899865]"
     ]
    },
    {
     "name": "stderr",
     "output_type": "stream",
     "text": [
      "2020-07-15 09:27:33 INFO     {'Base': DecisionTreeRegressor(criterion='friedman_mse', max_depth=4), 'learning_rate': 0.35207527356756024, 'minibatch_frac': 1.0, 'n_estimators': 20, 'verbose_eval': 1, 'random_state': 1}\n"
     ]
    },
    {
     "name": "stdout",
     "output_type": "stream",
     "text": [
      "\r",
      " 96%|█████████▌| 96/100 [00:14<00:00,  6.89trial/s, best loss: 2.462318415899865]"
     ]
    },
    {
     "name": "stderr",
     "output_type": "stream",
     "text": [
      "2020-07-15 09:27:33 INFO     build_posterior_wrapper took 0.001054 seconds\n",
      "2020-07-15 09:27:33 INFO     TPE using 96/96 trials with best loss 2.462318\n"
     ]
    },
    {
     "name": "stdout",
     "output_type": "stream",
     "text": [
      "{'Base': DecisionTreeRegressor(criterion='friedman_mse', max_depth=3), 'learning_rate': 0.434590636963038, 'minibatch_frac': 1.0, 'n_estimators': 20, 'verbose_eval': 1, 'random_state': 1}\n",
      "[iter 0] loss=3.5985 val_loss=3.3844 scale=0.5000 norm=3.2975                    \n",
      "[iter 1] loss=3.3450 val_loss=3.1872 scale=1.0000 norm=5.5118                    \n",
      "[iter 2] loss=3.1347 val_loss=3.0100 scale=1.0000 norm=3.9349                    \n",
      "[iter 3] loss=2.9446 val_loss=2.7743 scale=2.0000 norm=5.9627                    \n",
      "[iter 4] loss=2.6233 val_loss=2.6331 scale=2.0000 norm=4.2690                    \n",
      "[iter 5] loss=2.3669 val_loss=2.6892 scale=2.0000 norm=3.7076                    \n",
      "== Early stopping achieved.                                                      \n",
      "== Best iteration / VAL 4 (val_loss=2.6331)                                      \n",
      " 96%|█████████▌| 96/100 [00:14<00:00,  6.89trial/s, best loss: 2.462318415899865]"
     ]
    },
    {
     "name": "stderr",
     "output_type": "stream",
     "text": [
      "2020-07-15 09:27:33 INFO     {'Base': DecisionTreeRegressor(criterion='friedman_mse', max_depth=3), 'learning_rate': 0.434590636963038, 'minibatch_frac': 1.0, 'n_estimators': 20, 'verbose_eval': 1, 'random_state': 1}\n",
      "2020-07-15 09:27:33 INFO     build_posterior_wrapper took 0.001243 seconds\n",
      "2020-07-15 09:27:33 INFO     TPE using 97/97 trials with best loss 2.462318\n"
     ]
    },
    {
     "name": "stdout",
     "output_type": "stream",
     "text": [
      "{'Base': DecisionTreeRegressor(criterion='friedman_mse', max_depth=4), 'learning_rate': 0.9279216182277445, 'minibatch_frac': 0.5, 'n_estimators': 20, 'verbose_eval': 1, 'random_state': 1}\n",
      "[iter 0] loss=3.5549 val_loss=3.3253 scale=0.5000 norm=3.2303                    \n",
      "[iter 1] loss=3.2000 val_loss=3.0681 scale=1.0000 norm=3.9550                    \n",
      "[iter 2] loss=2.9247 val_loss=3.8855 scale=2.0000 norm=5.3329                    \n",
      "== Early stopping achieved.                                                      \n",
      "== Best iteration / VAL 1 (val_loss=3.0681)                                      \n",
      " 97%|█████████▋| 97/100 [00:14<00:00,  6.89trial/s, best loss: 2.462318415899865]"
     ]
    },
    {
     "name": "stderr",
     "output_type": "stream",
     "text": [
      "2020-07-15 09:27:33 INFO     {'Base': DecisionTreeRegressor(criterion='friedman_mse', max_depth=4), 'learning_rate': 0.9279216182277445, 'minibatch_frac': 0.5, 'n_estimators': 20, 'verbose_eval': 1, 'random_state': 1}\n"
     ]
    },
    {
     "name": "stdout",
     "output_type": "stream",
     "text": [
      "\r",
      " 98%|█████████▊| 98/100 [00:14<00:00,  8.01trial/s, best loss: 2.462318415899865]"
     ]
    },
    {
     "name": "stderr",
     "output_type": "stream",
     "text": [
      "2020-07-15 09:27:33 INFO     build_posterior_wrapper took 0.001314 seconds\n",
      "2020-07-15 09:27:33 INFO     TPE using 98/98 trials with best loss 2.462318\n"
     ]
    },
    {
     "name": "stdout",
     "output_type": "stream",
     "text": [
      "{'Base': DecisionTreeRegressor(criterion='friedman_mse', max_depth=2), 'learning_rate': 0.08969497039402757, 'minibatch_frac': 1.0, 'n_estimators': 20, 'verbose_eval': 1, 'random_state': 1}\n",
      "[iter 0] loss=3.5985 val_loss=3.5795 scale=0.5000 norm=3.2975                    \n",
      "[iter 1] loss=3.5296 val_loss=3.5258 scale=0.5000 norm=3.1863                    \n",
      "[iter 2] loss=3.4837 val_loss=3.4867 scale=0.5000 norm=3.0884                    \n",
      "[iter 3] loss=3.4466 val_loss=3.4549 scale=0.5000 norm=2.9929                    \n",
      "[iter 4] loss=3.4131 val_loss=3.3999 scale=1.0000 norm=5.8114                    \n",
      "[iter 5] loss=3.3565 val_loss=3.3569 scale=1.0000 norm=5.4877                    \n",
      "[iter 6] loss=3.3076 val_loss=3.3156 scale=1.0000 norm=5.1785                    \n",
      "[iter 7] loss=3.2638 val_loss=3.2772 scale=1.0000 norm=4.9174                    \n",
      "[iter 8] loss=3.2204 val_loss=3.2432 scale=1.0000 norm=4.6478                    \n",
      "[iter 9] loss=3.1822 val_loss=3.2093 scale=1.0000 norm=4.4422                    \n",
      "[iter 10] loss=3.1466 val_loss=3.1762 scale=1.0000 norm=4.2612                   \n",
      "[iter 11] loss=3.1097 val_loss=3.1499 scale=1.0000 norm=4.0757                   \n",
      "[iter 12] loss=3.0755 val_loss=3.1193 scale=1.0000 norm=3.9071                   \n",
      "[iter 13] loss=3.0406 val_loss=3.0702 scale=2.0000 norm=7.4860                   \n",
      "[iter 14] loss=2.9760 val_loss=3.0155 scale=2.0000 norm=7.0075                   \n",
      "[iter 15] loss=2.9123 val_loss=2.9705 scale=2.0000 norm=6.5406                   \n",
      "[iter 16] loss=2.8546 val_loss=2.9189 scale=2.0000 norm=6.1872                   \n",
      "[iter 17] loss=2.7953 val_loss=2.8729 scale=2.0000 norm=5.8922                   \n",
      "[iter 18] loss=2.7387 val_loss=2.8292 scale=2.0000 norm=5.6123                   \n",
      "[iter 19] loss=2.6838 val_loss=2.8047 scale=2.0000 norm=5.3593                   \n",
      " 98%|█████████▊| 98/100 [00:14<00:00,  8.01trial/s, best loss: 2.462318415899865]"
     ]
    },
    {
     "name": "stderr",
     "output_type": "stream",
     "text": [
      "2020-07-15 09:27:33 INFO     {'Base': DecisionTreeRegressor(criterion='friedman_mse', max_depth=2), 'learning_rate': 0.08969497039402757, 'minibatch_frac': 1.0, 'n_estimators': 20, 'verbose_eval': 1, 'random_state': 1}\n"
     ]
    },
    {
     "name": "stdout",
     "output_type": "stream",
     "text": [
      "\r",
      " 99%|█████████▉| 99/100 [00:14<00:00,  6.32trial/s, best loss: 2.462318415899865]"
     ]
    },
    {
     "name": "stderr",
     "output_type": "stream",
     "text": [
      "2020-07-15 09:27:33 INFO     build_posterior_wrapper took 0.001181 seconds\n",
      "2020-07-15 09:27:33 INFO     TPE using 99/99 trials with best loss 2.462318\n"
     ]
    },
    {
     "name": "stdout",
     "output_type": "stream",
     "text": [
      "{'Base': DecisionTreeRegressor(criterion='friedman_mse', max_depth=4), 'learning_rate': 0.8276536320728056, 'minibatch_frac': 1.0, 'n_estimators': 20, 'verbose_eval': 1, 'random_state': 1}\n",
      "[iter 0] loss=3.5985 val_loss=3.3037 scale=0.5000 norm=3.2975                    \n",
      "[iter 1] loss=3.2369 val_loss=2.9893 scale=1.0000 norm=4.3482                    \n",
      "[iter 2] loss=2.8869 val_loss=2.6941 scale=2.0000 norm=4.4862                    \n",
      "[iter 3] loss=2.3882 val_loss=3.4941 scale=2.0000 norm=3.9956                    \n",
      "== Early stopping achieved.                                                      \n",
      "== Best iteration / VAL 2 (val_loss=2.6941)                                      \n",
      " 99%|█████████▉| 99/100 [00:14<00:00,  6.32trial/s, best loss: 2.462318415899865]"
     ]
    },
    {
     "name": "stderr",
     "output_type": "stream",
     "text": [
      "2020-07-15 09:27:33 INFO     {'Base': DecisionTreeRegressor(criterion='friedman_mse', max_depth=4), 'learning_rate': 0.8276536320728056, 'minibatch_frac': 1.0, 'n_estimators': 20, 'verbose_eval': 1, 'random_state': 1}\n"
     ]
    },
    {
     "name": "stdout",
     "output_type": "stream",
     "text": [
      "\r",
      "100%|██████████| 100/100 [00:14<00:00,  6.81trial/s, best loss: 2.462318415899865]"
     ]
    },
    {
     "name": "stderr",
     "output_type": "stream",
     "text": [
      "2020-07-15 09:27:33 INFO     ...done\n"
     ]
    },
    {
     "name": "stdout",
     "output_type": "stream",
     "text": [
      "\n"
     ]
    }
   ],
   "source": [
    "TRIALS = Trials()\n",
    "logger.info(\"Start parameter optimization...\")\n",
    "\n",
    "\n",
    "with warnings.catch_warnings():\n",
    "    warnings.simplefilter(\"ignore\")\n",
    "    best = fmin(fn=objective,\n",
    "                space=space,\n",
    "                algo=tpe.suggest,\n",
    "                max_evals=100,\n",
    "                trials=TRIALS)\n",
    "logger.info(\"...done\")"
   ]
  },
  {
   "cell_type": "markdown",
   "metadata": {},
   "source": [
    "## Display the best run (based on validation loss)"
   ]
  },
  {
   "cell_type": "code",
   "execution_count": 108,
   "metadata": {},
   "outputs": [],
   "source": [
    "best_params = space_eval(space, best)"
   ]
  },
  {
   "cell_type": "code",
   "execution_count": 109,
   "metadata": {},
   "outputs": [
    {
     "data": {
      "text/plain": [
       "{'Base': DecisionTreeRegressor(criterion='friedman_mse', max_depth=4),\n",
       " 'learning_rate': 0.15626247925016507,\n",
       " 'minibatch_frac': 1.0}"
      ]
     },
     "execution_count": 109,
     "metadata": {},
     "output_type": "execute_result"
    }
   ],
   "source": [
    "best_params"
   ]
  },
  {
   "cell_type": "markdown",
   "metadata": {},
   "source": [
    "## Plot loss wrt a specific parameter"
   ]
  },
  {
   "cell_type": "code",
   "execution_count": 110,
   "metadata": {},
   "outputs": [],
   "source": [
    "def loss_plot(ft, trials):\n",
    "\n",
    "    print(\"Loss plot for parameter {}\".format(ft))\n",
    "    \n",
    "    _loss = list()\n",
    "    _ft = list()\n",
    "    \n",
    "    for t in trials.trials:\n",
    "        try:\n",
    "            if len(t['misc']['vals'][ft]) > 0:\n",
    "                _ft.append(t['misc']['vals'][ft][0])\n",
    "                _loss.append(t['result']['loss'])\n",
    "        except:\n",
    "            pass\n",
    "        \n",
    "    data = pd.DataFrame([_loss, _ft]).T\n",
    "    data.columns=['loss', ft]\n",
    "        \n",
    "    sns.lineplot(y='loss', x=ft, data=data)"
   ]
  },
  {
   "cell_type": "markdown",
   "metadata": {},
   "source": [
    "You can replace learning_rate below with any parameter you might be interested in from the space of parameters "
   ]
  },
  {
   "cell_type": "code",
   "execution_count": 111,
   "metadata": {},
   "outputs": [
    {
     "name": "stdout",
     "output_type": "stream",
     "text": [
      "Loss plot for parameter learning_rate\n"
     ]
    },
    {
     "data": {
      "image/png": "[encoded data removed]",
      "text/plain": [
       "<Figure size 432x288 with 1 Axes>"
      ]
     },
     "metadata": {
      "needs_background": "light"
     },
     "output_type": "display_data"
    }
   ],
   "source": [
    "loss_plot('learning_rate', TRIALS)"
   ]
  },
  {
   "cell_type": "markdown",
   "metadata": {},
   "source": [
    "## Train a final model\n",
    "Increasing the number of boosters by increasing n_estimators"
   ]
  },
  {
   "cell_type": "code",
   "execution_count": 112,
   "metadata": {},
   "outputs": [
    {
     "name": "stdout",
     "output_type": "stream",
     "text": [
      "[iter 0] loss=3.5985 val_loss=3.4948 scale=0.5000 norm=3.2975\n",
      "[iter 1] loss=3.4531 val_loss=3.4221 scale=0.5000 norm=3.0734\n",
      "[iter 2] loss=3.3794 val_loss=3.3681 scale=0.5000 norm=2.8746\n",
      "[iter 3] loss=3.3228 val_loss=3.2816 scale=1.0000 norm=5.3756\n",
      "[iter 4] loss=3.2270 val_loss=3.2027 scale=1.0000 norm=4.7141\n",
      "[iter 5] loss=3.1446 val_loss=3.1334 scale=1.0000 norm=4.1647\n",
      "[iter 6] loss=3.0705 val_loss=3.0678 scale=1.0000 norm=3.7306\n",
      "[iter 7] loss=2.9973 val_loss=3.0080 scale=1.0000 norm=3.3311\n",
      "[iter 8] loss=2.9277 val_loss=2.8873 scale=2.0000 norm=6.0302\n",
      "[iter 9] loss=2.7898 val_loss=2.7795 scale=2.0000 norm=4.9418\n",
      "[iter 10] loss=2.6611 val_loss=2.6833 scale=2.0000 norm=4.2073\n",
      "[iter 11] loss=2.5355 val_loss=2.6045 scale=2.0000 norm=3.7010\n",
      "[iter 12] loss=2.4163 val_loss=2.5368 scale=2.0000 norm=3.3475\n",
      "[iter 13] loss=2.2961 val_loss=2.5018 scale=2.0000 norm=3.0308\n",
      "[iter 14] loss=2.1843 val_loss=2.4809 scale=2.0000 norm=2.8158\n",
      "[iter 15] loss=2.0761 val_loss=2.5031 scale=2.0000 norm=2.6349\n",
      "== Early stopping achieved.\n",
      "== Best iteration / VAL 14 (val_loss=2.4809)\n"
     ]
    }
   ],
   "source": [
    "\n",
    "default_params = {\"n_estimators\":500,\n",
    "                  \"verbose_eval\":1,\n",
    "                  \"random_state\":1}\n",
    "\n",
    "best_params.update(default_params)\n",
    "\n",
    "ngb = NGBRegressor(**best_params).fit(X_train,y_train,X_val=X_validation, Y_val=y_validation, early_stopping_rounds=2)"
   ]
  },
  {
   "cell_type": "markdown",
   "metadata": {},
   "source": [
    "## Evaluate on a test set"
   ]
  },
  {
   "cell_type": "code",
   "execution_count": 113,
   "metadata": {},
   "outputs": [],
   "source": [
    "Y_pred = ngb.predict(X_test)\n",
    "Y_dist = ngb.pred_dist(X_test)"
   ]
  },
  {
   "cell_type": "code",
   "execution_count": 114,
   "metadata": {},
   "outputs": [
    {
     "name": "stderr",
     "output_type": "stream",
     "text": [
      "2020-07-15 09:27:34 INFO     Median Absolute Error = 1.9598622635748058\n",
      "2020-07-15 09:27:34 INFO     Mean Absolute Error = 2.3571482250981703\n"
     ]
    }
   ],
   "source": [
    "Mae = median_absolute_error(y_test, Y_pred)\n",
    "logger.info(f\"Median Absolute Error = {Mae}\")\n",
    "\n",
    "mea = mean_absolute_error(y_test, Y_pred)\n",
    "logger.info(f\"Mean Absolute Error = {mea}\")"
   ]
  },
  {
   "cell_type": "code",
   "execution_count": 116,
   "metadata": {},
   "outputs": [
    {
     "data": {
      "text/plain": [
       "Text(336.9714285714286, 0.5, 'Predictions [Hours]')"
      ]
     },
     "execution_count": 116,
     "metadata": {},
     "output_type": "execute_result"
    },
    {
     "data": {
      "image/png": "[encoded data removed]",
      "text/plain": [
       "<Figure size 432x432 with 3 Axes>"
      ]
     },
     "metadata": {
      "needs_background": "light"
     },
     "output_type": "display_data"
    }
   ],
   "source": [
    "samp_low = 0\n",
    "samp_high = 60\n",
    "\n",
    "# a = plt.axes(aspect=\"equal\")\n",
    "sns.jointplot(y_test[(y_test > samp_low) & (y_test < samp_high)], Y_pred[(y_test > samp_low) & (y_test < samp_high)], kind=\"hexbin\", bins=\"log\", xlim=(samp_low,samp_high), ylim=(samp_low, samp_high))\n",
    "# plt.scatter(y_samp, y_pred)\n",
    "plt.xlabel(\"True Values [Hours]\")\n",
    "plt.ylabel(\"Predictions [Hours]\")"
   ]
  },
  {
   "cell_type": "code",
   "execution_count": null,
   "metadata": {},
   "outputs": [],
   "source": []
  }
 ],
 "metadata": {
  "kernelspec": {
   "display_name": "Python (ngboost)",
   "language": "python",
   "name": "ngboost"
  },
  "language_info": {
   "codemirror_mode": {
    "name": "ipython",
    "version": 3
   },
   "file_extension": ".py",
   "mimetype": "text/x-python",
   "name": "python",
   "nbconvert_exporter": "python",
   "pygments_lexer": "ipython3",
   "version": "3.6.10"
  }
 },
 "nbformat": 4,
 "nbformat_minor": 4
}
